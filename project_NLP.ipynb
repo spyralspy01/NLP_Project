{
  "nbformat": 4,
  "nbformat_minor": 0,
  "metadata": {
    "colab": {
      "provenance": []
    },
    "kernelspec": {
      "name": "python3",
      "display_name": "Python 3"
    },
    "language_info": {
      "name": "python"
    },
    "gpuClass": "standard",
    "widgets": {
      "application/vnd.jupyter.widget-state+json": {
        "f7691f02cc6f4f36bdaa01d779fa0924": {
          "model_module": "@jupyter-widgets/controls",
          "model_name": "HBoxModel",
          "model_module_version": "1.5.0",
          "state": {
            "_dom_classes": [],
            "_model_module": "@jupyter-widgets/controls",
            "_model_module_version": "1.5.0",
            "_model_name": "HBoxModel",
            "_view_count": null,
            "_view_module": "@jupyter-widgets/controls",
            "_view_module_version": "1.5.0",
            "_view_name": "HBoxView",
            "box_style": "",
            "children": [
              "IPY_MODEL_c8a12246aad04ec3a45aee6377a8a688",
              "IPY_MODEL_6d78bd647750444db7ea65b70b728d71",
              "IPY_MODEL_746aae31653f4ad69515c76b316860ac"
            ],
            "layout": "IPY_MODEL_a0a38eebe54f41ffb6e2a073b35ac4c8"
          }
        },
        "c8a12246aad04ec3a45aee6377a8a688": {
          "model_module": "@jupyter-widgets/controls",
          "model_name": "HTMLModel",
          "model_module_version": "1.5.0",
          "state": {
            "_dom_classes": [],
            "_model_module": "@jupyter-widgets/controls",
            "_model_module_version": "1.5.0",
            "_model_name": "HTMLModel",
            "_view_count": null,
            "_view_module": "@jupyter-widgets/controls",
            "_view_module_version": "1.5.0",
            "_view_name": "HTMLView",
            "description": "",
            "description_tooltip": null,
            "layout": "IPY_MODEL_6ff80adc01ca453e9e0f917fe1819043",
            "placeholder": "​",
            "style": "IPY_MODEL_b6152d7bfaac4811883052d02ed7c178",
            "value": "Downloading: 100%"
          }
        },
        "6d78bd647750444db7ea65b70b728d71": {
          "model_module": "@jupyter-widgets/controls",
          "model_name": "FloatProgressModel",
          "model_module_version": "1.5.0",
          "state": {
            "_dom_classes": [],
            "_model_module": "@jupyter-widgets/controls",
            "_model_module_version": "1.5.0",
            "_model_name": "FloatProgressModel",
            "_view_count": null,
            "_view_module": "@jupyter-widgets/controls",
            "_view_module_version": "1.5.0",
            "_view_name": "ProgressView",
            "bar_style": "success",
            "description": "",
            "description_tooltip": null,
            "layout": "IPY_MODEL_147be5e4851a46aeab03e0adb5975f98",
            "max": 1392,
            "min": 0,
            "orientation": "horizontal",
            "style": "IPY_MODEL_af6c1f8ca7e541f78fa0e379ac46a5af",
            "value": 1392
          }
        },
        "746aae31653f4ad69515c76b316860ac": {
          "model_module": "@jupyter-widgets/controls",
          "model_name": "HTMLModel",
          "model_module_version": "1.5.0",
          "state": {
            "_dom_classes": [],
            "_model_module": "@jupyter-widgets/controls",
            "_model_module_version": "1.5.0",
            "_model_name": "HTMLModel",
            "_view_count": null,
            "_view_module": "@jupyter-widgets/controls",
            "_view_module_version": "1.5.0",
            "_view_name": "HTMLView",
            "description": "",
            "description_tooltip": null,
            "layout": "IPY_MODEL_c6596b95d53848a098d49a9813fdcbae",
            "placeholder": "​",
            "style": "IPY_MODEL_88c23c711e2047c5aafb36a146e0fe3c",
            "value": " 1.39k/1.39k [00:00&lt;00:00, 48.2kB/s]"
          }
        },
        "a0a38eebe54f41ffb6e2a073b35ac4c8": {
          "model_module": "@jupyter-widgets/base",
          "model_name": "LayoutModel",
          "model_module_version": "1.2.0",
          "state": {
            "_model_module": "@jupyter-widgets/base",
            "_model_module_version": "1.2.0",
            "_model_name": "LayoutModel",
            "_view_count": null,
            "_view_module": "@jupyter-widgets/base",
            "_view_module_version": "1.2.0",
            "_view_name": "LayoutView",
            "align_content": null,
            "align_items": null,
            "align_self": null,
            "border": null,
            "bottom": null,
            "display": null,
            "flex": null,
            "flex_flow": null,
            "grid_area": null,
            "grid_auto_columns": null,
            "grid_auto_flow": null,
            "grid_auto_rows": null,
            "grid_column": null,
            "grid_gap": null,
            "grid_row": null,
            "grid_template_areas": null,
            "grid_template_columns": null,
            "grid_template_rows": null,
            "height": null,
            "justify_content": null,
            "justify_items": null,
            "left": null,
            "margin": null,
            "max_height": null,
            "max_width": null,
            "min_height": null,
            "min_width": null,
            "object_fit": null,
            "object_position": null,
            "order": null,
            "overflow": null,
            "overflow_x": null,
            "overflow_y": null,
            "padding": null,
            "right": null,
            "top": null,
            "visibility": null,
            "width": null
          }
        },
        "6ff80adc01ca453e9e0f917fe1819043": {
          "model_module": "@jupyter-widgets/base",
          "model_name": "LayoutModel",
          "model_module_version": "1.2.0",
          "state": {
            "_model_module": "@jupyter-widgets/base",
            "_model_module_version": "1.2.0",
            "_model_name": "LayoutModel",
            "_view_count": null,
            "_view_module": "@jupyter-widgets/base",
            "_view_module_version": "1.2.0",
            "_view_name": "LayoutView",
            "align_content": null,
            "align_items": null,
            "align_self": null,
            "border": null,
            "bottom": null,
            "display": null,
            "flex": null,
            "flex_flow": null,
            "grid_area": null,
            "grid_auto_columns": null,
            "grid_auto_flow": null,
            "grid_auto_rows": null,
            "grid_column": null,
            "grid_gap": null,
            "grid_row": null,
            "grid_template_areas": null,
            "grid_template_columns": null,
            "grid_template_rows": null,
            "height": null,
            "justify_content": null,
            "justify_items": null,
            "left": null,
            "margin": null,
            "max_height": null,
            "max_width": null,
            "min_height": null,
            "min_width": null,
            "object_fit": null,
            "object_position": null,
            "order": null,
            "overflow": null,
            "overflow_x": null,
            "overflow_y": null,
            "padding": null,
            "right": null,
            "top": null,
            "visibility": null,
            "width": null
          }
        },
        "b6152d7bfaac4811883052d02ed7c178": {
          "model_module": "@jupyter-widgets/controls",
          "model_name": "DescriptionStyleModel",
          "model_module_version": "1.5.0",
          "state": {
            "_model_module": "@jupyter-widgets/controls",
            "_model_module_version": "1.5.0",
            "_model_name": "DescriptionStyleModel",
            "_view_count": null,
            "_view_module": "@jupyter-widgets/base",
            "_view_module_version": "1.2.0",
            "_view_name": "StyleView",
            "description_width": ""
          }
        },
        "147be5e4851a46aeab03e0adb5975f98": {
          "model_module": "@jupyter-widgets/base",
          "model_name": "LayoutModel",
          "model_module_version": "1.2.0",
          "state": {
            "_model_module": "@jupyter-widgets/base",
            "_model_module_version": "1.2.0",
            "_model_name": "LayoutModel",
            "_view_count": null,
            "_view_module": "@jupyter-widgets/base",
            "_view_module_version": "1.2.0",
            "_view_name": "LayoutView",
            "align_content": null,
            "align_items": null,
            "align_self": null,
            "border": null,
            "bottom": null,
            "display": null,
            "flex": null,
            "flex_flow": null,
            "grid_area": null,
            "grid_auto_columns": null,
            "grid_auto_flow": null,
            "grid_auto_rows": null,
            "grid_column": null,
            "grid_gap": null,
            "grid_row": null,
            "grid_template_areas": null,
            "grid_template_columns": null,
            "grid_template_rows": null,
            "height": null,
            "justify_content": null,
            "justify_items": null,
            "left": null,
            "margin": null,
            "max_height": null,
            "max_width": null,
            "min_height": null,
            "min_width": null,
            "object_fit": null,
            "object_position": null,
            "order": null,
            "overflow": null,
            "overflow_x": null,
            "overflow_y": null,
            "padding": null,
            "right": null,
            "top": null,
            "visibility": null,
            "width": null
          }
        },
        "af6c1f8ca7e541f78fa0e379ac46a5af": {
          "model_module": "@jupyter-widgets/controls",
          "model_name": "ProgressStyleModel",
          "model_module_version": "1.5.0",
          "state": {
            "_model_module": "@jupyter-widgets/controls",
            "_model_module_version": "1.5.0",
            "_model_name": "ProgressStyleModel",
            "_view_count": null,
            "_view_module": "@jupyter-widgets/base",
            "_view_module_version": "1.2.0",
            "_view_name": "StyleView",
            "bar_color": null,
            "description_width": ""
          }
        },
        "c6596b95d53848a098d49a9813fdcbae": {
          "model_module": "@jupyter-widgets/base",
          "model_name": "LayoutModel",
          "model_module_version": "1.2.0",
          "state": {
            "_model_module": "@jupyter-widgets/base",
            "_model_module_version": "1.2.0",
            "_model_name": "LayoutModel",
            "_view_count": null,
            "_view_module": "@jupyter-widgets/base",
            "_view_module_version": "1.2.0",
            "_view_name": "LayoutView",
            "align_content": null,
            "align_items": null,
            "align_self": null,
            "border": null,
            "bottom": null,
            "display": null,
            "flex": null,
            "flex_flow": null,
            "grid_area": null,
            "grid_auto_columns": null,
            "grid_auto_flow": null,
            "grid_auto_rows": null,
            "grid_column": null,
            "grid_gap": null,
            "grid_row": null,
            "grid_template_areas": null,
            "grid_template_columns": null,
            "grid_template_rows": null,
            "height": null,
            "justify_content": null,
            "justify_items": null,
            "left": null,
            "margin": null,
            "max_height": null,
            "max_width": null,
            "min_height": null,
            "min_width": null,
            "object_fit": null,
            "object_position": null,
            "order": null,
            "overflow": null,
            "overflow_x": null,
            "overflow_y": null,
            "padding": null,
            "right": null,
            "top": null,
            "visibility": null,
            "width": null
          }
        },
        "88c23c711e2047c5aafb36a146e0fe3c": {
          "model_module": "@jupyter-widgets/controls",
          "model_name": "DescriptionStyleModel",
          "model_module_version": "1.5.0",
          "state": {
            "_model_module": "@jupyter-widgets/controls",
            "_model_module_version": "1.5.0",
            "_model_name": "DescriptionStyleModel",
            "_view_count": null,
            "_view_module": "@jupyter-widgets/base",
            "_view_module_version": "1.2.0",
            "_view_name": "StyleView",
            "description_width": ""
          }
        },
        "7a974431486847ec9b26811bb0a0a42d": {
          "model_module": "@jupyter-widgets/controls",
          "model_name": "HBoxModel",
          "model_module_version": "1.5.0",
          "state": {
            "_dom_classes": [],
            "_model_module": "@jupyter-widgets/controls",
            "_model_module_version": "1.5.0",
            "_model_name": "HBoxModel",
            "_view_count": null,
            "_view_module": "@jupyter-widgets/controls",
            "_view_module_version": "1.5.0",
            "_view_name": "HBoxView",
            "box_style": "",
            "children": [
              "IPY_MODEL_14b2b5688970443abffefd291a56b9e0",
              "IPY_MODEL_29733d2fe2da49c0bedc5479b7955e36",
              "IPY_MODEL_d668a38f655443ac8300431ede29eb83"
            ],
            "layout": "IPY_MODEL_4830fcce4bd34046bfb061f4daa934e3"
          }
        },
        "14b2b5688970443abffefd291a56b9e0": {
          "model_module": "@jupyter-widgets/controls",
          "model_name": "HTMLModel",
          "model_module_version": "1.5.0",
          "state": {
            "_dom_classes": [],
            "_model_module": "@jupyter-widgets/controls",
            "_model_module_version": "1.5.0",
            "_model_name": "HTMLModel",
            "_view_count": null,
            "_view_module": "@jupyter-widgets/controls",
            "_view_module_version": "1.5.0",
            "_view_name": "HTMLView",
            "description": "",
            "description_tooltip": null,
            "layout": "IPY_MODEL_8cc375f0932c49bb9444a5aca81176be",
            "placeholder": "​",
            "style": "IPY_MODEL_ae6c3901ed1b4651b37bb188b5c5fbd7",
            "value": "Downloading: 100%"
          }
        },
        "29733d2fe2da49c0bedc5479b7955e36": {
          "model_module": "@jupyter-widgets/controls",
          "model_name": "FloatProgressModel",
          "model_module_version": "1.5.0",
          "state": {
            "_dom_classes": [],
            "_model_module": "@jupyter-widgets/controls",
            "_model_module_version": "1.5.0",
            "_model_name": "FloatProgressModel",
            "_view_count": null,
            "_view_module": "@jupyter-widgets/controls",
            "_view_module_version": "1.5.0",
            "_view_name": "ProgressView",
            "bar_style": "success",
            "description": "",
            "description_tooltip": null,
            "layout": "IPY_MODEL_2d7f7c9be65941af930f188c08704392",
            "max": 2275329241,
            "min": 0,
            "orientation": "horizontal",
            "style": "IPY_MODEL_9af17dbcad8b456d89aeb7866efcb5e0",
            "value": 2275329241
          }
        },
        "d668a38f655443ac8300431ede29eb83": {
          "model_module": "@jupyter-widgets/controls",
          "model_name": "HTMLModel",
          "model_module_version": "1.5.0",
          "state": {
            "_dom_classes": [],
            "_model_module": "@jupyter-widgets/controls",
            "_model_module_version": "1.5.0",
            "_model_name": "HTMLModel",
            "_view_count": null,
            "_view_module": "@jupyter-widgets/controls",
            "_view_module_version": "1.5.0",
            "_view_name": "HTMLView",
            "description": "",
            "description_tooltip": null,
            "layout": "IPY_MODEL_c0359d83caf941ee907cfdd8506e0ea0",
            "placeholder": "​",
            "style": "IPY_MODEL_30521f0a68c84d72b885eb354bab6b21",
            "value": " 2.28G/2.28G [00:40&lt;00:00, 80.2MB/s]"
          }
        },
        "4830fcce4bd34046bfb061f4daa934e3": {
          "model_module": "@jupyter-widgets/base",
          "model_name": "LayoutModel",
          "model_module_version": "1.2.0",
          "state": {
            "_model_module": "@jupyter-widgets/base",
            "_model_module_version": "1.2.0",
            "_model_name": "LayoutModel",
            "_view_count": null,
            "_view_module": "@jupyter-widgets/base",
            "_view_module_version": "1.2.0",
            "_view_name": "LayoutView",
            "align_content": null,
            "align_items": null,
            "align_self": null,
            "border": null,
            "bottom": null,
            "display": null,
            "flex": null,
            "flex_flow": null,
            "grid_area": null,
            "grid_auto_columns": null,
            "grid_auto_flow": null,
            "grid_auto_rows": null,
            "grid_column": null,
            "grid_gap": null,
            "grid_row": null,
            "grid_template_areas": null,
            "grid_template_columns": null,
            "grid_template_rows": null,
            "height": null,
            "justify_content": null,
            "justify_items": null,
            "left": null,
            "margin": null,
            "max_height": null,
            "max_width": null,
            "min_height": null,
            "min_width": null,
            "object_fit": null,
            "object_position": null,
            "order": null,
            "overflow": null,
            "overflow_x": null,
            "overflow_y": null,
            "padding": null,
            "right": null,
            "top": null,
            "visibility": null,
            "width": null
          }
        },
        "8cc375f0932c49bb9444a5aca81176be": {
          "model_module": "@jupyter-widgets/base",
          "model_name": "LayoutModel",
          "model_module_version": "1.2.0",
          "state": {
            "_model_module": "@jupyter-widgets/base",
            "_model_module_version": "1.2.0",
            "_model_name": "LayoutModel",
            "_view_count": null,
            "_view_module": "@jupyter-widgets/base",
            "_view_module_version": "1.2.0",
            "_view_name": "LayoutView",
            "align_content": null,
            "align_items": null,
            "align_self": null,
            "border": null,
            "bottom": null,
            "display": null,
            "flex": null,
            "flex_flow": null,
            "grid_area": null,
            "grid_auto_columns": null,
            "grid_auto_flow": null,
            "grid_auto_rows": null,
            "grid_column": null,
            "grid_gap": null,
            "grid_row": null,
            "grid_template_areas": null,
            "grid_template_columns": null,
            "grid_template_rows": null,
            "height": null,
            "justify_content": null,
            "justify_items": null,
            "left": null,
            "margin": null,
            "max_height": null,
            "max_width": null,
            "min_height": null,
            "min_width": null,
            "object_fit": null,
            "object_position": null,
            "order": null,
            "overflow": null,
            "overflow_x": null,
            "overflow_y": null,
            "padding": null,
            "right": null,
            "top": null,
            "visibility": null,
            "width": null
          }
        },
        "ae6c3901ed1b4651b37bb188b5c5fbd7": {
          "model_module": "@jupyter-widgets/controls",
          "model_name": "DescriptionStyleModel",
          "model_module_version": "1.5.0",
          "state": {
            "_model_module": "@jupyter-widgets/controls",
            "_model_module_version": "1.5.0",
            "_model_name": "DescriptionStyleModel",
            "_view_count": null,
            "_view_module": "@jupyter-widgets/base",
            "_view_module_version": "1.2.0",
            "_view_name": "StyleView",
            "description_width": ""
          }
        },
        "2d7f7c9be65941af930f188c08704392": {
          "model_module": "@jupyter-widgets/base",
          "model_name": "LayoutModel",
          "model_module_version": "1.2.0",
          "state": {
            "_model_module": "@jupyter-widgets/base",
            "_model_module_version": "1.2.0",
            "_model_name": "LayoutModel",
            "_view_count": null,
            "_view_module": "@jupyter-widgets/base",
            "_view_module_version": "1.2.0",
            "_view_name": "LayoutView",
            "align_content": null,
            "align_items": null,
            "align_self": null,
            "border": null,
            "bottom": null,
            "display": null,
            "flex": null,
            "flex_flow": null,
            "grid_area": null,
            "grid_auto_columns": null,
            "grid_auto_flow": null,
            "grid_auto_rows": null,
            "grid_column": null,
            "grid_gap": null,
            "grid_row": null,
            "grid_template_areas": null,
            "grid_template_columns": null,
            "grid_template_rows": null,
            "height": null,
            "justify_content": null,
            "justify_items": null,
            "left": null,
            "margin": null,
            "max_height": null,
            "max_width": null,
            "min_height": null,
            "min_width": null,
            "object_fit": null,
            "object_position": null,
            "order": null,
            "overflow": null,
            "overflow_x": null,
            "overflow_y": null,
            "padding": null,
            "right": null,
            "top": null,
            "visibility": null,
            "width": null
          }
        },
        "9af17dbcad8b456d89aeb7866efcb5e0": {
          "model_module": "@jupyter-widgets/controls",
          "model_name": "ProgressStyleModel",
          "model_module_version": "1.5.0",
          "state": {
            "_model_module": "@jupyter-widgets/controls",
            "_model_module_version": "1.5.0",
            "_model_name": "ProgressStyleModel",
            "_view_count": null,
            "_view_module": "@jupyter-widgets/base",
            "_view_module_version": "1.2.0",
            "_view_name": "StyleView",
            "bar_color": null,
            "description_width": ""
          }
        },
        "c0359d83caf941ee907cfdd8506e0ea0": {
          "model_module": "@jupyter-widgets/base",
          "model_name": "LayoutModel",
          "model_module_version": "1.2.0",
          "state": {
            "_model_module": "@jupyter-widgets/base",
            "_model_module_version": "1.2.0",
            "_model_name": "LayoutModel",
            "_view_count": null,
            "_view_module": "@jupyter-widgets/base",
            "_view_module_version": "1.2.0",
            "_view_name": "LayoutView",
            "align_content": null,
            "align_items": null,
            "align_self": null,
            "border": null,
            "bottom": null,
            "display": null,
            "flex": null,
            "flex_flow": null,
            "grid_area": null,
            "grid_auto_columns": null,
            "grid_auto_flow": null,
            "grid_auto_rows": null,
            "grid_column": null,
            "grid_gap": null,
            "grid_row": null,
            "grid_template_areas": null,
            "grid_template_columns": null,
            "grid_template_rows": null,
            "height": null,
            "justify_content": null,
            "justify_items": null,
            "left": null,
            "margin": null,
            "max_height": null,
            "max_width": null,
            "min_height": null,
            "min_width": null,
            "object_fit": null,
            "object_position": null,
            "order": null,
            "overflow": null,
            "overflow_x": null,
            "overflow_y": null,
            "padding": null,
            "right": null,
            "top": null,
            "visibility": null,
            "width": null
          }
        },
        "30521f0a68c84d72b885eb354bab6b21": {
          "model_module": "@jupyter-widgets/controls",
          "model_name": "DescriptionStyleModel",
          "model_module_version": "1.5.0",
          "state": {
            "_model_module": "@jupyter-widgets/controls",
            "_model_module_version": "1.5.0",
            "_model_name": "DescriptionStyleModel",
            "_view_count": null,
            "_view_module": "@jupyter-widgets/base",
            "_view_module_version": "1.2.0",
            "_view_name": "StyleView",
            "description_width": ""
          }
        },
        "a883343aa0794460a21cde53ee2599b1": {
          "model_module": "@jupyter-widgets/controls",
          "model_name": "HBoxModel",
          "model_module_version": "1.5.0",
          "state": {
            "_dom_classes": [],
            "_model_module": "@jupyter-widgets/controls",
            "_model_module_version": "1.5.0",
            "_model_name": "HBoxModel",
            "_view_count": null,
            "_view_module": "@jupyter-widgets/controls",
            "_view_module_version": "1.5.0",
            "_view_name": "HBoxView",
            "box_style": "",
            "children": [
              "IPY_MODEL_480715d1b7364bc590b0b5431fa92af0",
              "IPY_MODEL_6eadff924461465b96ce31ba83eac3d6",
              "IPY_MODEL_b2c158c776eb4b489ff6cbff46a96754"
            ],
            "layout": "IPY_MODEL_f6207af7da3c4b9c9dbfa61962551363"
          }
        },
        "480715d1b7364bc590b0b5431fa92af0": {
          "model_module": "@jupyter-widgets/controls",
          "model_name": "HTMLModel",
          "model_module_version": "1.5.0",
          "state": {
            "_dom_classes": [],
            "_model_module": "@jupyter-widgets/controls",
            "_model_module_version": "1.5.0",
            "_model_name": "HTMLModel",
            "_view_count": null,
            "_view_module": "@jupyter-widgets/controls",
            "_view_module_version": "1.5.0",
            "_view_name": "HTMLView",
            "description": "",
            "description_tooltip": null,
            "layout": "IPY_MODEL_aa47dcfcea16476499d847ba78adb40d",
            "placeholder": "​",
            "style": "IPY_MODEL_152f0bbd0dce487a98629887ea5a3c29",
            "value": "Downloading: 100%"
          }
        },
        "6eadff924461465b96ce31ba83eac3d6": {
          "model_module": "@jupyter-widgets/controls",
          "model_name": "FloatProgressModel",
          "model_module_version": "1.5.0",
          "state": {
            "_dom_classes": [],
            "_model_module": "@jupyter-widgets/controls",
            "_model_module_version": "1.5.0",
            "_model_name": "FloatProgressModel",
            "_view_count": null,
            "_view_module": "@jupyter-widgets/controls",
            "_view_module_version": "1.5.0",
            "_view_name": "ProgressView",
            "bar_style": "success",
            "description": "",
            "description_tooltip": null,
            "layout": "IPY_MODEL_2b42924c016a4f4e8a2ec0a9451e8559",
            "max": 87,
            "min": 0,
            "orientation": "horizontal",
            "style": "IPY_MODEL_8233f9431806410ba391f52b90abd5b9",
            "value": 87
          }
        },
        "b2c158c776eb4b489ff6cbff46a96754": {
          "model_module": "@jupyter-widgets/controls",
          "model_name": "HTMLModel",
          "model_module_version": "1.5.0",
          "state": {
            "_dom_classes": [],
            "_model_module": "@jupyter-widgets/controls",
            "_model_module_version": "1.5.0",
            "_model_name": "HTMLModel",
            "_view_count": null,
            "_view_module": "@jupyter-widgets/controls",
            "_view_module_version": "1.5.0",
            "_view_name": "HTMLView",
            "description": "",
            "description_tooltip": null,
            "layout": "IPY_MODEL_76f1f4c249e9456286482843816c7f44",
            "placeholder": "​",
            "style": "IPY_MODEL_e1ffff6e72b340ae840a40dac79225ca",
            "value": " 87.0/87.0 [00:00&lt;00:00, 1.72kB/s]"
          }
        },
        "f6207af7da3c4b9c9dbfa61962551363": {
          "model_module": "@jupyter-widgets/base",
          "model_name": "LayoutModel",
          "model_module_version": "1.2.0",
          "state": {
            "_model_module": "@jupyter-widgets/base",
            "_model_module_version": "1.2.0",
            "_model_name": "LayoutModel",
            "_view_count": null,
            "_view_module": "@jupyter-widgets/base",
            "_view_module_version": "1.2.0",
            "_view_name": "LayoutView",
            "align_content": null,
            "align_items": null,
            "align_self": null,
            "border": null,
            "bottom": null,
            "display": null,
            "flex": null,
            "flex_flow": null,
            "grid_area": null,
            "grid_auto_columns": null,
            "grid_auto_flow": null,
            "grid_auto_rows": null,
            "grid_column": null,
            "grid_gap": null,
            "grid_row": null,
            "grid_template_areas": null,
            "grid_template_columns": null,
            "grid_template_rows": null,
            "height": null,
            "justify_content": null,
            "justify_items": null,
            "left": null,
            "margin": null,
            "max_height": null,
            "max_width": null,
            "min_height": null,
            "min_width": null,
            "object_fit": null,
            "object_position": null,
            "order": null,
            "overflow": null,
            "overflow_x": null,
            "overflow_y": null,
            "padding": null,
            "right": null,
            "top": null,
            "visibility": null,
            "width": null
          }
        },
        "aa47dcfcea16476499d847ba78adb40d": {
          "model_module": "@jupyter-widgets/base",
          "model_name": "LayoutModel",
          "model_module_version": "1.2.0",
          "state": {
            "_model_module": "@jupyter-widgets/base",
            "_model_module_version": "1.2.0",
            "_model_name": "LayoutModel",
            "_view_count": null,
            "_view_module": "@jupyter-widgets/base",
            "_view_module_version": "1.2.0",
            "_view_name": "LayoutView",
            "align_content": null,
            "align_items": null,
            "align_self": null,
            "border": null,
            "bottom": null,
            "display": null,
            "flex": null,
            "flex_flow": null,
            "grid_area": null,
            "grid_auto_columns": null,
            "grid_auto_flow": null,
            "grid_auto_rows": null,
            "grid_column": null,
            "grid_gap": null,
            "grid_row": null,
            "grid_template_areas": null,
            "grid_template_columns": null,
            "grid_template_rows": null,
            "height": null,
            "justify_content": null,
            "justify_items": null,
            "left": null,
            "margin": null,
            "max_height": null,
            "max_width": null,
            "min_height": null,
            "min_width": null,
            "object_fit": null,
            "object_position": null,
            "order": null,
            "overflow": null,
            "overflow_x": null,
            "overflow_y": null,
            "padding": null,
            "right": null,
            "top": null,
            "visibility": null,
            "width": null
          }
        },
        "152f0bbd0dce487a98629887ea5a3c29": {
          "model_module": "@jupyter-widgets/controls",
          "model_name": "DescriptionStyleModel",
          "model_module_version": "1.5.0",
          "state": {
            "_model_module": "@jupyter-widgets/controls",
            "_model_module_version": "1.5.0",
            "_model_name": "DescriptionStyleModel",
            "_view_count": null,
            "_view_module": "@jupyter-widgets/base",
            "_view_module_version": "1.2.0",
            "_view_name": "StyleView",
            "description_width": ""
          }
        },
        "2b42924c016a4f4e8a2ec0a9451e8559": {
          "model_module": "@jupyter-widgets/base",
          "model_name": "LayoutModel",
          "model_module_version": "1.2.0",
          "state": {
            "_model_module": "@jupyter-widgets/base",
            "_model_module_version": "1.2.0",
            "_model_name": "LayoutModel",
            "_view_count": null,
            "_view_module": "@jupyter-widgets/base",
            "_view_module_version": "1.2.0",
            "_view_name": "LayoutView",
            "align_content": null,
            "align_items": null,
            "align_self": null,
            "border": null,
            "bottom": null,
            "display": null,
            "flex": null,
            "flex_flow": null,
            "grid_area": null,
            "grid_auto_columns": null,
            "grid_auto_flow": null,
            "grid_auto_rows": null,
            "grid_column": null,
            "grid_gap": null,
            "grid_row": null,
            "grid_template_areas": null,
            "grid_template_columns": null,
            "grid_template_rows": null,
            "height": null,
            "justify_content": null,
            "justify_items": null,
            "left": null,
            "margin": null,
            "max_height": null,
            "max_width": null,
            "min_height": null,
            "min_width": null,
            "object_fit": null,
            "object_position": null,
            "order": null,
            "overflow": null,
            "overflow_x": null,
            "overflow_y": null,
            "padding": null,
            "right": null,
            "top": null,
            "visibility": null,
            "width": null
          }
        },
        "8233f9431806410ba391f52b90abd5b9": {
          "model_module": "@jupyter-widgets/controls",
          "model_name": "ProgressStyleModel",
          "model_module_version": "1.5.0",
          "state": {
            "_model_module": "@jupyter-widgets/controls",
            "_model_module_version": "1.5.0",
            "_model_name": "ProgressStyleModel",
            "_view_count": null,
            "_view_module": "@jupyter-widgets/base",
            "_view_module_version": "1.2.0",
            "_view_name": "StyleView",
            "bar_color": null,
            "description_width": ""
          }
        },
        "76f1f4c249e9456286482843816c7f44": {
          "model_module": "@jupyter-widgets/base",
          "model_name": "LayoutModel",
          "model_module_version": "1.2.0",
          "state": {
            "_model_module": "@jupyter-widgets/base",
            "_model_module_version": "1.2.0",
            "_model_name": "LayoutModel",
            "_view_count": null,
            "_view_module": "@jupyter-widgets/base",
            "_view_module_version": "1.2.0",
            "_view_name": "LayoutView",
            "align_content": null,
            "align_items": null,
            "align_self": null,
            "border": null,
            "bottom": null,
            "display": null,
            "flex": null,
            "flex_flow": null,
            "grid_area": null,
            "grid_auto_columns": null,
            "grid_auto_flow": null,
            "grid_auto_rows": null,
            "grid_column": null,
            "grid_gap": null,
            "grid_row": null,
            "grid_template_areas": null,
            "grid_template_columns": null,
            "grid_template_rows": null,
            "height": null,
            "justify_content": null,
            "justify_items": null,
            "left": null,
            "margin": null,
            "max_height": null,
            "max_width": null,
            "min_height": null,
            "min_width": null,
            "object_fit": null,
            "object_position": null,
            "order": null,
            "overflow": null,
            "overflow_x": null,
            "overflow_y": null,
            "padding": null,
            "right": null,
            "top": null,
            "visibility": null,
            "width": null
          }
        },
        "e1ffff6e72b340ae840a40dac79225ca": {
          "model_module": "@jupyter-widgets/controls",
          "model_name": "DescriptionStyleModel",
          "model_module_version": "1.5.0",
          "state": {
            "_model_module": "@jupyter-widgets/controls",
            "_model_module_version": "1.5.0",
            "_model_name": "DescriptionStyleModel",
            "_view_count": null,
            "_view_module": "@jupyter-widgets/base",
            "_view_module_version": "1.2.0",
            "_view_name": "StyleView",
            "description_width": ""
          }
        },
        "98ba4dd3f28c4d44bc6d9dfcabcda1fd": {
          "model_module": "@jupyter-widgets/controls",
          "model_name": "HBoxModel",
          "model_module_version": "1.5.0",
          "state": {
            "_dom_classes": [],
            "_model_module": "@jupyter-widgets/controls",
            "_model_module_version": "1.5.0",
            "_model_name": "HBoxModel",
            "_view_count": null,
            "_view_module": "@jupyter-widgets/controls",
            "_view_module_version": "1.5.0",
            "_view_name": "HBoxView",
            "box_style": "",
            "children": [
              "IPY_MODEL_bb5f3069978b49af8b1907600af1f69e",
              "IPY_MODEL_48ca37e1f0fc49d8a8f3fd9bebe15233",
              "IPY_MODEL_94b960b01ca24651a382e13f93f77e21"
            ],
            "layout": "IPY_MODEL_5ea87e19670543e190bec872fe84931f"
          }
        },
        "bb5f3069978b49af8b1907600af1f69e": {
          "model_module": "@jupyter-widgets/controls",
          "model_name": "HTMLModel",
          "model_module_version": "1.5.0",
          "state": {
            "_dom_classes": [],
            "_model_module": "@jupyter-widgets/controls",
            "_model_module_version": "1.5.0",
            "_model_name": "HTMLModel",
            "_view_count": null,
            "_view_module": "@jupyter-widgets/controls",
            "_view_module_version": "1.5.0",
            "_view_name": "HTMLView",
            "description": "",
            "description_tooltip": null,
            "layout": "IPY_MODEL_382ad097d3e64942af7b68ab3049b1f6",
            "placeholder": "​",
            "style": "IPY_MODEL_2aaaf69a05d64792bdffae1e51cae17b",
            "value": "Downloading: 100%"
          }
        },
        "48ca37e1f0fc49d8a8f3fd9bebe15233": {
          "model_module": "@jupyter-widgets/controls",
          "model_name": "FloatProgressModel",
          "model_module_version": "1.5.0",
          "state": {
            "_dom_classes": [],
            "_model_module": "@jupyter-widgets/controls",
            "_model_module_version": "1.5.0",
            "_model_name": "FloatProgressModel",
            "_view_count": null,
            "_view_module": "@jupyter-widgets/controls",
            "_view_module_version": "1.5.0",
            "_view_name": "ProgressView",
            "bar_style": "success",
            "description": "",
            "description_tooltip": null,
            "layout": "IPY_MODEL_53ede7d3f55142a8ad11ecb858059851",
            "max": 1912529,
            "min": 0,
            "orientation": "horizontal",
            "style": "IPY_MODEL_757dd1d4fb08459a83a33439c3a47f2f",
            "value": 1912529
          }
        },
        "94b960b01ca24651a382e13f93f77e21": {
          "model_module": "@jupyter-widgets/controls",
          "model_name": "HTMLModel",
          "model_module_version": "1.5.0",
          "state": {
            "_dom_classes": [],
            "_model_module": "@jupyter-widgets/controls",
            "_model_module_version": "1.5.0",
            "_model_name": "HTMLModel",
            "_view_count": null,
            "_view_module": "@jupyter-widgets/controls",
            "_view_module_version": "1.5.0",
            "_view_name": "HTMLView",
            "description": "",
            "description_tooltip": null,
            "layout": "IPY_MODEL_8ad8aa33c11146699b17283308b7ef70",
            "placeholder": "​",
            "style": "IPY_MODEL_5918f9aaba5844f09cf5279badbf4b23",
            "value": " 1.91M/1.91M [00:02&lt;00:00, 1.51MB/s]"
          }
        },
        "5ea87e19670543e190bec872fe84931f": {
          "model_module": "@jupyter-widgets/base",
          "model_name": "LayoutModel",
          "model_module_version": "1.2.0",
          "state": {
            "_model_module": "@jupyter-widgets/base",
            "_model_module_version": "1.2.0",
            "_model_name": "LayoutModel",
            "_view_count": null,
            "_view_module": "@jupyter-widgets/base",
            "_view_module_version": "1.2.0",
            "_view_name": "LayoutView",
            "align_content": null,
            "align_items": null,
            "align_self": null,
            "border": null,
            "bottom": null,
            "display": null,
            "flex": null,
            "flex_flow": null,
            "grid_area": null,
            "grid_auto_columns": null,
            "grid_auto_flow": null,
            "grid_auto_rows": null,
            "grid_column": null,
            "grid_gap": null,
            "grid_row": null,
            "grid_template_areas": null,
            "grid_template_columns": null,
            "grid_template_rows": null,
            "height": null,
            "justify_content": null,
            "justify_items": null,
            "left": null,
            "margin": null,
            "max_height": null,
            "max_width": null,
            "min_height": null,
            "min_width": null,
            "object_fit": null,
            "object_position": null,
            "order": null,
            "overflow": null,
            "overflow_x": null,
            "overflow_y": null,
            "padding": null,
            "right": null,
            "top": null,
            "visibility": null,
            "width": null
          }
        },
        "382ad097d3e64942af7b68ab3049b1f6": {
          "model_module": "@jupyter-widgets/base",
          "model_name": "LayoutModel",
          "model_module_version": "1.2.0",
          "state": {
            "_model_module": "@jupyter-widgets/base",
            "_model_module_version": "1.2.0",
            "_model_name": "LayoutModel",
            "_view_count": null,
            "_view_module": "@jupyter-widgets/base",
            "_view_module_version": "1.2.0",
            "_view_name": "LayoutView",
            "align_content": null,
            "align_items": null,
            "align_self": null,
            "border": null,
            "bottom": null,
            "display": null,
            "flex": null,
            "flex_flow": null,
            "grid_area": null,
            "grid_auto_columns": null,
            "grid_auto_flow": null,
            "grid_auto_rows": null,
            "grid_column": null,
            "grid_gap": null,
            "grid_row": null,
            "grid_template_areas": null,
            "grid_template_columns": null,
            "grid_template_rows": null,
            "height": null,
            "justify_content": null,
            "justify_items": null,
            "left": null,
            "margin": null,
            "max_height": null,
            "max_width": null,
            "min_height": null,
            "min_width": null,
            "object_fit": null,
            "object_position": null,
            "order": null,
            "overflow": null,
            "overflow_x": null,
            "overflow_y": null,
            "padding": null,
            "right": null,
            "top": null,
            "visibility": null,
            "width": null
          }
        },
        "2aaaf69a05d64792bdffae1e51cae17b": {
          "model_module": "@jupyter-widgets/controls",
          "model_name": "DescriptionStyleModel",
          "model_module_version": "1.5.0",
          "state": {
            "_model_module": "@jupyter-widgets/controls",
            "_model_module_version": "1.5.0",
            "_model_name": "DescriptionStyleModel",
            "_view_count": null,
            "_view_module": "@jupyter-widgets/base",
            "_view_module_version": "1.2.0",
            "_view_name": "StyleView",
            "description_width": ""
          }
        },
        "53ede7d3f55142a8ad11ecb858059851": {
          "model_module": "@jupyter-widgets/base",
          "model_name": "LayoutModel",
          "model_module_version": "1.2.0",
          "state": {
            "_model_module": "@jupyter-widgets/base",
            "_model_module_version": "1.2.0",
            "_model_name": "LayoutModel",
            "_view_count": null,
            "_view_module": "@jupyter-widgets/base",
            "_view_module_version": "1.2.0",
            "_view_name": "LayoutView",
            "align_content": null,
            "align_items": null,
            "align_self": null,
            "border": null,
            "bottom": null,
            "display": null,
            "flex": null,
            "flex_flow": null,
            "grid_area": null,
            "grid_auto_columns": null,
            "grid_auto_flow": null,
            "grid_auto_rows": null,
            "grid_column": null,
            "grid_gap": null,
            "grid_row": null,
            "grid_template_areas": null,
            "grid_template_columns": null,
            "grid_template_rows": null,
            "height": null,
            "justify_content": null,
            "justify_items": null,
            "left": null,
            "margin": null,
            "max_height": null,
            "max_width": null,
            "min_height": null,
            "min_width": null,
            "object_fit": null,
            "object_position": null,
            "order": null,
            "overflow": null,
            "overflow_x": null,
            "overflow_y": null,
            "padding": null,
            "right": null,
            "top": null,
            "visibility": null,
            "width": null
          }
        },
        "757dd1d4fb08459a83a33439c3a47f2f": {
          "model_module": "@jupyter-widgets/controls",
          "model_name": "ProgressStyleModel",
          "model_module_version": "1.5.0",
          "state": {
            "_model_module": "@jupyter-widgets/controls",
            "_model_module_version": "1.5.0",
            "_model_name": "ProgressStyleModel",
            "_view_count": null,
            "_view_module": "@jupyter-widgets/base",
            "_view_module_version": "1.2.0",
            "_view_name": "StyleView",
            "bar_color": null,
            "description_width": ""
          }
        },
        "8ad8aa33c11146699b17283308b7ef70": {
          "model_module": "@jupyter-widgets/base",
          "model_name": "LayoutModel",
          "model_module_version": "1.2.0",
          "state": {
            "_model_module": "@jupyter-widgets/base",
            "_model_module_version": "1.2.0",
            "_model_name": "LayoutModel",
            "_view_count": null,
            "_view_module": "@jupyter-widgets/base",
            "_view_module_version": "1.2.0",
            "_view_name": "LayoutView",
            "align_content": null,
            "align_items": null,
            "align_self": null,
            "border": null,
            "bottom": null,
            "display": null,
            "flex": null,
            "flex_flow": null,
            "grid_area": null,
            "grid_auto_columns": null,
            "grid_auto_flow": null,
            "grid_auto_rows": null,
            "grid_column": null,
            "grid_gap": null,
            "grid_row": null,
            "grid_template_areas": null,
            "grid_template_columns": null,
            "grid_template_rows": null,
            "height": null,
            "justify_content": null,
            "justify_items": null,
            "left": null,
            "margin": null,
            "max_height": null,
            "max_width": null,
            "min_height": null,
            "min_width": null,
            "object_fit": null,
            "object_position": null,
            "order": null,
            "overflow": null,
            "overflow_x": null,
            "overflow_y": null,
            "padding": null,
            "right": null,
            "top": null,
            "visibility": null,
            "width": null
          }
        },
        "5918f9aaba5844f09cf5279badbf4b23": {
          "model_module": "@jupyter-widgets/controls",
          "model_name": "DescriptionStyleModel",
          "model_module_version": "1.5.0",
          "state": {
            "_model_module": "@jupyter-widgets/controls",
            "_model_module_version": "1.5.0",
            "_model_name": "DescriptionStyleModel",
            "_view_count": null,
            "_view_module": "@jupyter-widgets/base",
            "_view_module_version": "1.2.0",
            "_view_name": "StyleView",
            "description_width": ""
          }
        },
        "4d75d9cfcf7e4eeab2102f80411555a5": {
          "model_module": "@jupyter-widgets/controls",
          "model_name": "HBoxModel",
          "model_module_version": "1.5.0",
          "state": {
            "_dom_classes": [],
            "_model_module": "@jupyter-widgets/controls",
            "_model_module_version": "1.5.0",
            "_model_name": "HBoxModel",
            "_view_count": null,
            "_view_module": "@jupyter-widgets/controls",
            "_view_module_version": "1.5.0",
            "_view_name": "HBoxView",
            "box_style": "",
            "children": [
              "IPY_MODEL_45f80941887e4d079b1dacd60c81a7fd",
              "IPY_MODEL_4b4cafda4b104a34a2dc0f13860dfdb6",
              "IPY_MODEL_f6461527b17c4640aa619b11ecd5b422"
            ],
            "layout": "IPY_MODEL_4c01e517fd6d406e9a5fbfaacf0af9e8"
          }
        },
        "45f80941887e4d079b1dacd60c81a7fd": {
          "model_module": "@jupyter-widgets/controls",
          "model_name": "HTMLModel",
          "model_module_version": "1.5.0",
          "state": {
            "_dom_classes": [],
            "_model_module": "@jupyter-widgets/controls",
            "_model_module_version": "1.5.0",
            "_model_name": "HTMLModel",
            "_view_count": null,
            "_view_module": "@jupyter-widgets/controls",
            "_view_module_version": "1.5.0",
            "_view_name": "HTMLView",
            "description": "",
            "description_tooltip": null,
            "layout": "IPY_MODEL_238e9fd9f37944aea197d21740a5fdfc",
            "placeholder": "​",
            "style": "IPY_MODEL_4752cc56055341398f5d376576ea7672",
            "value": "Downloading: 100%"
          }
        },
        "4b4cafda4b104a34a2dc0f13860dfdb6": {
          "model_module": "@jupyter-widgets/controls",
          "model_name": "FloatProgressModel",
          "model_module_version": "1.5.0",
          "state": {
            "_dom_classes": [],
            "_model_module": "@jupyter-widgets/controls",
            "_model_module_version": "1.5.0",
            "_model_name": "FloatProgressModel",
            "_view_count": null,
            "_view_module": "@jupyter-widgets/controls",
            "_view_module_version": "1.5.0",
            "_view_name": "ProgressView",
            "bar_style": "success",
            "description": "",
            "description_tooltip": null,
            "layout": "IPY_MODEL_65769f0553c44cf6b69a679603fe7dd6",
            "max": 3520083,
            "min": 0,
            "orientation": "horizontal",
            "style": "IPY_MODEL_04360897abe942dcab303058a3e269f1",
            "value": 3520083
          }
        },
        "f6461527b17c4640aa619b11ecd5b422": {
          "model_module": "@jupyter-widgets/controls",
          "model_name": "HTMLModel",
          "model_module_version": "1.5.0",
          "state": {
            "_dom_classes": [],
            "_model_module": "@jupyter-widgets/controls",
            "_model_module_version": "1.5.0",
            "_model_name": "HTMLModel",
            "_view_count": null,
            "_view_module": "@jupyter-widgets/controls",
            "_view_module_version": "1.5.0",
            "_view_name": "HTMLView",
            "description": "",
            "description_tooltip": null,
            "layout": "IPY_MODEL_5f14e03ff2a14e0d8a9ec670c0913245",
            "placeholder": "​",
            "style": "IPY_MODEL_aac8d615548a4eec91419785752ba4b9",
            "value": " 3.52M/3.52M [00:02&lt;00:00, 1.86MB/s]"
          }
        },
        "4c01e517fd6d406e9a5fbfaacf0af9e8": {
          "model_module": "@jupyter-widgets/base",
          "model_name": "LayoutModel",
          "model_module_version": "1.2.0",
          "state": {
            "_model_module": "@jupyter-widgets/base",
            "_model_module_version": "1.2.0",
            "_model_name": "LayoutModel",
            "_view_count": null,
            "_view_module": "@jupyter-widgets/base",
            "_view_module_version": "1.2.0",
            "_view_name": "LayoutView",
            "align_content": null,
            "align_items": null,
            "align_self": null,
            "border": null,
            "bottom": null,
            "display": null,
            "flex": null,
            "flex_flow": null,
            "grid_area": null,
            "grid_auto_columns": null,
            "grid_auto_flow": null,
            "grid_auto_rows": null,
            "grid_column": null,
            "grid_gap": null,
            "grid_row": null,
            "grid_template_areas": null,
            "grid_template_columns": null,
            "grid_template_rows": null,
            "height": null,
            "justify_content": null,
            "justify_items": null,
            "left": null,
            "margin": null,
            "max_height": null,
            "max_width": null,
            "min_height": null,
            "min_width": null,
            "object_fit": null,
            "object_position": null,
            "order": null,
            "overflow": null,
            "overflow_x": null,
            "overflow_y": null,
            "padding": null,
            "right": null,
            "top": null,
            "visibility": null,
            "width": null
          }
        },
        "238e9fd9f37944aea197d21740a5fdfc": {
          "model_module": "@jupyter-widgets/base",
          "model_name": "LayoutModel",
          "model_module_version": "1.2.0",
          "state": {
            "_model_module": "@jupyter-widgets/base",
            "_model_module_version": "1.2.0",
            "_model_name": "LayoutModel",
            "_view_count": null,
            "_view_module": "@jupyter-widgets/base",
            "_view_module_version": "1.2.0",
            "_view_name": "LayoutView",
            "align_content": null,
            "align_items": null,
            "align_self": null,
            "border": null,
            "bottom": null,
            "display": null,
            "flex": null,
            "flex_flow": null,
            "grid_area": null,
            "grid_auto_columns": null,
            "grid_auto_flow": null,
            "grid_auto_rows": null,
            "grid_column": null,
            "grid_gap": null,
            "grid_row": null,
            "grid_template_areas": null,
            "grid_template_columns": null,
            "grid_template_rows": null,
            "height": null,
            "justify_content": null,
            "justify_items": null,
            "left": null,
            "margin": null,
            "max_height": null,
            "max_width": null,
            "min_height": null,
            "min_width": null,
            "object_fit": null,
            "object_position": null,
            "order": null,
            "overflow": null,
            "overflow_x": null,
            "overflow_y": null,
            "padding": null,
            "right": null,
            "top": null,
            "visibility": null,
            "width": null
          }
        },
        "4752cc56055341398f5d376576ea7672": {
          "model_module": "@jupyter-widgets/controls",
          "model_name": "DescriptionStyleModel",
          "model_module_version": "1.5.0",
          "state": {
            "_model_module": "@jupyter-widgets/controls",
            "_model_module_version": "1.5.0",
            "_model_name": "DescriptionStyleModel",
            "_view_count": null,
            "_view_module": "@jupyter-widgets/base",
            "_view_module_version": "1.2.0",
            "_view_name": "StyleView",
            "description_width": ""
          }
        },
        "65769f0553c44cf6b69a679603fe7dd6": {
          "model_module": "@jupyter-widgets/base",
          "model_name": "LayoutModel",
          "model_module_version": "1.2.0",
          "state": {
            "_model_module": "@jupyter-widgets/base",
            "_model_module_version": "1.2.0",
            "_model_name": "LayoutModel",
            "_view_count": null,
            "_view_module": "@jupyter-widgets/base",
            "_view_module_version": "1.2.0",
            "_view_name": "LayoutView",
            "align_content": null,
            "align_items": null,
            "align_self": null,
            "border": null,
            "bottom": null,
            "display": null,
            "flex": null,
            "flex_flow": null,
            "grid_area": null,
            "grid_auto_columns": null,
            "grid_auto_flow": null,
            "grid_auto_rows": null,
            "grid_column": null,
            "grid_gap": null,
            "grid_row": null,
            "grid_template_areas": null,
            "grid_template_columns": null,
            "grid_template_rows": null,
            "height": null,
            "justify_content": null,
            "justify_items": null,
            "left": null,
            "margin": null,
            "max_height": null,
            "max_width": null,
            "min_height": null,
            "min_width": null,
            "object_fit": null,
            "object_position": null,
            "order": null,
            "overflow": null,
            "overflow_x": null,
            "overflow_y": null,
            "padding": null,
            "right": null,
            "top": null,
            "visibility": null,
            "width": null
          }
        },
        "04360897abe942dcab303058a3e269f1": {
          "model_module": "@jupyter-widgets/controls",
          "model_name": "ProgressStyleModel",
          "model_module_version": "1.5.0",
          "state": {
            "_model_module": "@jupyter-widgets/controls",
            "_model_module_version": "1.5.0",
            "_model_name": "ProgressStyleModel",
            "_view_count": null,
            "_view_module": "@jupyter-widgets/base",
            "_view_module_version": "1.2.0",
            "_view_name": "StyleView",
            "bar_color": null,
            "description_width": ""
          }
        },
        "5f14e03ff2a14e0d8a9ec670c0913245": {
          "model_module": "@jupyter-widgets/base",
          "model_name": "LayoutModel",
          "model_module_version": "1.2.0",
          "state": {
            "_model_module": "@jupyter-widgets/base",
            "_model_module_version": "1.2.0",
            "_model_name": "LayoutModel",
            "_view_count": null,
            "_view_module": "@jupyter-widgets/base",
            "_view_module_version": "1.2.0",
            "_view_name": "LayoutView",
            "align_content": null,
            "align_items": null,
            "align_self": null,
            "border": null,
            "bottom": null,
            "display": null,
            "flex": null,
            "flex_flow": null,
            "grid_area": null,
            "grid_auto_columns": null,
            "grid_auto_flow": null,
            "grid_auto_rows": null,
            "grid_column": null,
            "grid_gap": null,
            "grid_row": null,
            "grid_template_areas": null,
            "grid_template_columns": null,
            "grid_template_rows": null,
            "height": null,
            "justify_content": null,
            "justify_items": null,
            "left": null,
            "margin": null,
            "max_height": null,
            "max_width": null,
            "min_height": null,
            "min_width": null,
            "object_fit": null,
            "object_position": null,
            "order": null,
            "overflow": null,
            "overflow_x": null,
            "overflow_y": null,
            "padding": null,
            "right": null,
            "top": null,
            "visibility": null,
            "width": null
          }
        },
        "aac8d615548a4eec91419785752ba4b9": {
          "model_module": "@jupyter-widgets/controls",
          "model_name": "DescriptionStyleModel",
          "model_module_version": "1.5.0",
          "state": {
            "_model_module": "@jupyter-widgets/controls",
            "_model_module_version": "1.5.0",
            "_model_name": "DescriptionStyleModel",
            "_view_count": null,
            "_view_module": "@jupyter-widgets/base",
            "_view_module_version": "1.2.0",
            "_view_name": "StyleView",
            "description_width": ""
          }
        },
        "fe7c23c1ac044ce28c003b8fb3821bdf": {
          "model_module": "@jupyter-widgets/controls",
          "model_name": "HBoxModel",
          "model_module_version": "1.5.0",
          "state": {
            "_dom_classes": [],
            "_model_module": "@jupyter-widgets/controls",
            "_model_module_version": "1.5.0",
            "_model_name": "HBoxModel",
            "_view_count": null,
            "_view_module": "@jupyter-widgets/controls",
            "_view_module_version": "1.5.0",
            "_view_name": "HBoxView",
            "box_style": "",
            "children": [
              "IPY_MODEL_57add54625b441fbb516c687f5bb0a1e",
              "IPY_MODEL_721016f145574061be3510879c5ec015",
              "IPY_MODEL_038680bd7abe494aa4736f827f4f0a34"
            ],
            "layout": "IPY_MODEL_7630772852954b7faa7a1e0a8576aa69"
          }
        },
        "57add54625b441fbb516c687f5bb0a1e": {
          "model_module": "@jupyter-widgets/controls",
          "model_name": "HTMLModel",
          "model_module_version": "1.5.0",
          "state": {
            "_dom_classes": [],
            "_model_module": "@jupyter-widgets/controls",
            "_model_module_version": "1.5.0",
            "_model_name": "HTMLModel",
            "_view_count": null,
            "_view_module": "@jupyter-widgets/controls",
            "_view_module_version": "1.5.0",
            "_view_name": "HTMLView",
            "description": "",
            "description_tooltip": null,
            "layout": "IPY_MODEL_2e64ce427489427e84a40194699b95bc",
            "placeholder": "​",
            "style": "IPY_MODEL_4cf3dea049df44b0a4211089579553a7",
            "value": "Downloading: 100%"
          }
        },
        "721016f145574061be3510879c5ec015": {
          "model_module": "@jupyter-widgets/controls",
          "model_name": "FloatProgressModel",
          "model_module_version": "1.5.0",
          "state": {
            "_dom_classes": [],
            "_model_module": "@jupyter-widgets/controls",
            "_model_module_version": "1.5.0",
            "_model_name": "FloatProgressModel",
            "_view_count": null,
            "_view_module": "@jupyter-widgets/controls",
            "_view_module_version": "1.5.0",
            "_view_name": "ProgressView",
            "bar_style": "success",
            "description": "",
            "description_tooltip": null,
            "layout": "IPY_MODEL_4db06e1ef6434868b4dc7edf6e6bd165",
            "max": 65,
            "min": 0,
            "orientation": "horizontal",
            "style": "IPY_MODEL_818a7af91448440cbd3f880881ff0391",
            "value": 65
          }
        },
        "038680bd7abe494aa4736f827f4f0a34": {
          "model_module": "@jupyter-widgets/controls",
          "model_name": "HTMLModel",
          "model_module_version": "1.5.0",
          "state": {
            "_dom_classes": [],
            "_model_module": "@jupyter-widgets/controls",
            "_model_module_version": "1.5.0",
            "_model_name": "HTMLModel",
            "_view_count": null,
            "_view_module": "@jupyter-widgets/controls",
            "_view_module_version": "1.5.0",
            "_view_name": "HTMLView",
            "description": "",
            "description_tooltip": null,
            "layout": "IPY_MODEL_0e34528131a745fca2f29463171f6969",
            "placeholder": "​",
            "style": "IPY_MODEL_d00cfa7114434f62966b1f9e2f6966f1",
            "value": " 65.0/65.0 [00:00&lt;00:00, 2.72kB/s]"
          }
        },
        "7630772852954b7faa7a1e0a8576aa69": {
          "model_module": "@jupyter-widgets/base",
          "model_name": "LayoutModel",
          "model_module_version": "1.2.0",
          "state": {
            "_model_module": "@jupyter-widgets/base",
            "_model_module_version": "1.2.0",
            "_model_name": "LayoutModel",
            "_view_count": null,
            "_view_module": "@jupyter-widgets/base",
            "_view_module_version": "1.2.0",
            "_view_name": "LayoutView",
            "align_content": null,
            "align_items": null,
            "align_self": null,
            "border": null,
            "bottom": null,
            "display": null,
            "flex": null,
            "flex_flow": null,
            "grid_area": null,
            "grid_auto_columns": null,
            "grid_auto_flow": null,
            "grid_auto_rows": null,
            "grid_column": null,
            "grid_gap": null,
            "grid_row": null,
            "grid_template_areas": null,
            "grid_template_columns": null,
            "grid_template_rows": null,
            "height": null,
            "justify_content": null,
            "justify_items": null,
            "left": null,
            "margin": null,
            "max_height": null,
            "max_width": null,
            "min_height": null,
            "min_width": null,
            "object_fit": null,
            "object_position": null,
            "order": null,
            "overflow": null,
            "overflow_x": null,
            "overflow_y": null,
            "padding": null,
            "right": null,
            "top": null,
            "visibility": null,
            "width": null
          }
        },
        "2e64ce427489427e84a40194699b95bc": {
          "model_module": "@jupyter-widgets/base",
          "model_name": "LayoutModel",
          "model_module_version": "1.2.0",
          "state": {
            "_model_module": "@jupyter-widgets/base",
            "_model_module_version": "1.2.0",
            "_model_name": "LayoutModel",
            "_view_count": null,
            "_view_module": "@jupyter-widgets/base",
            "_view_module_version": "1.2.0",
            "_view_name": "LayoutView",
            "align_content": null,
            "align_items": null,
            "align_self": null,
            "border": null,
            "bottom": null,
            "display": null,
            "flex": null,
            "flex_flow": null,
            "grid_area": null,
            "grid_auto_columns": null,
            "grid_auto_flow": null,
            "grid_auto_rows": null,
            "grid_column": null,
            "grid_gap": null,
            "grid_row": null,
            "grid_template_areas": null,
            "grid_template_columns": null,
            "grid_template_rows": null,
            "height": null,
            "justify_content": null,
            "justify_items": null,
            "left": null,
            "margin": null,
            "max_height": null,
            "max_width": null,
            "min_height": null,
            "min_width": null,
            "object_fit": null,
            "object_position": null,
            "order": null,
            "overflow": null,
            "overflow_x": null,
            "overflow_y": null,
            "padding": null,
            "right": null,
            "top": null,
            "visibility": null,
            "width": null
          }
        },
        "4cf3dea049df44b0a4211089579553a7": {
          "model_module": "@jupyter-widgets/controls",
          "model_name": "DescriptionStyleModel",
          "model_module_version": "1.5.0",
          "state": {
            "_model_module": "@jupyter-widgets/controls",
            "_model_module_version": "1.5.0",
            "_model_name": "DescriptionStyleModel",
            "_view_count": null,
            "_view_module": "@jupyter-widgets/base",
            "_view_module_version": "1.2.0",
            "_view_name": "StyleView",
            "description_width": ""
          }
        },
        "4db06e1ef6434868b4dc7edf6e6bd165": {
          "model_module": "@jupyter-widgets/base",
          "model_name": "LayoutModel",
          "model_module_version": "1.2.0",
          "state": {
            "_model_module": "@jupyter-widgets/base",
            "_model_module_version": "1.2.0",
            "_model_name": "LayoutModel",
            "_view_count": null,
            "_view_module": "@jupyter-widgets/base",
            "_view_module_version": "1.2.0",
            "_view_name": "LayoutView",
            "align_content": null,
            "align_items": null,
            "align_self": null,
            "border": null,
            "bottom": null,
            "display": null,
            "flex": null,
            "flex_flow": null,
            "grid_area": null,
            "grid_auto_columns": null,
            "grid_auto_flow": null,
            "grid_auto_rows": null,
            "grid_column": null,
            "grid_gap": null,
            "grid_row": null,
            "grid_template_areas": null,
            "grid_template_columns": null,
            "grid_template_rows": null,
            "height": null,
            "justify_content": null,
            "justify_items": null,
            "left": null,
            "margin": null,
            "max_height": null,
            "max_width": null,
            "min_height": null,
            "min_width": null,
            "object_fit": null,
            "object_position": null,
            "order": null,
            "overflow": null,
            "overflow_x": null,
            "overflow_y": null,
            "padding": null,
            "right": null,
            "top": null,
            "visibility": null,
            "width": null
          }
        },
        "818a7af91448440cbd3f880881ff0391": {
          "model_module": "@jupyter-widgets/controls",
          "model_name": "ProgressStyleModel",
          "model_module_version": "1.5.0",
          "state": {
            "_model_module": "@jupyter-widgets/controls",
            "_model_module_version": "1.5.0",
            "_model_name": "ProgressStyleModel",
            "_view_count": null,
            "_view_module": "@jupyter-widgets/base",
            "_view_module_version": "1.2.0",
            "_view_name": "StyleView",
            "bar_color": null,
            "description_width": ""
          }
        },
        "0e34528131a745fca2f29463171f6969": {
          "model_module": "@jupyter-widgets/base",
          "model_name": "LayoutModel",
          "model_module_version": "1.2.0",
          "state": {
            "_model_module": "@jupyter-widgets/base",
            "_model_module_version": "1.2.0",
            "_model_name": "LayoutModel",
            "_view_count": null,
            "_view_module": "@jupyter-widgets/base",
            "_view_module_version": "1.2.0",
            "_view_name": "LayoutView",
            "align_content": null,
            "align_items": null,
            "align_self": null,
            "border": null,
            "bottom": null,
            "display": null,
            "flex": null,
            "flex_flow": null,
            "grid_area": null,
            "grid_auto_columns": null,
            "grid_auto_flow": null,
            "grid_auto_rows": null,
            "grid_column": null,
            "grid_gap": null,
            "grid_row": null,
            "grid_template_areas": null,
            "grid_template_columns": null,
            "grid_template_rows": null,
            "height": null,
            "justify_content": null,
            "justify_items": null,
            "left": null,
            "margin": null,
            "max_height": null,
            "max_width": null,
            "min_height": null,
            "min_width": null,
            "object_fit": null,
            "object_position": null,
            "order": null,
            "overflow": null,
            "overflow_x": null,
            "overflow_y": null,
            "padding": null,
            "right": null,
            "top": null,
            "visibility": null,
            "width": null
          }
        },
        "d00cfa7114434f62966b1f9e2f6966f1": {
          "model_module": "@jupyter-widgets/controls",
          "model_name": "DescriptionStyleModel",
          "model_module_version": "1.5.0",
          "state": {
            "_model_module": "@jupyter-widgets/controls",
            "_model_module_version": "1.5.0",
            "_model_name": "DescriptionStyleModel",
            "_view_count": null,
            "_view_module": "@jupyter-widgets/base",
            "_view_module_version": "1.2.0",
            "_view_name": "StyleView",
            "description_width": ""
          }
        },
        "714ba3aeed4a4b7ba25798b0cdf44dd1": {
          "model_module": "@jupyter-widgets/controls",
          "model_name": "HBoxModel",
          "model_module_version": "1.5.0",
          "state": {
            "_dom_classes": [],
            "_model_module": "@jupyter-widgets/controls",
            "_model_module_version": "1.5.0",
            "_model_name": "HBoxModel",
            "_view_count": null,
            "_view_module": "@jupyter-widgets/controls",
            "_view_module_version": "1.5.0",
            "_view_name": "HBoxView",
            "box_style": "",
            "children": [
              "IPY_MODEL_273976e003b94aeeabd1bace8e613c20",
              "IPY_MODEL_96f1eb38d62247238293caaaf4c2f8cc",
              "IPY_MODEL_7d9901f67380452686981dd93e42abc7"
            ],
            "layout": "IPY_MODEL_4fbfff8c62d943beb7f74f151e49864d"
          }
        },
        "273976e003b94aeeabd1bace8e613c20": {
          "model_module": "@jupyter-widgets/controls",
          "model_name": "HTMLModel",
          "model_module_version": "1.5.0",
          "state": {
            "_dom_classes": [],
            "_model_module": "@jupyter-widgets/controls",
            "_model_module_version": "1.5.0",
            "_model_name": "HTMLModel",
            "_view_count": null,
            "_view_module": "@jupyter-widgets/controls",
            "_view_module_version": "1.5.0",
            "_view_name": "HTMLView",
            "description": "",
            "description_tooltip": null,
            "layout": "IPY_MODEL_24262fb7884b4515b6beeddb56962dc4",
            "placeholder": "​",
            "style": "IPY_MODEL_bbd1c21887dc461e9aa9bf086da2c3e3",
            "value": "Downloading: 100%"
          }
        },
        "96f1eb38d62247238293caaaf4c2f8cc": {
          "model_module": "@jupyter-widgets/controls",
          "model_name": "FloatProgressModel",
          "model_module_version": "1.5.0",
          "state": {
            "_dom_classes": [],
            "_model_module": "@jupyter-widgets/controls",
            "_model_module_version": "1.5.0",
            "_model_name": "FloatProgressModel",
            "_view_count": null,
            "_view_module": "@jupyter-widgets/controls",
            "_view_module_version": "1.5.0",
            "_view_name": "ProgressView",
            "bar_style": "success",
            "description": "",
            "description_tooltip": null,
            "layout": "IPY_MODEL_fa88ab9b60574dfda8fa4768e671f6e5",
            "max": 1585,
            "min": 0,
            "orientation": "horizontal",
            "style": "IPY_MODEL_f7025af274be4328bda4002deb3f119d",
            "value": 1585
          }
        },
        "7d9901f67380452686981dd93e42abc7": {
          "model_module": "@jupyter-widgets/controls",
          "model_name": "HTMLModel",
          "model_module_version": "1.5.0",
          "state": {
            "_dom_classes": [],
            "_model_module": "@jupyter-widgets/controls",
            "_model_module_version": "1.5.0",
            "_model_name": "HTMLModel",
            "_view_count": null,
            "_view_module": "@jupyter-widgets/controls",
            "_view_module_version": "1.5.0",
            "_view_name": "HTMLView",
            "description": "",
            "description_tooltip": null,
            "layout": "IPY_MODEL_dc82b5c3c2894a4686d54b82d0997a85",
            "placeholder": "​",
            "style": "IPY_MODEL_5e691677f15948929cc22812a186a78f",
            "value": " 1.58k/1.58k [00:00&lt;00:00, 62.1kB/s]"
          }
        },
        "4fbfff8c62d943beb7f74f151e49864d": {
          "model_module": "@jupyter-widgets/base",
          "model_name": "LayoutModel",
          "model_module_version": "1.2.0",
          "state": {
            "_model_module": "@jupyter-widgets/base",
            "_model_module_version": "1.2.0",
            "_model_name": "LayoutModel",
            "_view_count": null,
            "_view_module": "@jupyter-widgets/base",
            "_view_module_version": "1.2.0",
            "_view_name": "LayoutView",
            "align_content": null,
            "align_items": null,
            "align_self": null,
            "border": null,
            "bottom": null,
            "display": null,
            "flex": null,
            "flex_flow": null,
            "grid_area": null,
            "grid_auto_columns": null,
            "grid_auto_flow": null,
            "grid_auto_rows": null,
            "grid_column": null,
            "grid_gap": null,
            "grid_row": null,
            "grid_template_areas": null,
            "grid_template_columns": null,
            "grid_template_rows": null,
            "height": null,
            "justify_content": null,
            "justify_items": null,
            "left": null,
            "margin": null,
            "max_height": null,
            "max_width": null,
            "min_height": null,
            "min_width": null,
            "object_fit": null,
            "object_position": null,
            "order": null,
            "overflow": null,
            "overflow_x": null,
            "overflow_y": null,
            "padding": null,
            "right": null,
            "top": null,
            "visibility": null,
            "width": null
          }
        },
        "24262fb7884b4515b6beeddb56962dc4": {
          "model_module": "@jupyter-widgets/base",
          "model_name": "LayoutModel",
          "model_module_version": "1.2.0",
          "state": {
            "_model_module": "@jupyter-widgets/base",
            "_model_module_version": "1.2.0",
            "_model_name": "LayoutModel",
            "_view_count": null,
            "_view_module": "@jupyter-widgets/base",
            "_view_module_version": "1.2.0",
            "_view_name": "LayoutView",
            "align_content": null,
            "align_items": null,
            "align_self": null,
            "border": null,
            "bottom": null,
            "display": null,
            "flex": null,
            "flex_flow": null,
            "grid_area": null,
            "grid_auto_columns": null,
            "grid_auto_flow": null,
            "grid_auto_rows": null,
            "grid_column": null,
            "grid_gap": null,
            "grid_row": null,
            "grid_template_areas": null,
            "grid_template_columns": null,
            "grid_template_rows": null,
            "height": null,
            "justify_content": null,
            "justify_items": null,
            "left": null,
            "margin": null,
            "max_height": null,
            "max_width": null,
            "min_height": null,
            "min_width": null,
            "object_fit": null,
            "object_position": null,
            "order": null,
            "overflow": null,
            "overflow_x": null,
            "overflow_y": null,
            "padding": null,
            "right": null,
            "top": null,
            "visibility": null,
            "width": null
          }
        },
        "bbd1c21887dc461e9aa9bf086da2c3e3": {
          "model_module": "@jupyter-widgets/controls",
          "model_name": "DescriptionStyleModel",
          "model_module_version": "1.5.0",
          "state": {
            "_model_module": "@jupyter-widgets/controls",
            "_model_module_version": "1.5.0",
            "_model_name": "DescriptionStyleModel",
            "_view_count": null,
            "_view_module": "@jupyter-widgets/base",
            "_view_module_version": "1.2.0",
            "_view_name": "StyleView",
            "description_width": ""
          }
        },
        "fa88ab9b60574dfda8fa4768e671f6e5": {
          "model_module": "@jupyter-widgets/base",
          "model_name": "LayoutModel",
          "model_module_version": "1.2.0",
          "state": {
            "_model_module": "@jupyter-widgets/base",
            "_model_module_version": "1.2.0",
            "_model_name": "LayoutModel",
            "_view_count": null,
            "_view_module": "@jupyter-widgets/base",
            "_view_module_version": "1.2.0",
            "_view_name": "LayoutView",
            "align_content": null,
            "align_items": null,
            "align_self": null,
            "border": null,
            "bottom": null,
            "display": null,
            "flex": null,
            "flex_flow": null,
            "grid_area": null,
            "grid_auto_columns": null,
            "grid_auto_flow": null,
            "grid_auto_rows": null,
            "grid_column": null,
            "grid_gap": null,
            "grid_row": null,
            "grid_template_areas": null,
            "grid_template_columns": null,
            "grid_template_rows": null,
            "height": null,
            "justify_content": null,
            "justify_items": null,
            "left": null,
            "margin": null,
            "max_height": null,
            "max_width": null,
            "min_height": null,
            "min_width": null,
            "object_fit": null,
            "object_position": null,
            "order": null,
            "overflow": null,
            "overflow_x": null,
            "overflow_y": null,
            "padding": null,
            "right": null,
            "top": null,
            "visibility": null,
            "width": null
          }
        },
        "f7025af274be4328bda4002deb3f119d": {
          "model_module": "@jupyter-widgets/controls",
          "model_name": "ProgressStyleModel",
          "model_module_version": "1.5.0",
          "state": {
            "_model_module": "@jupyter-widgets/controls",
            "_model_module_version": "1.5.0",
            "_model_name": "ProgressStyleModel",
            "_view_count": null,
            "_view_module": "@jupyter-widgets/base",
            "_view_module_version": "1.2.0",
            "_view_name": "StyleView",
            "bar_color": null,
            "description_width": ""
          }
        },
        "dc82b5c3c2894a4686d54b82d0997a85": {
          "model_module": "@jupyter-widgets/base",
          "model_name": "LayoutModel",
          "model_module_version": "1.2.0",
          "state": {
            "_model_module": "@jupyter-widgets/base",
            "_model_module_version": "1.2.0",
            "_model_name": "LayoutModel",
            "_view_count": null,
            "_view_module": "@jupyter-widgets/base",
            "_view_module_version": "1.2.0",
            "_view_name": "LayoutView",
            "align_content": null,
            "align_items": null,
            "align_self": null,
            "border": null,
            "bottom": null,
            "display": null,
            "flex": null,
            "flex_flow": null,
            "grid_area": null,
            "grid_auto_columns": null,
            "grid_auto_flow": null,
            "grid_auto_rows": null,
            "grid_column": null,
            "grid_gap": null,
            "grid_row": null,
            "grid_template_areas": null,
            "grid_template_columns": null,
            "grid_template_rows": null,
            "height": null,
            "justify_content": null,
            "justify_items": null,
            "left": null,
            "margin": null,
            "max_height": null,
            "max_width": null,
            "min_height": null,
            "min_width": null,
            "object_fit": null,
            "object_position": null,
            "order": null,
            "overflow": null,
            "overflow_x": null,
            "overflow_y": null,
            "padding": null,
            "right": null,
            "top": null,
            "visibility": null,
            "width": null
          }
        },
        "5e691677f15948929cc22812a186a78f": {
          "model_module": "@jupyter-widgets/controls",
          "model_name": "DescriptionStyleModel",
          "model_module_version": "1.5.0",
          "state": {
            "_model_module": "@jupyter-widgets/controls",
            "_model_module_version": "1.5.0",
            "_model_name": "DescriptionStyleModel",
            "_view_count": null,
            "_view_module": "@jupyter-widgets/base",
            "_view_module_version": "1.2.0",
            "_view_name": "StyleView",
            "description_width": ""
          }
        },
        "3be288bc35954811a657be9096513e34": {
          "model_module": "@jupyter-widgets/controls",
          "model_name": "HBoxModel",
          "model_module_version": "1.5.0",
          "state": {
            "_dom_classes": [],
            "_model_module": "@jupyter-widgets/controls",
            "_model_module_version": "1.5.0",
            "_model_name": "HBoxModel",
            "_view_count": null,
            "_view_module": "@jupyter-widgets/controls",
            "_view_module_version": "1.5.0",
            "_view_name": "HBoxView",
            "box_style": "",
            "children": [
              "IPY_MODEL_7d3c81222b5c42f691ebf2df850b3133",
              "IPY_MODEL_51cc04916ef944d98ba3a18826c9de34",
              "IPY_MODEL_2468a3b6ea4f4d9886b02f161c866c1e"
            ],
            "layout": "IPY_MODEL_be2490e38ec34bd5bb14a130e971c319"
          }
        },
        "7d3c81222b5c42f691ebf2df850b3133": {
          "model_module": "@jupyter-widgets/controls",
          "model_name": "HTMLModel",
          "model_module_version": "1.5.0",
          "state": {
            "_dom_classes": [],
            "_model_module": "@jupyter-widgets/controls",
            "_model_module_version": "1.5.0",
            "_model_name": "HTMLModel",
            "_view_count": null,
            "_view_module": "@jupyter-widgets/controls",
            "_view_module_version": "1.5.0",
            "_view_name": "HTMLView",
            "description": "",
            "description_tooltip": null,
            "layout": "IPY_MODEL_64bc56bc8d3740b7a7133cc13509e627",
            "placeholder": "​",
            "style": "IPY_MODEL_382c6364cbd441f3bb5a53c129dfa9c3",
            "value": "Downloading: 100%"
          }
        },
        "51cc04916ef944d98ba3a18826c9de34": {
          "model_module": "@jupyter-widgets/controls",
          "model_name": "FloatProgressModel",
          "model_module_version": "1.5.0",
          "state": {
            "_dom_classes": [],
            "_model_module": "@jupyter-widgets/controls",
            "_model_module_version": "1.5.0",
            "_model_name": "FloatProgressModel",
            "_view_count": null,
            "_view_module": "@jupyter-widgets/controls",
            "_view_module_version": "1.5.0",
            "_view_name": "ProgressView",
            "bar_style": "success",
            "description": "",
            "description_tooltip": null,
            "layout": "IPY_MODEL_6da9d0af05ea471f90a73c7e64b89913",
            "max": 898823,
            "min": 0,
            "orientation": "horizontal",
            "style": "IPY_MODEL_69463fabdd2e4303b85b0725bf5591a2",
            "value": 898823
          }
        },
        "2468a3b6ea4f4d9886b02f161c866c1e": {
          "model_module": "@jupyter-widgets/controls",
          "model_name": "HTMLModel",
          "model_module_version": "1.5.0",
          "state": {
            "_dom_classes": [],
            "_model_module": "@jupyter-widgets/controls",
            "_model_module_version": "1.5.0",
            "_model_name": "HTMLModel",
            "_view_count": null,
            "_view_module": "@jupyter-widgets/controls",
            "_view_module_version": "1.5.0",
            "_view_name": "HTMLView",
            "description": "",
            "description_tooltip": null,
            "layout": "IPY_MODEL_2612ad03354043f58d35b3790915864f",
            "placeholder": "​",
            "style": "IPY_MODEL_8381db35e4a646f3981b2c9c27ab1b4d",
            "value": " 899k/899k [00:01&lt;00:00, 970kB/s]"
          }
        },
        "be2490e38ec34bd5bb14a130e971c319": {
          "model_module": "@jupyter-widgets/base",
          "model_name": "LayoutModel",
          "model_module_version": "1.2.0",
          "state": {
            "_model_module": "@jupyter-widgets/base",
            "_model_module_version": "1.2.0",
            "_model_name": "LayoutModel",
            "_view_count": null,
            "_view_module": "@jupyter-widgets/base",
            "_view_module_version": "1.2.0",
            "_view_name": "LayoutView",
            "align_content": null,
            "align_items": null,
            "align_self": null,
            "border": null,
            "bottom": null,
            "display": null,
            "flex": null,
            "flex_flow": null,
            "grid_area": null,
            "grid_auto_columns": null,
            "grid_auto_flow": null,
            "grid_auto_rows": null,
            "grid_column": null,
            "grid_gap": null,
            "grid_row": null,
            "grid_template_areas": null,
            "grid_template_columns": null,
            "grid_template_rows": null,
            "height": null,
            "justify_content": null,
            "justify_items": null,
            "left": null,
            "margin": null,
            "max_height": null,
            "max_width": null,
            "min_height": null,
            "min_width": null,
            "object_fit": null,
            "object_position": null,
            "order": null,
            "overflow": null,
            "overflow_x": null,
            "overflow_y": null,
            "padding": null,
            "right": null,
            "top": null,
            "visibility": null,
            "width": null
          }
        },
        "64bc56bc8d3740b7a7133cc13509e627": {
          "model_module": "@jupyter-widgets/base",
          "model_name": "LayoutModel",
          "model_module_version": "1.2.0",
          "state": {
            "_model_module": "@jupyter-widgets/base",
            "_model_module_version": "1.2.0",
            "_model_name": "LayoutModel",
            "_view_count": null,
            "_view_module": "@jupyter-widgets/base",
            "_view_module_version": "1.2.0",
            "_view_name": "LayoutView",
            "align_content": null,
            "align_items": null,
            "align_self": null,
            "border": null,
            "bottom": null,
            "display": null,
            "flex": null,
            "flex_flow": null,
            "grid_area": null,
            "grid_auto_columns": null,
            "grid_auto_flow": null,
            "grid_auto_rows": null,
            "grid_column": null,
            "grid_gap": null,
            "grid_row": null,
            "grid_template_areas": null,
            "grid_template_columns": null,
            "grid_template_rows": null,
            "height": null,
            "justify_content": null,
            "justify_items": null,
            "left": null,
            "margin": null,
            "max_height": null,
            "max_width": null,
            "min_height": null,
            "min_width": null,
            "object_fit": null,
            "object_position": null,
            "order": null,
            "overflow": null,
            "overflow_x": null,
            "overflow_y": null,
            "padding": null,
            "right": null,
            "top": null,
            "visibility": null,
            "width": null
          }
        },
        "382c6364cbd441f3bb5a53c129dfa9c3": {
          "model_module": "@jupyter-widgets/controls",
          "model_name": "DescriptionStyleModel",
          "model_module_version": "1.5.0",
          "state": {
            "_model_module": "@jupyter-widgets/controls",
            "_model_module_version": "1.5.0",
            "_model_name": "DescriptionStyleModel",
            "_view_count": null,
            "_view_module": "@jupyter-widgets/base",
            "_view_module_version": "1.2.0",
            "_view_name": "StyleView",
            "description_width": ""
          }
        },
        "6da9d0af05ea471f90a73c7e64b89913": {
          "model_module": "@jupyter-widgets/base",
          "model_name": "LayoutModel",
          "model_module_version": "1.2.0",
          "state": {
            "_model_module": "@jupyter-widgets/base",
            "_model_module_version": "1.2.0",
            "_model_name": "LayoutModel",
            "_view_count": null,
            "_view_module": "@jupyter-widgets/base",
            "_view_module_version": "1.2.0",
            "_view_name": "LayoutView",
            "align_content": null,
            "align_items": null,
            "align_self": null,
            "border": null,
            "bottom": null,
            "display": null,
            "flex": null,
            "flex_flow": null,
            "grid_area": null,
            "grid_auto_columns": null,
            "grid_auto_flow": null,
            "grid_auto_rows": null,
            "grid_column": null,
            "grid_gap": null,
            "grid_row": null,
            "grid_template_areas": null,
            "grid_template_columns": null,
            "grid_template_rows": null,
            "height": null,
            "justify_content": null,
            "justify_items": null,
            "left": null,
            "margin": null,
            "max_height": null,
            "max_width": null,
            "min_height": null,
            "min_width": null,
            "object_fit": null,
            "object_position": null,
            "order": null,
            "overflow": null,
            "overflow_x": null,
            "overflow_y": null,
            "padding": null,
            "right": null,
            "top": null,
            "visibility": null,
            "width": null
          }
        },
        "69463fabdd2e4303b85b0725bf5591a2": {
          "model_module": "@jupyter-widgets/controls",
          "model_name": "ProgressStyleModel",
          "model_module_version": "1.5.0",
          "state": {
            "_model_module": "@jupyter-widgets/controls",
            "_model_module_version": "1.5.0",
            "_model_name": "ProgressStyleModel",
            "_view_count": null,
            "_view_module": "@jupyter-widgets/base",
            "_view_module_version": "1.2.0",
            "_view_name": "StyleView",
            "bar_color": null,
            "description_width": ""
          }
        },
        "2612ad03354043f58d35b3790915864f": {
          "model_module": "@jupyter-widgets/base",
          "model_name": "LayoutModel",
          "model_module_version": "1.2.0",
          "state": {
            "_model_module": "@jupyter-widgets/base",
            "_model_module_version": "1.2.0",
            "_model_name": "LayoutModel",
            "_view_count": null,
            "_view_module": "@jupyter-widgets/base",
            "_view_module_version": "1.2.0",
            "_view_name": "LayoutView",
            "align_content": null,
            "align_items": null,
            "align_self": null,
            "border": null,
            "bottom": null,
            "display": null,
            "flex": null,
            "flex_flow": null,
            "grid_area": null,
            "grid_auto_columns": null,
            "grid_auto_flow": null,
            "grid_auto_rows": null,
            "grid_column": null,
            "grid_gap": null,
            "grid_row": null,
            "grid_template_areas": null,
            "grid_template_columns": null,
            "grid_template_rows": null,
            "height": null,
            "justify_content": null,
            "justify_items": null,
            "left": null,
            "margin": null,
            "max_height": null,
            "max_width": null,
            "min_height": null,
            "min_width": null,
            "object_fit": null,
            "object_position": null,
            "order": null,
            "overflow": null,
            "overflow_x": null,
            "overflow_y": null,
            "padding": null,
            "right": null,
            "top": null,
            "visibility": null,
            "width": null
          }
        },
        "8381db35e4a646f3981b2c9c27ab1b4d": {
          "model_module": "@jupyter-widgets/controls",
          "model_name": "DescriptionStyleModel",
          "model_module_version": "1.5.0",
          "state": {
            "_model_module": "@jupyter-widgets/controls",
            "_model_module_version": "1.5.0",
            "_model_name": "DescriptionStyleModel",
            "_view_count": null,
            "_view_module": "@jupyter-widgets/base",
            "_view_module_version": "1.2.0",
            "_view_name": "StyleView",
            "description_width": ""
          }
        },
        "a700e2b9ed824eee84de1811b15fdf2f": {
          "model_module": "@jupyter-widgets/controls",
          "model_name": "HBoxModel",
          "model_module_version": "1.5.0",
          "state": {
            "_dom_classes": [],
            "_model_module": "@jupyter-widgets/controls",
            "_model_module_version": "1.5.0",
            "_model_name": "HBoxModel",
            "_view_count": null,
            "_view_module": "@jupyter-widgets/controls",
            "_view_module_version": "1.5.0",
            "_view_name": "HBoxView",
            "box_style": "",
            "children": [
              "IPY_MODEL_e7ff92bc54ae40ffb6f03225f42780c2",
              "IPY_MODEL_b08bb21348c34fdd85bbb602ffe1c269",
              "IPY_MODEL_b89ed402ba0243e8a0b342bf3fd1dc97"
            ],
            "layout": "IPY_MODEL_9b4960c5cccb4add957525f51dabfec4"
          }
        },
        "e7ff92bc54ae40ffb6f03225f42780c2": {
          "model_module": "@jupyter-widgets/controls",
          "model_name": "HTMLModel",
          "model_module_version": "1.5.0",
          "state": {
            "_dom_classes": [],
            "_model_module": "@jupyter-widgets/controls",
            "_model_module_version": "1.5.0",
            "_model_name": "HTMLModel",
            "_view_count": null,
            "_view_module": "@jupyter-widgets/controls",
            "_view_module_version": "1.5.0",
            "_view_name": "HTMLView",
            "description": "",
            "description_tooltip": null,
            "layout": "IPY_MODEL_3e49fbdc40374c27836785eca3ce078d",
            "placeholder": "​",
            "style": "IPY_MODEL_5b608acb202c480289ae7fcaf2fa5277",
            "value": "Downloading: 100%"
          }
        },
        "b08bb21348c34fdd85bbb602ffe1c269": {
          "model_module": "@jupyter-widgets/controls",
          "model_name": "FloatProgressModel",
          "model_module_version": "1.5.0",
          "state": {
            "_dom_classes": [],
            "_model_module": "@jupyter-widgets/controls",
            "_model_module_version": "1.5.0",
            "_model_name": "FloatProgressModel",
            "_view_count": null,
            "_view_module": "@jupyter-widgets/controls",
            "_view_module_version": "1.5.0",
            "_view_name": "ProgressView",
            "bar_style": "success",
            "description": "",
            "description_tooltip": null,
            "layout": "IPY_MODEL_3b7456d75f1040ec95fb87e87d4a4b0a",
            "max": 456318,
            "min": 0,
            "orientation": "horizontal",
            "style": "IPY_MODEL_4c62d01e547b4e41acd825ee48f46016",
            "value": 456318
          }
        },
        "b89ed402ba0243e8a0b342bf3fd1dc97": {
          "model_module": "@jupyter-widgets/controls",
          "model_name": "HTMLModel",
          "model_module_version": "1.5.0",
          "state": {
            "_dom_classes": [],
            "_model_module": "@jupyter-widgets/controls",
            "_model_module_version": "1.5.0",
            "_model_name": "HTMLModel",
            "_view_count": null,
            "_view_module": "@jupyter-widgets/controls",
            "_view_module_version": "1.5.0",
            "_view_name": "HTMLView",
            "description": "",
            "description_tooltip": null,
            "layout": "IPY_MODEL_0f1bd90f2b9a403e9baa1c209e182966",
            "placeholder": "​",
            "style": "IPY_MODEL_a8008764205b4ed4a57614bb83b55f88",
            "value": " 456k/456k [00:01&lt;00:00, 574kB/s]"
          }
        },
        "9b4960c5cccb4add957525f51dabfec4": {
          "model_module": "@jupyter-widgets/base",
          "model_name": "LayoutModel",
          "model_module_version": "1.2.0",
          "state": {
            "_model_module": "@jupyter-widgets/base",
            "_model_module_version": "1.2.0",
            "_model_name": "LayoutModel",
            "_view_count": null,
            "_view_module": "@jupyter-widgets/base",
            "_view_module_version": "1.2.0",
            "_view_name": "LayoutView",
            "align_content": null,
            "align_items": null,
            "align_self": null,
            "border": null,
            "bottom": null,
            "display": null,
            "flex": null,
            "flex_flow": null,
            "grid_area": null,
            "grid_auto_columns": null,
            "grid_auto_flow": null,
            "grid_auto_rows": null,
            "grid_column": null,
            "grid_gap": null,
            "grid_row": null,
            "grid_template_areas": null,
            "grid_template_columns": null,
            "grid_template_rows": null,
            "height": null,
            "justify_content": null,
            "justify_items": null,
            "left": null,
            "margin": null,
            "max_height": null,
            "max_width": null,
            "min_height": null,
            "min_width": null,
            "object_fit": null,
            "object_position": null,
            "order": null,
            "overflow": null,
            "overflow_x": null,
            "overflow_y": null,
            "padding": null,
            "right": null,
            "top": null,
            "visibility": null,
            "width": null
          }
        },
        "3e49fbdc40374c27836785eca3ce078d": {
          "model_module": "@jupyter-widgets/base",
          "model_name": "LayoutModel",
          "model_module_version": "1.2.0",
          "state": {
            "_model_module": "@jupyter-widgets/base",
            "_model_module_version": "1.2.0",
            "_model_name": "LayoutModel",
            "_view_count": null,
            "_view_module": "@jupyter-widgets/base",
            "_view_module_version": "1.2.0",
            "_view_name": "LayoutView",
            "align_content": null,
            "align_items": null,
            "align_self": null,
            "border": null,
            "bottom": null,
            "display": null,
            "flex": null,
            "flex_flow": null,
            "grid_area": null,
            "grid_auto_columns": null,
            "grid_auto_flow": null,
            "grid_auto_rows": null,
            "grid_column": null,
            "grid_gap": null,
            "grid_row": null,
            "grid_template_areas": null,
            "grid_template_columns": null,
            "grid_template_rows": null,
            "height": null,
            "justify_content": null,
            "justify_items": null,
            "left": null,
            "margin": null,
            "max_height": null,
            "max_width": null,
            "min_height": null,
            "min_width": null,
            "object_fit": null,
            "object_position": null,
            "order": null,
            "overflow": null,
            "overflow_x": null,
            "overflow_y": null,
            "padding": null,
            "right": null,
            "top": null,
            "visibility": null,
            "width": null
          }
        },
        "5b608acb202c480289ae7fcaf2fa5277": {
          "model_module": "@jupyter-widgets/controls",
          "model_name": "DescriptionStyleModel",
          "model_module_version": "1.5.0",
          "state": {
            "_model_module": "@jupyter-widgets/controls",
            "_model_module_version": "1.5.0",
            "_model_name": "DescriptionStyleModel",
            "_view_count": null,
            "_view_module": "@jupyter-widgets/base",
            "_view_module_version": "1.2.0",
            "_view_name": "StyleView",
            "description_width": ""
          }
        },
        "3b7456d75f1040ec95fb87e87d4a4b0a": {
          "model_module": "@jupyter-widgets/base",
          "model_name": "LayoutModel",
          "model_module_version": "1.2.0",
          "state": {
            "_model_module": "@jupyter-widgets/base",
            "_model_module_version": "1.2.0",
            "_model_name": "LayoutModel",
            "_view_count": null,
            "_view_module": "@jupyter-widgets/base",
            "_view_module_version": "1.2.0",
            "_view_name": "LayoutView",
            "align_content": null,
            "align_items": null,
            "align_self": null,
            "border": null,
            "bottom": null,
            "display": null,
            "flex": null,
            "flex_flow": null,
            "grid_area": null,
            "grid_auto_columns": null,
            "grid_auto_flow": null,
            "grid_auto_rows": null,
            "grid_column": null,
            "grid_gap": null,
            "grid_row": null,
            "grid_template_areas": null,
            "grid_template_columns": null,
            "grid_template_rows": null,
            "height": null,
            "justify_content": null,
            "justify_items": null,
            "left": null,
            "margin": null,
            "max_height": null,
            "max_width": null,
            "min_height": null,
            "min_width": null,
            "object_fit": null,
            "object_position": null,
            "order": null,
            "overflow": null,
            "overflow_x": null,
            "overflow_y": null,
            "padding": null,
            "right": null,
            "top": null,
            "visibility": null,
            "width": null
          }
        },
        "4c62d01e547b4e41acd825ee48f46016": {
          "model_module": "@jupyter-widgets/controls",
          "model_name": "ProgressStyleModel",
          "model_module_version": "1.5.0",
          "state": {
            "_model_module": "@jupyter-widgets/controls",
            "_model_module_version": "1.5.0",
            "_model_name": "ProgressStyleModel",
            "_view_count": null,
            "_view_module": "@jupyter-widgets/base",
            "_view_module_version": "1.2.0",
            "_view_name": "StyleView",
            "bar_color": null,
            "description_width": ""
          }
        },
        "0f1bd90f2b9a403e9baa1c209e182966": {
          "model_module": "@jupyter-widgets/base",
          "model_name": "LayoutModel",
          "model_module_version": "1.2.0",
          "state": {
            "_model_module": "@jupyter-widgets/base",
            "_model_module_version": "1.2.0",
            "_model_name": "LayoutModel",
            "_view_count": null,
            "_view_module": "@jupyter-widgets/base",
            "_view_module_version": "1.2.0",
            "_view_name": "LayoutView",
            "align_content": null,
            "align_items": null,
            "align_self": null,
            "border": null,
            "bottom": null,
            "display": null,
            "flex": null,
            "flex_flow": null,
            "grid_area": null,
            "grid_auto_columns": null,
            "grid_auto_flow": null,
            "grid_auto_rows": null,
            "grid_column": null,
            "grid_gap": null,
            "grid_row": null,
            "grid_template_areas": null,
            "grid_template_columns": null,
            "grid_template_rows": null,
            "height": null,
            "justify_content": null,
            "justify_items": null,
            "left": null,
            "margin": null,
            "max_height": null,
            "max_width": null,
            "min_height": null,
            "min_width": null,
            "object_fit": null,
            "object_position": null,
            "order": null,
            "overflow": null,
            "overflow_x": null,
            "overflow_y": null,
            "padding": null,
            "right": null,
            "top": null,
            "visibility": null,
            "width": null
          }
        },
        "a8008764205b4ed4a57614bb83b55f88": {
          "model_module": "@jupyter-widgets/controls",
          "model_name": "DescriptionStyleModel",
          "model_module_version": "1.5.0",
          "state": {
            "_model_module": "@jupyter-widgets/controls",
            "_model_module_version": "1.5.0",
            "_model_name": "DescriptionStyleModel",
            "_view_count": null,
            "_view_module": "@jupyter-widgets/base",
            "_view_module_version": "1.2.0",
            "_view_name": "StyleView",
            "description_width": ""
          }
        },
        "f618de5aaec948368831c9074b322efb": {
          "model_module": "@jupyter-widgets/controls",
          "model_name": "HBoxModel",
          "model_module_version": "1.5.0",
          "state": {
            "_dom_classes": [],
            "_model_module": "@jupyter-widgets/controls",
            "_model_module_version": "1.5.0",
            "_model_name": "HBoxModel",
            "_view_count": null,
            "_view_module": "@jupyter-widgets/controls",
            "_view_module_version": "1.5.0",
            "_view_name": "HBoxView",
            "box_style": "",
            "children": [
              "IPY_MODEL_6ed04cc22bb7414b8d4fa8a7038ffca6",
              "IPY_MODEL_069e08144123450c8d2a5755d4a17a1a",
              "IPY_MODEL_2adef3cf10364abb97e7aec55b2e3b1e"
            ],
            "layout": "IPY_MODEL_d6e61ff7a64c4a0ebbbeb18dcee68101"
          }
        },
        "6ed04cc22bb7414b8d4fa8a7038ffca6": {
          "model_module": "@jupyter-widgets/controls",
          "model_name": "HTMLModel",
          "model_module_version": "1.5.0",
          "state": {
            "_dom_classes": [],
            "_model_module": "@jupyter-widgets/controls",
            "_model_module_version": "1.5.0",
            "_model_name": "HTMLModel",
            "_view_count": null,
            "_view_module": "@jupyter-widgets/controls",
            "_view_module_version": "1.5.0",
            "_view_name": "HTMLView",
            "description": "",
            "description_tooltip": null,
            "layout": "IPY_MODEL_f030790ea89646b291447253f3cb76c8",
            "placeholder": "​",
            "style": "IPY_MODEL_d8e0d9260b6b4811b12b63dd52304113",
            "value": "Downloading: 100%"
          }
        },
        "069e08144123450c8d2a5755d4a17a1a": {
          "model_module": "@jupyter-widgets/controls",
          "model_name": "FloatProgressModel",
          "model_module_version": "1.5.0",
          "state": {
            "_dom_classes": [],
            "_model_module": "@jupyter-widgets/controls",
            "_model_module_version": "1.5.0",
            "_model_name": "FloatProgressModel",
            "_view_count": null,
            "_view_module": "@jupyter-widgets/controls",
            "_view_module_version": "1.5.0",
            "_view_name": "ProgressView",
            "bar_style": "success",
            "description": "",
            "description_tooltip": null,
            "layout": "IPY_MODEL_3b78225662b0448ba5dcc4a238125d90",
            "max": 1355863,
            "min": 0,
            "orientation": "horizontal",
            "style": "IPY_MODEL_0e24a207d60747dbac3a49eb87511915",
            "value": 1355863
          }
        },
        "2adef3cf10364abb97e7aec55b2e3b1e": {
          "model_module": "@jupyter-widgets/controls",
          "model_name": "HTMLModel",
          "model_module_version": "1.5.0",
          "state": {
            "_dom_classes": [],
            "_model_module": "@jupyter-widgets/controls",
            "_model_module_version": "1.5.0",
            "_model_name": "HTMLModel",
            "_view_count": null,
            "_view_module": "@jupyter-widgets/controls",
            "_view_module_version": "1.5.0",
            "_view_name": "HTMLView",
            "description": "",
            "description_tooltip": null,
            "layout": "IPY_MODEL_66e144839b9a4f70b9383bab55b8c4aa",
            "placeholder": "​",
            "style": "IPY_MODEL_19cab835169e4aabb328521bb1398ec7",
            "value": " 1.36M/1.36M [00:01&lt;00:00, 852kB/s]"
          }
        },
        "d6e61ff7a64c4a0ebbbeb18dcee68101": {
          "model_module": "@jupyter-widgets/base",
          "model_name": "LayoutModel",
          "model_module_version": "1.2.0",
          "state": {
            "_model_module": "@jupyter-widgets/base",
            "_model_module_version": "1.2.0",
            "_model_name": "LayoutModel",
            "_view_count": null,
            "_view_module": "@jupyter-widgets/base",
            "_view_module_version": "1.2.0",
            "_view_name": "LayoutView",
            "align_content": null,
            "align_items": null,
            "align_self": null,
            "border": null,
            "bottom": null,
            "display": null,
            "flex": null,
            "flex_flow": null,
            "grid_area": null,
            "grid_auto_columns": null,
            "grid_auto_flow": null,
            "grid_auto_rows": null,
            "grid_column": null,
            "grid_gap": null,
            "grid_row": null,
            "grid_template_areas": null,
            "grid_template_columns": null,
            "grid_template_rows": null,
            "height": null,
            "justify_content": null,
            "justify_items": null,
            "left": null,
            "margin": null,
            "max_height": null,
            "max_width": null,
            "min_height": null,
            "min_width": null,
            "object_fit": null,
            "object_position": null,
            "order": null,
            "overflow": null,
            "overflow_x": null,
            "overflow_y": null,
            "padding": null,
            "right": null,
            "top": null,
            "visibility": null,
            "width": null
          }
        },
        "f030790ea89646b291447253f3cb76c8": {
          "model_module": "@jupyter-widgets/base",
          "model_name": "LayoutModel",
          "model_module_version": "1.2.0",
          "state": {
            "_model_module": "@jupyter-widgets/base",
            "_model_module_version": "1.2.0",
            "_model_name": "LayoutModel",
            "_view_count": null,
            "_view_module": "@jupyter-widgets/base",
            "_view_module_version": "1.2.0",
            "_view_name": "LayoutView",
            "align_content": null,
            "align_items": null,
            "align_self": null,
            "border": null,
            "bottom": null,
            "display": null,
            "flex": null,
            "flex_flow": null,
            "grid_area": null,
            "grid_auto_columns": null,
            "grid_auto_flow": null,
            "grid_auto_rows": null,
            "grid_column": null,
            "grid_gap": null,
            "grid_row": null,
            "grid_template_areas": null,
            "grid_template_columns": null,
            "grid_template_rows": null,
            "height": null,
            "justify_content": null,
            "justify_items": null,
            "left": null,
            "margin": null,
            "max_height": null,
            "max_width": null,
            "min_height": null,
            "min_width": null,
            "object_fit": null,
            "object_position": null,
            "order": null,
            "overflow": null,
            "overflow_x": null,
            "overflow_y": null,
            "padding": null,
            "right": null,
            "top": null,
            "visibility": null,
            "width": null
          }
        },
        "d8e0d9260b6b4811b12b63dd52304113": {
          "model_module": "@jupyter-widgets/controls",
          "model_name": "DescriptionStyleModel",
          "model_module_version": "1.5.0",
          "state": {
            "_model_module": "@jupyter-widgets/controls",
            "_model_module_version": "1.5.0",
            "_model_name": "DescriptionStyleModel",
            "_view_count": null,
            "_view_module": "@jupyter-widgets/base",
            "_view_module_version": "1.2.0",
            "_view_name": "StyleView",
            "description_width": ""
          }
        },
        "3b78225662b0448ba5dcc4a238125d90": {
          "model_module": "@jupyter-widgets/base",
          "model_name": "LayoutModel",
          "model_module_version": "1.2.0",
          "state": {
            "_model_module": "@jupyter-widgets/base",
            "_model_module_version": "1.2.0",
            "_model_name": "LayoutModel",
            "_view_count": null,
            "_view_module": "@jupyter-widgets/base",
            "_view_module_version": "1.2.0",
            "_view_name": "LayoutView",
            "align_content": null,
            "align_items": null,
            "align_self": null,
            "border": null,
            "bottom": null,
            "display": null,
            "flex": null,
            "flex_flow": null,
            "grid_area": null,
            "grid_auto_columns": null,
            "grid_auto_flow": null,
            "grid_auto_rows": null,
            "grid_column": null,
            "grid_gap": null,
            "grid_row": null,
            "grid_template_areas": null,
            "grid_template_columns": null,
            "grid_template_rows": null,
            "height": null,
            "justify_content": null,
            "justify_items": null,
            "left": null,
            "margin": null,
            "max_height": null,
            "max_width": null,
            "min_height": null,
            "min_width": null,
            "object_fit": null,
            "object_position": null,
            "order": null,
            "overflow": null,
            "overflow_x": null,
            "overflow_y": null,
            "padding": null,
            "right": null,
            "top": null,
            "visibility": null,
            "width": null
          }
        },
        "0e24a207d60747dbac3a49eb87511915": {
          "model_module": "@jupyter-widgets/controls",
          "model_name": "ProgressStyleModel",
          "model_module_version": "1.5.0",
          "state": {
            "_model_module": "@jupyter-widgets/controls",
            "_model_module_version": "1.5.0",
            "_model_name": "ProgressStyleModel",
            "_view_count": null,
            "_view_module": "@jupyter-widgets/base",
            "_view_module_version": "1.2.0",
            "_view_name": "StyleView",
            "bar_color": null,
            "description_width": ""
          }
        },
        "66e144839b9a4f70b9383bab55b8c4aa": {
          "model_module": "@jupyter-widgets/base",
          "model_name": "LayoutModel",
          "model_module_version": "1.2.0",
          "state": {
            "_model_module": "@jupyter-widgets/base",
            "_model_module_version": "1.2.0",
            "_model_name": "LayoutModel",
            "_view_count": null,
            "_view_module": "@jupyter-widgets/base",
            "_view_module_version": "1.2.0",
            "_view_name": "LayoutView",
            "align_content": null,
            "align_items": null,
            "align_self": null,
            "border": null,
            "bottom": null,
            "display": null,
            "flex": null,
            "flex_flow": null,
            "grid_area": null,
            "grid_auto_columns": null,
            "grid_auto_flow": null,
            "grid_auto_rows": null,
            "grid_column": null,
            "grid_gap": null,
            "grid_row": null,
            "grid_template_areas": null,
            "grid_template_columns": null,
            "grid_template_rows": null,
            "height": null,
            "justify_content": null,
            "justify_items": null,
            "left": null,
            "margin": null,
            "max_height": null,
            "max_width": null,
            "min_height": null,
            "min_width": null,
            "object_fit": null,
            "object_position": null,
            "order": null,
            "overflow": null,
            "overflow_x": null,
            "overflow_y": null,
            "padding": null,
            "right": null,
            "top": null,
            "visibility": null,
            "width": null
          }
        },
        "19cab835169e4aabb328521bb1398ec7": {
          "model_module": "@jupyter-widgets/controls",
          "model_name": "DescriptionStyleModel",
          "model_module_version": "1.5.0",
          "state": {
            "_model_module": "@jupyter-widgets/controls",
            "_model_module_version": "1.5.0",
            "_model_name": "DescriptionStyleModel",
            "_view_count": null,
            "_view_module": "@jupyter-widgets/base",
            "_view_module_version": "1.2.0",
            "_view_name": "StyleView",
            "description_width": ""
          }
        },
        "c06aa6431fc5420baa0a8738f8a60855": {
          "model_module": "@jupyter-widgets/controls",
          "model_name": "HBoxModel",
          "model_module_version": "1.5.0",
          "state": {
            "_dom_classes": [],
            "_model_module": "@jupyter-widgets/controls",
            "_model_module_version": "1.5.0",
            "_model_name": "HBoxModel",
            "_view_count": null,
            "_view_module": "@jupyter-widgets/controls",
            "_view_module_version": "1.5.0",
            "_view_name": "HBoxView",
            "box_style": "",
            "children": [
              "IPY_MODEL_4d8898b2de7e4f88b7f9e928b678548f",
              "IPY_MODEL_cab455a0940f404eb0ee02e0b420d811",
              "IPY_MODEL_15e1abd378944c7e84536f810ce75fe0"
            ],
            "layout": "IPY_MODEL_e18e33cba43f44f4950c05a87c4aeb40"
          }
        },
        "4d8898b2de7e4f88b7f9e928b678548f": {
          "model_module": "@jupyter-widgets/controls",
          "model_name": "HTMLModel",
          "model_module_version": "1.5.0",
          "state": {
            "_dom_classes": [],
            "_model_module": "@jupyter-widgets/controls",
            "_model_module_version": "1.5.0",
            "_model_name": "HTMLModel",
            "_view_count": null,
            "_view_module": "@jupyter-widgets/controls",
            "_view_module_version": "1.5.0",
            "_view_name": "HTMLView",
            "description": "",
            "description_tooltip": null,
            "layout": "IPY_MODEL_cc57f673d5f04bc1abe278c95ba57651",
            "placeholder": "​",
            "style": "IPY_MODEL_8522b47fce68409a9287c25039a82923",
            "value": "Downloading: 100%"
          }
        },
        "cab455a0940f404eb0ee02e0b420d811": {
          "model_module": "@jupyter-widgets/controls",
          "model_name": "FloatProgressModel",
          "model_module_version": "1.5.0",
          "state": {
            "_dom_classes": [],
            "_model_module": "@jupyter-widgets/controls",
            "_model_module_version": "1.5.0",
            "_model_name": "FloatProgressModel",
            "_view_count": null,
            "_view_module": "@jupyter-widgets/controls",
            "_view_module_version": "1.5.0",
            "_view_name": "ProgressView",
            "bar_style": "success",
            "description": "",
            "description_tooltip": null,
            "layout": "IPY_MODEL_03f4f2fe49eb44099b9ad57066428705",
            "max": 1625270765,
            "min": 0,
            "orientation": "horizontal",
            "style": "IPY_MODEL_d2eccb98fc764697b527bd878547b724",
            "value": 1625270765
          }
        },
        "15e1abd378944c7e84536f810ce75fe0": {
          "model_module": "@jupyter-widgets/controls",
          "model_name": "HTMLModel",
          "model_module_version": "1.5.0",
          "state": {
            "_dom_classes": [],
            "_model_module": "@jupyter-widgets/controls",
            "_model_module_version": "1.5.0",
            "_model_name": "HTMLModel",
            "_view_count": null,
            "_view_module": "@jupyter-widgets/controls",
            "_view_module_version": "1.5.0",
            "_view_name": "HTMLView",
            "description": "",
            "description_tooltip": null,
            "layout": "IPY_MODEL_20c07c7c6a3b48f3b4095905d37b97f2",
            "placeholder": "​",
            "style": "IPY_MODEL_319b09384d6e4ea7a2c54ea29c9b6ddb",
            "value": " 1.63G/1.63G [00:23&lt;00:00, 81.2MB/s]"
          }
        },
        "e18e33cba43f44f4950c05a87c4aeb40": {
          "model_module": "@jupyter-widgets/base",
          "model_name": "LayoutModel",
          "model_module_version": "1.2.0",
          "state": {
            "_model_module": "@jupyter-widgets/base",
            "_model_module_version": "1.2.0",
            "_model_name": "LayoutModel",
            "_view_count": null,
            "_view_module": "@jupyter-widgets/base",
            "_view_module_version": "1.2.0",
            "_view_name": "LayoutView",
            "align_content": null,
            "align_items": null,
            "align_self": null,
            "border": null,
            "bottom": null,
            "display": null,
            "flex": null,
            "flex_flow": null,
            "grid_area": null,
            "grid_auto_columns": null,
            "grid_auto_flow": null,
            "grid_auto_rows": null,
            "grid_column": null,
            "grid_gap": null,
            "grid_row": null,
            "grid_template_areas": null,
            "grid_template_columns": null,
            "grid_template_rows": null,
            "height": null,
            "justify_content": null,
            "justify_items": null,
            "left": null,
            "margin": null,
            "max_height": null,
            "max_width": null,
            "min_height": null,
            "min_width": null,
            "object_fit": null,
            "object_position": null,
            "order": null,
            "overflow": null,
            "overflow_x": null,
            "overflow_y": null,
            "padding": null,
            "right": null,
            "top": null,
            "visibility": null,
            "width": null
          }
        },
        "cc57f673d5f04bc1abe278c95ba57651": {
          "model_module": "@jupyter-widgets/base",
          "model_name": "LayoutModel",
          "model_module_version": "1.2.0",
          "state": {
            "_model_module": "@jupyter-widgets/base",
            "_model_module_version": "1.2.0",
            "_model_name": "LayoutModel",
            "_view_count": null,
            "_view_module": "@jupyter-widgets/base",
            "_view_module_version": "1.2.0",
            "_view_name": "LayoutView",
            "align_content": null,
            "align_items": null,
            "align_self": null,
            "border": null,
            "bottom": null,
            "display": null,
            "flex": null,
            "flex_flow": null,
            "grid_area": null,
            "grid_auto_columns": null,
            "grid_auto_flow": null,
            "grid_auto_rows": null,
            "grid_column": null,
            "grid_gap": null,
            "grid_row": null,
            "grid_template_areas": null,
            "grid_template_columns": null,
            "grid_template_rows": null,
            "height": null,
            "justify_content": null,
            "justify_items": null,
            "left": null,
            "margin": null,
            "max_height": null,
            "max_width": null,
            "min_height": null,
            "min_width": null,
            "object_fit": null,
            "object_position": null,
            "order": null,
            "overflow": null,
            "overflow_x": null,
            "overflow_y": null,
            "padding": null,
            "right": null,
            "top": null,
            "visibility": null,
            "width": null
          }
        },
        "8522b47fce68409a9287c25039a82923": {
          "model_module": "@jupyter-widgets/controls",
          "model_name": "DescriptionStyleModel",
          "model_module_version": "1.5.0",
          "state": {
            "_model_module": "@jupyter-widgets/controls",
            "_model_module_version": "1.5.0",
            "_model_name": "DescriptionStyleModel",
            "_view_count": null,
            "_view_module": "@jupyter-widgets/base",
            "_view_module_version": "1.2.0",
            "_view_name": "StyleView",
            "description_width": ""
          }
        },
        "03f4f2fe49eb44099b9ad57066428705": {
          "model_module": "@jupyter-widgets/base",
          "model_name": "LayoutModel",
          "model_module_version": "1.2.0",
          "state": {
            "_model_module": "@jupyter-widgets/base",
            "_model_module_version": "1.2.0",
            "_model_name": "LayoutModel",
            "_view_count": null,
            "_view_module": "@jupyter-widgets/base",
            "_view_module_version": "1.2.0",
            "_view_name": "LayoutView",
            "align_content": null,
            "align_items": null,
            "align_self": null,
            "border": null,
            "bottom": null,
            "display": null,
            "flex": null,
            "flex_flow": null,
            "grid_area": null,
            "grid_auto_columns": null,
            "grid_auto_flow": null,
            "grid_auto_rows": null,
            "grid_column": null,
            "grid_gap": null,
            "grid_row": null,
            "grid_template_areas": null,
            "grid_template_columns": null,
            "grid_template_rows": null,
            "height": null,
            "justify_content": null,
            "justify_items": null,
            "left": null,
            "margin": null,
            "max_height": null,
            "max_width": null,
            "min_height": null,
            "min_width": null,
            "object_fit": null,
            "object_position": null,
            "order": null,
            "overflow": null,
            "overflow_x": null,
            "overflow_y": null,
            "padding": null,
            "right": null,
            "top": null,
            "visibility": null,
            "width": null
          }
        },
        "d2eccb98fc764697b527bd878547b724": {
          "model_module": "@jupyter-widgets/controls",
          "model_name": "ProgressStyleModel",
          "model_module_version": "1.5.0",
          "state": {
            "_model_module": "@jupyter-widgets/controls",
            "_model_module_version": "1.5.0",
            "_model_name": "ProgressStyleModel",
            "_view_count": null,
            "_view_module": "@jupyter-widgets/base",
            "_view_module_version": "1.2.0",
            "_view_name": "StyleView",
            "bar_color": null,
            "description_width": ""
          }
        },
        "20c07c7c6a3b48f3b4095905d37b97f2": {
          "model_module": "@jupyter-widgets/base",
          "model_name": "LayoutModel",
          "model_module_version": "1.2.0",
          "state": {
            "_model_module": "@jupyter-widgets/base",
            "_model_module_version": "1.2.0",
            "_model_name": "LayoutModel",
            "_view_count": null,
            "_view_module": "@jupyter-widgets/base",
            "_view_module_version": "1.2.0",
            "_view_name": "LayoutView",
            "align_content": null,
            "align_items": null,
            "align_self": null,
            "border": null,
            "bottom": null,
            "display": null,
            "flex": null,
            "flex_flow": null,
            "grid_area": null,
            "grid_auto_columns": null,
            "grid_auto_flow": null,
            "grid_auto_rows": null,
            "grid_column": null,
            "grid_gap": null,
            "grid_row": null,
            "grid_template_areas": null,
            "grid_template_columns": null,
            "grid_template_rows": null,
            "height": null,
            "justify_content": null,
            "justify_items": null,
            "left": null,
            "margin": null,
            "max_height": null,
            "max_width": null,
            "min_height": null,
            "min_width": null,
            "object_fit": null,
            "object_position": null,
            "order": null,
            "overflow": null,
            "overflow_x": null,
            "overflow_y": null,
            "padding": null,
            "right": null,
            "top": null,
            "visibility": null,
            "width": null
          }
        },
        "319b09384d6e4ea7a2c54ea29c9b6ddb": {
          "model_module": "@jupyter-widgets/controls",
          "model_name": "DescriptionStyleModel",
          "model_module_version": "1.5.0",
          "state": {
            "_model_module": "@jupyter-widgets/controls",
            "_model_module_version": "1.5.0",
            "_model_name": "DescriptionStyleModel",
            "_view_count": null,
            "_view_module": "@jupyter-widgets/base",
            "_view_module_version": "1.2.0",
            "_view_name": "StyleView",
            "description_width": ""
          }
        }
      }
    }
  },
  "cells": [
    {
      "cell_type": "code",
      "source": [
        "import pandas as pd\n",
        "import tensorflow as tf\n",
        "import numpy as np"
      ],
      "metadata": {
        "id": "grkDfdAw4zzP"
      },
      "execution_count": 1,
      "outputs": []
    },
    {
      "cell_type": "code",
      "execution_count": 2,
      "metadata": {
        "id": "T62yRTry1N_Q"
      },
      "outputs": [],
      "source": [
        "df = pd.read_csv('test.csv')\n"
      ]
    },
    {
      "cell_type": "code",
      "source": [
        "pip install nltk"
      ],
      "metadata": {
        "colab": {
          "base_uri": "https://localhost:8080/"
        },
        "id": "eE6w4-LhnG9o",
        "outputId": "22a9e741-43e1-466e-e593-fe35d602bed9"
      },
      "execution_count": 3,
      "outputs": [
        {
          "output_type": "stream",
          "name": "stdout",
          "text": [
            "Looking in indexes: https://pypi.org/simple, https://us-python.pkg.dev/colab-wheels/public/simple/\n",
            "Requirement already satisfied: nltk in /usr/local/lib/python3.8/dist-packages (3.7)\n",
            "Requirement already satisfied: joblib in /usr/local/lib/python3.8/dist-packages (from nltk) (1.2.0)\n",
            "Requirement already satisfied: tqdm in /usr/local/lib/python3.8/dist-packages (from nltk) (4.64.1)\n",
            "Requirement already satisfied: regex>=2021.8.3 in /usr/local/lib/python3.8/dist-packages (from nltk) (2022.6.2)\n",
            "Requirement already satisfied: click in /usr/local/lib/python3.8/dist-packages (from nltk) (7.1.2)\n"
          ]
        }
      ]
    },
    {
      "cell_type": "code",
      "source": [
        "df"
      ],
      "metadata": {
        "colab": {
          "base_uri": "https://localhost:8080/",
          "height": 424
        },
        "id": "OXhl_iYu5Qe-",
        "outputId": "4b8deba5-1b4d-4bea-f70c-ccfc1ffec402"
      },
      "execution_count": 4,
      "outputs": [
        {
          "output_type": "execute_result",
          "data": {
            "text/plain": [
              "                                             id  \\\n",
              "0      92c514c913c0bdfe25341af9fd72b29db544099b   \n",
              "1      2003841c7dc0e7c5b1a248f9cd536d727f27a45a   \n",
              "2      91b7d2311527f5c2b63a65ca98d21d9c92485149   \n",
              "3      caabf9cbdf96eb1410295a673e953d304391bfbb   \n",
              "4      3da746a7d9afcaa659088c8366ef6347fe6b53ea   \n",
              "...                                         ...   \n",
              "11485  ed8674cc15b29a87d8df8de1efee353d71122272   \n",
              "11486  2f58d1a99e9c47914e4b1c31613e3a041cd9011e   \n",
              "11487  411f6d57825161c3a037b4742baccd6cd227c0c3   \n",
              "11488  b5683ef8342056b17b068e0d59bdbe87e3fe44ea   \n",
              "11489  a6a5491edb0c96c4391b6a8c4504416b3572b3a1   \n",
              "\n",
              "                                                 article  \\\n",
              "0      Ever noticed how plane seats appear to be gett...   \n",
              "1      A drunk teenage boy had to be rescued by secur...   \n",
              "2      Dougie Freedman is on the verge of agreeing a ...   \n",
              "3      Liverpool target Neto is also wanted by PSG an...   \n",
              "4      Bruce Jenner will break his silence in a two-h...   \n",
              "...                                                  ...   \n",
              "11485  Our young Earth may have collided with a body ...   \n",
              "11486  A man facing trial for helping his former love...   \n",
              "11487  A dozen or more metal implements are arranged ...   \n",
              "11488  Brook Lopez dominated twin brother Robin with ...   \n",
              "11489  A Chinese hospital is being painstakingly move...   \n",
              "\n",
              "                                              highlights  \n",
              "0      Experts question if  packed out planes are put...  \n",
              "1      Drunk teenage boy climbed into lion enclosure ...  \n",
              "2      Nottingham Forest are close to extending Dougi...  \n",
              "3      Fiorentina goalkeeper Neto has been linked wit...  \n",
              "4      Tell-all interview with the reality TV star, 6...  \n",
              "...                                                  ...  \n",
              "11485  Oxford scientists say a Mercury-like body stru...  \n",
              "11486  Man accused of helping former lover kill woman...  \n",
              "11487  Marianne Power tried the tuning fork facial at...  \n",
              "11488  Brooklyn Nets beat the Portland Trail Blazers ...  \n",
              "11489  Chinese hospital marked for demolition because...  \n",
              "\n",
              "[11490 rows x 3 columns]"
            ],
            "text/html": [
              "\n",
              "  <div id=\"df-6893f5b8-fac7-46d7-931b-33a3a984236b\">\n",
              "    <div class=\"colab-df-container\">\n",
              "      <div>\n",
              "<style scoped>\n",
              "    .dataframe tbody tr th:only-of-type {\n",
              "        vertical-align: middle;\n",
              "    }\n",
              "\n",
              "    .dataframe tbody tr th {\n",
              "        vertical-align: top;\n",
              "    }\n",
              "\n",
              "    .dataframe thead th {\n",
              "        text-align: right;\n",
              "    }\n",
              "</style>\n",
              "<table border=\"1\" class=\"dataframe\">\n",
              "  <thead>\n",
              "    <tr style=\"text-align: right;\">\n",
              "      <th></th>\n",
              "      <th>id</th>\n",
              "      <th>article</th>\n",
              "      <th>highlights</th>\n",
              "    </tr>\n",
              "  </thead>\n",
              "  <tbody>\n",
              "    <tr>\n",
              "      <th>0</th>\n",
              "      <td>92c514c913c0bdfe25341af9fd72b29db544099b</td>\n",
              "      <td>Ever noticed how plane seats appear to be gett...</td>\n",
              "      <td>Experts question if  packed out planes are put...</td>\n",
              "    </tr>\n",
              "    <tr>\n",
              "      <th>1</th>\n",
              "      <td>2003841c7dc0e7c5b1a248f9cd536d727f27a45a</td>\n",
              "      <td>A drunk teenage boy had to be rescued by secur...</td>\n",
              "      <td>Drunk teenage boy climbed into lion enclosure ...</td>\n",
              "    </tr>\n",
              "    <tr>\n",
              "      <th>2</th>\n",
              "      <td>91b7d2311527f5c2b63a65ca98d21d9c92485149</td>\n",
              "      <td>Dougie Freedman is on the verge of agreeing a ...</td>\n",
              "      <td>Nottingham Forest are close to extending Dougi...</td>\n",
              "    </tr>\n",
              "    <tr>\n",
              "      <th>3</th>\n",
              "      <td>caabf9cbdf96eb1410295a673e953d304391bfbb</td>\n",
              "      <td>Liverpool target Neto is also wanted by PSG an...</td>\n",
              "      <td>Fiorentina goalkeeper Neto has been linked wit...</td>\n",
              "    </tr>\n",
              "    <tr>\n",
              "      <th>4</th>\n",
              "      <td>3da746a7d9afcaa659088c8366ef6347fe6b53ea</td>\n",
              "      <td>Bruce Jenner will break his silence in a two-h...</td>\n",
              "      <td>Tell-all interview with the reality TV star, 6...</td>\n",
              "    </tr>\n",
              "    <tr>\n",
              "      <th>...</th>\n",
              "      <td>...</td>\n",
              "      <td>...</td>\n",
              "      <td>...</td>\n",
              "    </tr>\n",
              "    <tr>\n",
              "      <th>11485</th>\n",
              "      <td>ed8674cc15b29a87d8df8de1efee353d71122272</td>\n",
              "      <td>Our young Earth may have collided with a body ...</td>\n",
              "      <td>Oxford scientists say a Mercury-like body stru...</td>\n",
              "    </tr>\n",
              "    <tr>\n",
              "      <th>11486</th>\n",
              "      <td>2f58d1a99e9c47914e4b1c31613e3a041cd9011e</td>\n",
              "      <td>A man facing trial for helping his former love...</td>\n",
              "      <td>Man accused of helping former lover kill woman...</td>\n",
              "    </tr>\n",
              "    <tr>\n",
              "      <th>11487</th>\n",
              "      <td>411f6d57825161c3a037b4742baccd6cd227c0c3</td>\n",
              "      <td>A dozen or more metal implements are arranged ...</td>\n",
              "      <td>Marianne Power tried the tuning fork facial at...</td>\n",
              "    </tr>\n",
              "    <tr>\n",
              "      <th>11488</th>\n",
              "      <td>b5683ef8342056b17b068e0d59bdbe87e3fe44ea</td>\n",
              "      <td>Brook Lopez dominated twin brother Robin with ...</td>\n",
              "      <td>Brooklyn Nets beat the Portland Trail Blazers ...</td>\n",
              "    </tr>\n",
              "    <tr>\n",
              "      <th>11489</th>\n",
              "      <td>a6a5491edb0c96c4391b6a8c4504416b3572b3a1</td>\n",
              "      <td>A Chinese hospital is being painstakingly move...</td>\n",
              "      <td>Chinese hospital marked for demolition because...</td>\n",
              "    </tr>\n",
              "  </tbody>\n",
              "</table>\n",
              "<p>11490 rows × 3 columns</p>\n",
              "</div>\n",
              "      <button class=\"colab-df-convert\" onclick=\"convertToInteractive('df-6893f5b8-fac7-46d7-931b-33a3a984236b')\"\n",
              "              title=\"Convert this dataframe to an interactive table.\"\n",
              "              style=\"display:none;\">\n",
              "        \n",
              "  <svg xmlns=\"http://www.w3.org/2000/svg\" height=\"24px\"viewBox=\"0 0 24 24\"\n",
              "       width=\"24px\">\n",
              "    <path d=\"M0 0h24v24H0V0z\" fill=\"none\"/>\n",
              "    <path d=\"M18.56 5.44l.94 2.06.94-2.06 2.06-.94-2.06-.94-.94-2.06-.94 2.06-2.06.94zm-11 1L8.5 8.5l.94-2.06 2.06-.94-2.06-.94L8.5 2.5l-.94 2.06-2.06.94zm10 10l.94 2.06.94-2.06 2.06-.94-2.06-.94-.94-2.06-.94 2.06-2.06.94z\"/><path d=\"M17.41 7.96l-1.37-1.37c-.4-.4-.92-.59-1.43-.59-.52 0-1.04.2-1.43.59L10.3 9.45l-7.72 7.72c-.78.78-.78 2.05 0 2.83L4 21.41c.39.39.9.59 1.41.59.51 0 1.02-.2 1.41-.59l7.78-7.78 2.81-2.81c.8-.78.8-2.07 0-2.86zM5.41 20L4 18.59l7.72-7.72 1.47 1.35L5.41 20z\"/>\n",
              "  </svg>\n",
              "      </button>\n",
              "      \n",
              "  <style>\n",
              "    .colab-df-container {\n",
              "      display:flex;\n",
              "      flex-wrap:wrap;\n",
              "      gap: 12px;\n",
              "    }\n",
              "\n",
              "    .colab-df-convert {\n",
              "      background-color: #E8F0FE;\n",
              "      border: none;\n",
              "      border-radius: 50%;\n",
              "      cursor: pointer;\n",
              "      display: none;\n",
              "      fill: #1967D2;\n",
              "      height: 32px;\n",
              "      padding: 0 0 0 0;\n",
              "      width: 32px;\n",
              "    }\n",
              "\n",
              "    .colab-df-convert:hover {\n",
              "      background-color: #E2EBFA;\n",
              "      box-shadow: 0px 1px 2px rgba(60, 64, 67, 0.3), 0px 1px 3px 1px rgba(60, 64, 67, 0.15);\n",
              "      fill: #174EA6;\n",
              "    }\n",
              "\n",
              "    [theme=dark] .colab-df-convert {\n",
              "      background-color: #3B4455;\n",
              "      fill: #D2E3FC;\n",
              "    }\n",
              "\n",
              "    [theme=dark] .colab-df-convert:hover {\n",
              "      background-color: #434B5C;\n",
              "      box-shadow: 0px 1px 3px 1px rgba(0, 0, 0, 0.15);\n",
              "      filter: drop-shadow(0px 1px 2px rgba(0, 0, 0, 0.3));\n",
              "      fill: #FFFFFF;\n",
              "    }\n",
              "  </style>\n",
              "\n",
              "      <script>\n",
              "        const buttonEl =\n",
              "          document.querySelector('#df-6893f5b8-fac7-46d7-931b-33a3a984236b button.colab-df-convert');\n",
              "        buttonEl.style.display =\n",
              "          google.colab.kernel.accessAllowed ? 'block' : 'none';\n",
              "\n",
              "        async function convertToInteractive(key) {\n",
              "          const element = document.querySelector('#df-6893f5b8-fac7-46d7-931b-33a3a984236b');\n",
              "          const dataTable =\n",
              "            await google.colab.kernel.invokeFunction('convertToInteractive',\n",
              "                                                     [key], {});\n",
              "          if (!dataTable) return;\n",
              "\n",
              "          const docLinkHtml = 'Like what you see? Visit the ' +\n",
              "            '<a target=\"_blank\" href=https://colab.research.google.com/notebooks/data_table.ipynb>data table notebook</a>'\n",
              "            + ' to learn more about interactive tables.';\n",
              "          element.innerHTML = '';\n",
              "          dataTable['output_type'] = 'display_data';\n",
              "          await google.colab.output.renderOutput(dataTable, element);\n",
              "          const docLink = document.createElement('div');\n",
              "          docLink.innerHTML = docLinkHtml;\n",
              "          element.appendChild(docLink);\n",
              "        }\n",
              "      </script>\n",
              "    </div>\n",
              "  </div>\n",
              "  "
            ]
          },
          "metadata": {},
          "execution_count": 4
        }
      ]
    },
    {
      "cell_type": "code",
      "source": [
        "df = df.drop(['id'], axis=1)"
      ],
      "metadata": {
        "id": "ISIDHnKH6CQX"
      },
      "execution_count": 5,
      "outputs": []
    },
    {
      "cell_type": "code",
      "source": [
        "df['summary'] = df['highlights']\n",
        "df = df.drop('highlights',axis = 1)"
      ],
      "metadata": {
        "id": "DvCQKPUb7dvo"
      },
      "execution_count": 6,
      "outputs": []
    },
    {
      "cell_type": "code",
      "source": [
        "df['document'] = df['article']\n",
        "df = df.drop('article',axis = 1)"
      ],
      "metadata": {
        "id": "wmHdLqGy8FJP"
      },
      "execution_count": 7,
      "outputs": []
    },
    {
      "cell_type": "code",
      "source": [
        "df"
      ],
      "metadata": {
        "colab": {
          "base_uri": "https://localhost:8080/",
          "height": 424
        },
        "id": "HMUP7HVJ8TUa",
        "outputId": "499cde5b-8ac5-4974-f7f0-e851f73c5d90"
      },
      "execution_count": 8,
      "outputs": [
        {
          "output_type": "execute_result",
          "data": {
            "text/plain": [
              "                                                 summary  \\\n",
              "0      Experts question if  packed out planes are put...   \n",
              "1      Drunk teenage boy climbed into lion enclosure ...   \n",
              "2      Nottingham Forest are close to extending Dougi...   \n",
              "3      Fiorentina goalkeeper Neto has been linked wit...   \n",
              "4      Tell-all interview with the reality TV star, 6...   \n",
              "...                                                  ...   \n",
              "11485  Oxford scientists say a Mercury-like body stru...   \n",
              "11486  Man accused of helping former lover kill woman...   \n",
              "11487  Marianne Power tried the tuning fork facial at...   \n",
              "11488  Brooklyn Nets beat the Portland Trail Blazers ...   \n",
              "11489  Chinese hospital marked for demolition because...   \n",
              "\n",
              "                                                document  \n",
              "0      Ever noticed how plane seats appear to be gett...  \n",
              "1      A drunk teenage boy had to be rescued by secur...  \n",
              "2      Dougie Freedman is on the verge of agreeing a ...  \n",
              "3      Liverpool target Neto is also wanted by PSG an...  \n",
              "4      Bruce Jenner will break his silence in a two-h...  \n",
              "...                                                  ...  \n",
              "11485  Our young Earth may have collided with a body ...  \n",
              "11486  A man facing trial for helping his former love...  \n",
              "11487  A dozen or more metal implements are arranged ...  \n",
              "11488  Brook Lopez dominated twin brother Robin with ...  \n",
              "11489  A Chinese hospital is being painstakingly move...  \n",
              "\n",
              "[11490 rows x 2 columns]"
            ],
            "text/html": [
              "\n",
              "  <div id=\"df-4e624f15-7908-4042-a682-64dd5d72c791\">\n",
              "    <div class=\"colab-df-container\">\n",
              "      <div>\n",
              "<style scoped>\n",
              "    .dataframe tbody tr th:only-of-type {\n",
              "        vertical-align: middle;\n",
              "    }\n",
              "\n",
              "    .dataframe tbody tr th {\n",
              "        vertical-align: top;\n",
              "    }\n",
              "\n",
              "    .dataframe thead th {\n",
              "        text-align: right;\n",
              "    }\n",
              "</style>\n",
              "<table border=\"1\" class=\"dataframe\">\n",
              "  <thead>\n",
              "    <tr style=\"text-align: right;\">\n",
              "      <th></th>\n",
              "      <th>summary</th>\n",
              "      <th>document</th>\n",
              "    </tr>\n",
              "  </thead>\n",
              "  <tbody>\n",
              "    <tr>\n",
              "      <th>0</th>\n",
              "      <td>Experts question if  packed out planes are put...</td>\n",
              "      <td>Ever noticed how plane seats appear to be gett...</td>\n",
              "    </tr>\n",
              "    <tr>\n",
              "      <th>1</th>\n",
              "      <td>Drunk teenage boy climbed into lion enclosure ...</td>\n",
              "      <td>A drunk teenage boy had to be rescued by secur...</td>\n",
              "    </tr>\n",
              "    <tr>\n",
              "      <th>2</th>\n",
              "      <td>Nottingham Forest are close to extending Dougi...</td>\n",
              "      <td>Dougie Freedman is on the verge of agreeing a ...</td>\n",
              "    </tr>\n",
              "    <tr>\n",
              "      <th>3</th>\n",
              "      <td>Fiorentina goalkeeper Neto has been linked wit...</td>\n",
              "      <td>Liverpool target Neto is also wanted by PSG an...</td>\n",
              "    </tr>\n",
              "    <tr>\n",
              "      <th>4</th>\n",
              "      <td>Tell-all interview with the reality TV star, 6...</td>\n",
              "      <td>Bruce Jenner will break his silence in a two-h...</td>\n",
              "    </tr>\n",
              "    <tr>\n",
              "      <th>...</th>\n",
              "      <td>...</td>\n",
              "      <td>...</td>\n",
              "    </tr>\n",
              "    <tr>\n",
              "      <th>11485</th>\n",
              "      <td>Oxford scientists say a Mercury-like body stru...</td>\n",
              "      <td>Our young Earth may have collided with a body ...</td>\n",
              "    </tr>\n",
              "    <tr>\n",
              "      <th>11486</th>\n",
              "      <td>Man accused of helping former lover kill woman...</td>\n",
              "      <td>A man facing trial for helping his former love...</td>\n",
              "    </tr>\n",
              "    <tr>\n",
              "      <th>11487</th>\n",
              "      <td>Marianne Power tried the tuning fork facial at...</td>\n",
              "      <td>A dozen or more metal implements are arranged ...</td>\n",
              "    </tr>\n",
              "    <tr>\n",
              "      <th>11488</th>\n",
              "      <td>Brooklyn Nets beat the Portland Trail Blazers ...</td>\n",
              "      <td>Brook Lopez dominated twin brother Robin with ...</td>\n",
              "    </tr>\n",
              "    <tr>\n",
              "      <th>11489</th>\n",
              "      <td>Chinese hospital marked for demolition because...</td>\n",
              "      <td>A Chinese hospital is being painstakingly move...</td>\n",
              "    </tr>\n",
              "  </tbody>\n",
              "</table>\n",
              "<p>11490 rows × 2 columns</p>\n",
              "</div>\n",
              "      <button class=\"colab-df-convert\" onclick=\"convertToInteractive('df-4e624f15-7908-4042-a682-64dd5d72c791')\"\n",
              "              title=\"Convert this dataframe to an interactive table.\"\n",
              "              style=\"display:none;\">\n",
              "        \n",
              "  <svg xmlns=\"http://www.w3.org/2000/svg\" height=\"24px\"viewBox=\"0 0 24 24\"\n",
              "       width=\"24px\">\n",
              "    <path d=\"M0 0h24v24H0V0z\" fill=\"none\"/>\n",
              "    <path d=\"M18.56 5.44l.94 2.06.94-2.06 2.06-.94-2.06-.94-.94-2.06-.94 2.06-2.06.94zm-11 1L8.5 8.5l.94-2.06 2.06-.94-2.06-.94L8.5 2.5l-.94 2.06-2.06.94zm10 10l.94 2.06.94-2.06 2.06-.94-2.06-.94-.94-2.06-.94 2.06-2.06.94z\"/><path d=\"M17.41 7.96l-1.37-1.37c-.4-.4-.92-.59-1.43-.59-.52 0-1.04.2-1.43.59L10.3 9.45l-7.72 7.72c-.78.78-.78 2.05 0 2.83L4 21.41c.39.39.9.59 1.41.59.51 0 1.02-.2 1.41-.59l7.78-7.78 2.81-2.81c.8-.78.8-2.07 0-2.86zM5.41 20L4 18.59l7.72-7.72 1.47 1.35L5.41 20z\"/>\n",
              "  </svg>\n",
              "      </button>\n",
              "      \n",
              "  <style>\n",
              "    .colab-df-container {\n",
              "      display:flex;\n",
              "      flex-wrap:wrap;\n",
              "      gap: 12px;\n",
              "    }\n",
              "\n",
              "    .colab-df-convert {\n",
              "      background-color: #E8F0FE;\n",
              "      border: none;\n",
              "      border-radius: 50%;\n",
              "      cursor: pointer;\n",
              "      display: none;\n",
              "      fill: #1967D2;\n",
              "      height: 32px;\n",
              "      padding: 0 0 0 0;\n",
              "      width: 32px;\n",
              "    }\n",
              "\n",
              "    .colab-df-convert:hover {\n",
              "      background-color: #E2EBFA;\n",
              "      box-shadow: 0px 1px 2px rgba(60, 64, 67, 0.3), 0px 1px 3px 1px rgba(60, 64, 67, 0.15);\n",
              "      fill: #174EA6;\n",
              "    }\n",
              "\n",
              "    [theme=dark] .colab-df-convert {\n",
              "      background-color: #3B4455;\n",
              "      fill: #D2E3FC;\n",
              "    }\n",
              "\n",
              "    [theme=dark] .colab-df-convert:hover {\n",
              "      background-color: #434B5C;\n",
              "      box-shadow: 0px 1px 3px 1px rgba(0, 0, 0, 0.15);\n",
              "      filter: drop-shadow(0px 1px 2px rgba(0, 0, 0, 0.3));\n",
              "      fill: #FFFFFF;\n",
              "    }\n",
              "  </style>\n",
              "\n",
              "      <script>\n",
              "        const buttonEl =\n",
              "          document.querySelector('#df-4e624f15-7908-4042-a682-64dd5d72c791 button.colab-df-convert');\n",
              "        buttonEl.style.display =\n",
              "          google.colab.kernel.accessAllowed ? 'block' : 'none';\n",
              "\n",
              "        async function convertToInteractive(key) {\n",
              "          const element = document.querySelector('#df-4e624f15-7908-4042-a682-64dd5d72c791');\n",
              "          const dataTable =\n",
              "            await google.colab.kernel.invokeFunction('convertToInteractive',\n",
              "                                                     [key], {});\n",
              "          if (!dataTable) return;\n",
              "\n",
              "          const docLinkHtml = 'Like what you see? Visit the ' +\n",
              "            '<a target=\"_blank\" href=https://colab.research.google.com/notebooks/data_table.ipynb>data table notebook</a>'\n",
              "            + ' to learn more about interactive tables.';\n",
              "          element.innerHTML = '';\n",
              "          dataTable['output_type'] = 'display_data';\n",
              "          await google.colab.output.renderOutput(dataTable, element);\n",
              "          const docLink = document.createElement('div');\n",
              "          docLink.innerHTML = docLinkHtml;\n",
              "          element.appendChild(docLink);\n",
              "        }\n",
              "      </script>\n",
              "    </div>\n",
              "  </div>\n",
              "  "
            ]
          },
          "metadata": {},
          "execution_count": 8
        }
      ]
    },
    {
      "cell_type": "markdown",
      "source": [
        "String length counts for summary and document"
      ],
      "metadata": {
        "id": "vVvVZ-YiiXda"
      }
    },
    {
      "cell_type": "code",
      "source": [
        "print(df.document.map(lambda x: len(x)).min())"
      ],
      "metadata": {
        "colab": {
          "base_uri": "https://localhost:8080/"
        },
        "id": "ThXSWas2f0iL",
        "outputId": "c0873cd4-30b8-4972-e08e-ae013ad55bfe"
      },
      "execution_count": 9,
      "outputs": [
        {
          "output_type": "stream",
          "name": "stdout",
          "text": [
            "293\n"
          ]
        }
      ]
    },
    {
      "cell_type": "code",
      "source": [
        "print(df.document.map(lambda x: len(x)).max())"
      ],
      "metadata": {
        "colab": {
          "base_uri": "https://localhost:8080/"
        },
        "id": "OZmgRekTf9vm",
        "outputId": "5b2721dd-1111-407c-f6cb-e38c6f6885ca"
      },
      "execution_count": 10,
      "outputs": [
        {
          "output_type": "stream",
          "name": "stdout",
          "text": [
            "11991\n"
          ]
        }
      ]
    },
    {
      "cell_type": "code",
      "source": [
        "print(df.summary.map(lambda x: len(x)).min())"
      ],
      "metadata": {
        "colab": {
          "base_uri": "https://localhost:8080/"
        },
        "id": "OQBL4y9XhWvC",
        "outputId": "6a900029-7325-4822-8c8f-9c2e7ecc7988"
      },
      "execution_count": 11,
      "outputs": [
        {
          "output_type": "stream",
          "name": "stdout",
          "text": [
            "51\n"
          ]
        }
      ]
    },
    {
      "cell_type": "code",
      "source": [
        "print(df.summary.map(lambda x: len(x)).max())"
      ],
      "metadata": {
        "colab": {
          "base_uri": "https://localhost:8080/"
        },
        "id": "zkBG74iNhWyc",
        "outputId": "bae36bcf-3dda-4ee0-c0aa-f2161b96e298"
      },
      "execution_count": 12,
      "outputs": [
        {
          "output_type": "stream",
          "name": "stdout",
          "text": [
            "3410\n"
          ]
        }
      ]
    },
    {
      "cell_type": "markdown",
      "source": [
        "String word count for summary and document"
      ],
      "metadata": {
        "id": "T7cw2B6wieqD"
      }
    },
    {
      "cell_type": "code",
      "source": [
        "df.summary.apply(lambda n: len(n.split())).max()"
      ],
      "metadata": {
        "colab": {
          "base_uri": "https://localhost:8080/"
        },
        "id": "CL8uPPfAiH5f",
        "outputId": "8c0bc41b-b706-4765-dbce-d58637f3aa08"
      },
      "execution_count": 13,
      "outputs": [
        {
          "output_type": "execute_result",
          "data": {
            "text/plain": [
              "564"
            ]
          },
          "metadata": {},
          "execution_count": 13
        }
      ]
    },
    {
      "cell_type": "code",
      "source": [
        "df.summary.apply(lambda n: len(n.split())).min()"
      ],
      "metadata": {
        "colab": {
          "base_uri": "https://localhost:8080/"
        },
        "id": "hBDPFtFpiUM-",
        "outputId": "ff57a10a-7b8e-409d-ea16-37290e3c5609"
      },
      "execution_count": 14,
      "outputs": [
        {
          "output_type": "execute_result",
          "data": {
            "text/plain": [
              "9"
            ]
          },
          "metadata": {},
          "execution_count": 14
        }
      ]
    },
    {
      "cell_type": "code",
      "source": [
        "df.document.apply(lambda n: len(n.split())).min()"
      ],
      "metadata": {
        "colab": {
          "base_uri": "https://localhost:8080/"
        },
        "id": "sljw-bdhilns",
        "outputId": "b64c327f-b973-4717-8067-be739f4c823f"
      },
      "execution_count": 15,
      "outputs": [
        {
          "output_type": "execute_result",
          "data": {
            "text/plain": [
              "55"
            ]
          },
          "metadata": {},
          "execution_count": 15
        }
      ]
    },
    {
      "cell_type": "code",
      "source": [
        "df.document.apply(lambda n: len(n.split())).max()"
      ],
      "metadata": {
        "colab": {
          "base_uri": "https://localhost:8080/"
        },
        "id": "gczwqPSjilrD",
        "outputId": "64aca1a7-fb13-4b08-8588-ffb8c7f87b82"
      },
      "execution_count": 16,
      "outputs": [
        {
          "output_type": "execute_result",
          "data": {
            "text/plain": [
              "1954"
            ]
          },
          "metadata": {},
          "execution_count": 16
        }
      ]
    },
    {
      "cell_type": "code",
      "source": [
        "(df.document.apply(lambda n: len(n.split()))>500).sum()"
      ],
      "metadata": {
        "colab": {
          "base_uri": "https://localhost:8080/"
        },
        "id": "d35yW6xHFhfO",
        "outputId": "aad25d34-7e40-4d24-de48-815c0417967d"
      },
      "execution_count": 17,
      "outputs": [
        {
          "output_type": "execute_result",
          "data": {
            "text/plain": [
              "7403"
            ]
          },
          "metadata": {},
          "execution_count": 17
        }
      ]
    },
    {
      "cell_type": "code",
      "source": [
        "(df.summary.apply(lambda n: len(n.split()))>120).sum()"
      ],
      "metadata": {
        "colab": {
          "base_uri": "https://localhost:8080/"
        },
        "id": "K9Z2ungMFhlb",
        "outputId": "84bbb0d9-b3fd-455d-c192-653c65606daf"
      },
      "execution_count": 18,
      "outputs": [
        {
          "output_type": "execute_result",
          "data": {
            "text/plain": [
              "136"
            ]
          },
          "metadata": {},
          "execution_count": 18
        }
      ]
    },
    {
      "cell_type": "code",
      "source": [
        "summary = df['summary']\n",
        "document = df['document']"
      ],
      "metadata": {
        "id": "PDEOdZni8W7_"
      },
      "execution_count": 19,
      "outputs": []
    },
    {
      "cell_type": "code",
      "source": [
        "pip install transformers"
      ],
      "metadata": {
        "colab": {
          "base_uri": "https://localhost:8080/"
        },
        "id": "JIFqhst2gMok",
        "outputId": "964f2e26-9269-495a-afc9-3186ea604c05"
      },
      "execution_count": 20,
      "outputs": [
        {
          "output_type": "stream",
          "name": "stdout",
          "text": [
            "Looking in indexes: https://pypi.org/simple, https://us-python.pkg.dev/colab-wheels/public/simple/\n",
            "Collecting transformers\n",
            "  Downloading transformers-4.25.1-py3-none-any.whl (5.8 MB)\n",
            "\u001b[K     |████████████████████████████████| 5.8 MB 5.1 MB/s \n",
            "\u001b[?25hRequirement already satisfied: pyyaml>=5.1 in /usr/local/lib/python3.8/dist-packages (from transformers) (6.0)\n",
            "Requirement already satisfied: packaging>=20.0 in /usr/local/lib/python3.8/dist-packages (from transformers) (21.3)\n",
            "Collecting tokenizers!=0.11.3,<0.14,>=0.11.1\n",
            "  Downloading tokenizers-0.13.2-cp38-cp38-manylinux_2_17_x86_64.manylinux2014_x86_64.whl (7.6 MB)\n",
            "\u001b[K     |████████████████████████████████| 7.6 MB 35.1 MB/s \n",
            "\u001b[?25hRequirement already satisfied: tqdm>=4.27 in /usr/local/lib/python3.8/dist-packages (from transformers) (4.64.1)\n",
            "Requirement already satisfied: requests in /usr/local/lib/python3.8/dist-packages (from transformers) (2.23.0)\n",
            "Requirement already satisfied: numpy>=1.17 in /usr/local/lib/python3.8/dist-packages (from transformers) (1.21.6)\n",
            "Collecting huggingface-hub<1.0,>=0.10.0\n",
            "  Downloading huggingface_hub-0.11.1-py3-none-any.whl (182 kB)\n",
            "\u001b[K     |████████████████████████████████| 182 kB 27.1 MB/s \n",
            "\u001b[?25hRequirement already satisfied: regex!=2019.12.17 in /usr/local/lib/python3.8/dist-packages (from transformers) (2022.6.2)\n",
            "Requirement already satisfied: filelock in /usr/local/lib/python3.8/dist-packages (from transformers) (3.8.0)\n",
            "Requirement already satisfied: typing-extensions>=3.7.4.3 in /usr/local/lib/python3.8/dist-packages (from huggingface-hub<1.0,>=0.10.0->transformers) (4.4.0)\n",
            "Requirement already satisfied: pyparsing!=3.0.5,>=2.0.2 in /usr/local/lib/python3.8/dist-packages (from packaging>=20.0->transformers) (3.0.9)\n",
            "Requirement already satisfied: chardet<4,>=3.0.2 in /usr/local/lib/python3.8/dist-packages (from requests->transformers) (3.0.4)\n",
            "Requirement already satisfied: idna<3,>=2.5 in /usr/local/lib/python3.8/dist-packages (from requests->transformers) (2.10)\n",
            "Requirement already satisfied: urllib3!=1.25.0,!=1.25.1,<1.26,>=1.21.1 in /usr/local/lib/python3.8/dist-packages (from requests->transformers) (1.24.3)\n",
            "Requirement already satisfied: certifi>=2017.4.17 in /usr/local/lib/python3.8/dist-packages (from requests->transformers) (2022.9.24)\n",
            "Installing collected packages: tokenizers, huggingface-hub, transformers\n",
            "Successfully installed huggingface-hub-0.11.1 tokenizers-0.13.2 transformers-4.25.1\n"
          ]
        }
      ]
    },
    {
      "cell_type": "code",
      "source": [
        "# # Initialize the HuggingFace summarization pipeline\n",
        "# predicted = []\n",
        "# for i in range(1):\n",
        "#     tokens_input = tokenizer.encode(\"summarize: \"+ document[50], return_tensors='pt', max_length=67, truncation=True)\n",
        "#     ids = model.generate(tokens_input, min_length=1, max_length=25)\n",
        "#     summary = tokenizer.decode(ids[0], skip_special_tokens=True)\n",
        "#     predicted.append(summary)"
      ],
      "metadata": {
        "id": "7LEzxfO_mj-6"
      },
      "execution_count": 21,
      "outputs": []
    },
    {
      "cell_type": "code",
      "source": [
        "# predicted"
      ],
      "metadata": {
        "id": "5hvzXjy0mqP7"
      },
      "execution_count": 22,
      "outputs": []
    },
    {
      "cell_type": "code",
      "source": [
        "# document[50]"
      ],
      "metadata": {
        "id": "AW8BH1woqOux"
      },
      "execution_count": 23,
      "outputs": []
    },
    {
      "cell_type": "code",
      "source": [
        "# df.summary[50]"
      ],
      "metadata": {
        "id": "5_u9J2KypxWg"
      },
      "execution_count": 24,
      "outputs": []
    },
    {
      "cell_type": "code",
      "source": [
        "from transformers import pipeline\n"
      ],
      "metadata": {
        "id": "CpuITgHugQnd"
      },
      "execution_count": 25,
      "outputs": []
    },
    {
      "cell_type": "code",
      "source": [
        "# model.train(train_df=train_df, # pandas dataframe with 2 columns: source_text & target_text\n",
        "#             eval_df=eval_df, # pandas dataframe with 2 columns: source_text & target_text\n",
        "#             source_max_token_len = 512, \n",
        "#             target_max_token_len = 128,\n",
        "#             batch_size = 8,\n",
        "#             max_epochs = 5,\n",
        "#             use_gpu = True,\n",
        "#             outputdir = \"outputs\",\n",
        "#             early_stopping_patience_epochs = 0,\n",
        "#             precision = 32\n",
        "#             )"
      ],
      "metadata": {
        "id": "YxhKpS-x4xwy"
      },
      "execution_count": 26,
      "outputs": []
    },
    {
      "cell_type": "markdown",
      "source": [
        "using auto Classes from hugging face for this model and testing how well it works on an unknown data"
      ],
      "metadata": {
        "id": "6ly-e61G6pja"
      }
    },
    {
      "cell_type": "markdown",
      "source": [
        "Using google's Pegasus model"
      ],
      "metadata": {
        "id": "bfu_tWkX7F81"
      }
    },
    {
      "cell_type": "code",
      "source": [
        "from transformers import AutoTokenizer, AutoModelForSeq2SeqLM\n",
        " \n",
        "model = AutoModelForSeq2SeqLM.from_pretrained('google/pegasus-xsum')\n",
        "tokenizer = AutoTokenizer.from_pretrained('google/pegasus-xsum')"
      ],
      "metadata": {
        "id": "PFzQgLrPkErl",
        "colab": {
          "base_uri": "https://localhost:8080/",
          "height": 209,
          "referenced_widgets": [
            "f7691f02cc6f4f36bdaa01d779fa0924",
            "c8a12246aad04ec3a45aee6377a8a688",
            "6d78bd647750444db7ea65b70b728d71",
            "746aae31653f4ad69515c76b316860ac",
            "a0a38eebe54f41ffb6e2a073b35ac4c8",
            "6ff80adc01ca453e9e0f917fe1819043",
            "b6152d7bfaac4811883052d02ed7c178",
            "147be5e4851a46aeab03e0adb5975f98",
            "af6c1f8ca7e541f78fa0e379ac46a5af",
            "c6596b95d53848a098d49a9813fdcbae",
            "88c23c711e2047c5aafb36a146e0fe3c",
            "7a974431486847ec9b26811bb0a0a42d",
            "14b2b5688970443abffefd291a56b9e0",
            "29733d2fe2da49c0bedc5479b7955e36",
            "d668a38f655443ac8300431ede29eb83",
            "4830fcce4bd34046bfb061f4daa934e3",
            "8cc375f0932c49bb9444a5aca81176be",
            "ae6c3901ed1b4651b37bb188b5c5fbd7",
            "2d7f7c9be65941af930f188c08704392",
            "9af17dbcad8b456d89aeb7866efcb5e0",
            "c0359d83caf941ee907cfdd8506e0ea0",
            "30521f0a68c84d72b885eb354bab6b21",
            "a883343aa0794460a21cde53ee2599b1",
            "480715d1b7364bc590b0b5431fa92af0",
            "6eadff924461465b96ce31ba83eac3d6",
            "b2c158c776eb4b489ff6cbff46a96754",
            "f6207af7da3c4b9c9dbfa61962551363",
            "aa47dcfcea16476499d847ba78adb40d",
            "152f0bbd0dce487a98629887ea5a3c29",
            "2b42924c016a4f4e8a2ec0a9451e8559",
            "8233f9431806410ba391f52b90abd5b9",
            "76f1f4c249e9456286482843816c7f44",
            "e1ffff6e72b340ae840a40dac79225ca",
            "98ba4dd3f28c4d44bc6d9dfcabcda1fd",
            "bb5f3069978b49af8b1907600af1f69e",
            "48ca37e1f0fc49d8a8f3fd9bebe15233",
            "94b960b01ca24651a382e13f93f77e21",
            "5ea87e19670543e190bec872fe84931f",
            "382ad097d3e64942af7b68ab3049b1f6",
            "2aaaf69a05d64792bdffae1e51cae17b",
            "53ede7d3f55142a8ad11ecb858059851",
            "757dd1d4fb08459a83a33439c3a47f2f",
            "8ad8aa33c11146699b17283308b7ef70",
            "5918f9aaba5844f09cf5279badbf4b23",
            "4d75d9cfcf7e4eeab2102f80411555a5",
            "45f80941887e4d079b1dacd60c81a7fd",
            "4b4cafda4b104a34a2dc0f13860dfdb6",
            "f6461527b17c4640aa619b11ecd5b422",
            "4c01e517fd6d406e9a5fbfaacf0af9e8",
            "238e9fd9f37944aea197d21740a5fdfc",
            "4752cc56055341398f5d376576ea7672",
            "65769f0553c44cf6b69a679603fe7dd6",
            "04360897abe942dcab303058a3e269f1",
            "5f14e03ff2a14e0d8a9ec670c0913245",
            "aac8d615548a4eec91419785752ba4b9",
            "fe7c23c1ac044ce28c003b8fb3821bdf",
            "57add54625b441fbb516c687f5bb0a1e",
            "721016f145574061be3510879c5ec015",
            "038680bd7abe494aa4736f827f4f0a34",
            "7630772852954b7faa7a1e0a8576aa69",
            "2e64ce427489427e84a40194699b95bc",
            "4cf3dea049df44b0a4211089579553a7",
            "4db06e1ef6434868b4dc7edf6e6bd165",
            "818a7af91448440cbd3f880881ff0391",
            "0e34528131a745fca2f29463171f6969",
            "d00cfa7114434f62966b1f9e2f6966f1"
          ]
        },
        "outputId": "f90784e3-abc3-4ee8-d99b-4ad6b1b899c0"
      },
      "execution_count": 27,
      "outputs": [
        {
          "output_type": "display_data",
          "data": {
            "text/plain": [
              "Downloading:   0%|          | 0.00/1.39k [00:00<?, ?B/s]"
            ],
            "application/vnd.jupyter.widget-view+json": {
              "version_major": 2,
              "version_minor": 0,
              "model_id": "f7691f02cc6f4f36bdaa01d779fa0924"
            }
          },
          "metadata": {}
        },
        {
          "output_type": "display_data",
          "data": {
            "text/plain": [
              "Downloading:   0%|          | 0.00/2.28G [00:00<?, ?B/s]"
            ],
            "application/vnd.jupyter.widget-view+json": {
              "version_major": 2,
              "version_minor": 0,
              "model_id": "7a974431486847ec9b26811bb0a0a42d"
            }
          },
          "metadata": {}
        },
        {
          "output_type": "display_data",
          "data": {
            "text/plain": [
              "Downloading:   0%|          | 0.00/87.0 [00:00<?, ?B/s]"
            ],
            "application/vnd.jupyter.widget-view+json": {
              "version_major": 2,
              "version_minor": 0,
              "model_id": "a883343aa0794460a21cde53ee2599b1"
            }
          },
          "metadata": {}
        },
        {
          "output_type": "display_data",
          "data": {
            "text/plain": [
              "Downloading:   0%|          | 0.00/1.91M [00:00<?, ?B/s]"
            ],
            "application/vnd.jupyter.widget-view+json": {
              "version_major": 2,
              "version_minor": 0,
              "model_id": "98ba4dd3f28c4d44bc6d9dfcabcda1fd"
            }
          },
          "metadata": {}
        },
        {
          "output_type": "display_data",
          "data": {
            "text/plain": [
              "Downloading:   0%|          | 0.00/3.52M [00:00<?, ?B/s]"
            ],
            "application/vnd.jupyter.widget-view+json": {
              "version_major": 2,
              "version_minor": 0,
              "model_id": "4d75d9cfcf7e4eeab2102f80411555a5"
            }
          },
          "metadata": {}
        },
        {
          "output_type": "display_data",
          "data": {
            "text/plain": [
              "Downloading:   0%|          | 0.00/65.0 [00:00<?, ?B/s]"
            ],
            "application/vnd.jupyter.widget-view+json": {
              "version_major": 2,
              "version_minor": 0,
              "model_id": "fe7c23c1ac044ce28c003b8fb3821bdf"
            }
          },
          "metadata": {}
        }
      ]
    },
    {
      "cell_type": "code",
      "source": [
        "tokenizer"
      ],
      "metadata": {
        "colab": {
          "base_uri": "https://localhost:8080/"
        },
        "id": "twxXDCHn5kjG",
        "outputId": "fd30fe22-ccda-4505-f65f-9e74d50f9d7d"
      },
      "execution_count": 28,
      "outputs": [
        {
          "output_type": "execute_result",
          "data": {
            "text/plain": [
              "PreTrainedTokenizerFast(name_or_path='google/pegasus-xsum', vocab_size=96103, model_max_len=512, is_fast=True, padding_side='right', truncation_side='right', special_tokens={'eos_token': '</s>', 'unk_token': '<unk>', 'pad_token': '<pad>', 'mask_token': '<mask_2>', 'additional_special_tokens': ['<mask_1>', '<unk_2>', '<unk_3>', '<unk_4>', '<unk_5>', '<unk_6>', '<unk_7>', '<unk_8>', '<unk_9>', '<unk_10>', '<unk_11>', '<unk_12>', '<unk_13>', '<unk_14>', '<unk_15>', '<unk_16>', '<unk_17>', '<unk_18>', '<unk_19>', '<unk_20>', '<unk_21>', '<unk_22>', '<unk_23>', '<unk_24>', '<unk_25>', '<unk_26>', '<unk_27>', '<unk_28>', '<unk_29>', '<unk_30>', '<unk_31>', '<unk_32>', '<unk_33>', '<unk_34>', '<unk_35>', '<unk_36>', '<unk_37>', '<unk_38>', '<unk_39>', '<unk_40>', '<unk_41>', '<unk_42>', '<unk_43>', '<unk_44>', '<unk_45>', '<unk_46>', '<unk_47>', '<unk_48>', '<unk_49>', '<unk_50>', '<unk_51>', '<unk_52>', '<unk_53>', '<unk_54>', '<unk_55>', '<unk_56>', '<unk_57>', '<unk_58>', '<unk_59>', '<unk_60>', '<unk_61>', '<unk_62>', '<unk_63>', '<unk_64>', '<unk_65>', '<unk_66>', '<unk_67>', '<unk_68>', '<unk_69>', '<unk_70>', '<unk_71>', '<unk_72>', '<unk_73>', '<unk_74>', '<unk_75>', '<unk_76>', '<unk_77>', '<unk_78>', '<unk_79>', '<unk_80>', '<unk_81>', '<unk_82>', '<unk_83>', '<unk_84>', '<unk_85>', '<unk_86>', '<unk_87>', '<unk_88>', '<unk_89>', '<unk_90>', '<unk_91>', '<unk_92>', '<unk_93>', '<unk_94>', '<unk_95>', '<unk_96>', '<unk_97>', '<unk_98>', '<unk_99>', '<unk_100>', '<unk_101>', '<unk_102>']})"
            ]
          },
          "metadata": {},
          "execution_count": 28
        }
      ]
    },
    {
      "cell_type": "code",
      "source": [
        "len(document)"
      ],
      "metadata": {
        "colab": {
          "base_uri": "https://localhost:8080/"
        },
        "id": "AV12FJ5eDFm5",
        "outputId": "8be40acc-936a-4d01-d4de-e8eb31b30597"
      },
      "execution_count": 29,
      "outputs": [
        {
          "output_type": "execute_result",
          "data": {
            "text/plain": [
              "11490"
            ]
          },
          "metadata": {},
          "execution_count": 29
        }
      ]
    },
    {
      "cell_type": "markdown",
      "source": [
        "Model is taking forever to run so i cut it short to samples of 100 so we have a sample size and its specific bleu score"
      ],
      "metadata": {
        "id": "-n1DxsMfVerK"
      }
    },
    {
      "cell_type": "code",
      "source": [
        "# Initialize the HuggingFace summarization pipeline\n",
        "predicted_pegasus = []\n",
        "for i in range(0,100):\n",
        "    tokens_input = tokenizer.encode(\"summarize: \"+ document[i], return_tensors='pt', max_length=512 , truncation=True)\n",
        "    ids = model.generate(tokens_input, min_length=10, max_length=120)\n",
        "    summary = tokenizer.decode(ids[0], skip_special_tokens=True) \n",
        "    predicted_pegasus.append(summary)  "
      ],
      "metadata": {
        "id": "Cz5MC943kIFv"
      },
      "execution_count": 43,
      "outputs": []
    },
    {
      "cell_type": "code",
      "source": [
        "print(predicted_pegasus)"
      ],
      "metadata": {
        "id": "k7ugah0mNtM7",
        "colab": {
          "base_uri": "https://localhost:8080/"
        },
        "outputId": "f0d9f753-4fbc-4735-e6d8-e19562d3a05b"
      },
      "execution_count": 45,
      "outputs": [
        {
          "output_type": "stream",
          "name": "stdout",
          "text": [
            "['Is the shrinking space on planes putting our health and safety in danger?', \"A drunk teenage boy had to be rescued by security after jumping into a lions' enclosure at a zoo in western India.\", \"Dougie Freedman has stabilised Nottingham Forest since he replaced cult hero Stuart Pearce and the club's owners are pleased with the job he has done at the City Ground.\", 'Liverpool are among a number of top European clubs interested in Fiorentina goalkeeper Neto.', 'Bruce Jenner will break his silence in a two-hour interview with Diane Sawyer later this month.', 'Firefighters had to use slide boards and strops to rescue a giant pig from a swimming pool.', 'The amount of time people spend listening to BBC radio has dropped to its lowest level ever, the corporation’s boss has admitted.', 'The cast of \"Full House\" is reuniting for a new series on Netflix.', \"At 11:20pm, Ken Doherty potted a final black and extinguished, for now, the dream of Reanne Evans to become the first women player to play the hallowed baize of Sheffield's Crucible Theatre in the world snooker championship.\", 'A gang of six men have been jailed for a total of 31 years after being convicted of a string of sexual offences against teenage girls.', 'The captain of a boat that capsized off the coast of Libya, killing more than 900 migrants, has been charged with multiple manslaughter.', \"The US ambassador to South Korea has revealed he is now wearing a dynamic exoskeletal brace on his hand while he recovers from last month's knife attack.\", \"England captain Alastair Cook completed a century on the second morning of England's opening tour match in the West Indies.\", \"The death of an American aid worker held hostage by al Qaeda in Pakistan has raised questions about the United States' efforts to secure his release.\", \"A thief nicknamed the 'Black Widow of Facebook' who drugged and robbed men after she lured them into bed has been arrested.\", 'As Australian Fashion Week comes to a close, a new damning report has named and shamed some of the worst clothing brands sold in Australia and their companies, for the ongoing exploitation of their overseas workers.', \"Jack Wilshere, Mikel Arteta and Abou Diaby have all been handed starts for the club's Under 21s game on Tuesday night as they continue their respective recoveries from injury.\", 'A shopkeeper died when he fell from a van while chasing a gang of thieves.', 'Photos courtesy Tim Durkan and KOMO-TV. The reason people are seeing an intense red sunset is a result of smoke particles filtering out the shorter wavelength colors from the sunlight like greens, blues, yellows and purples, KOMO-TV said.', \"The complete skeleton of an 'alien' 17th-century camel has been discovered in Austria.\", \"What do you do if you're Ben Affleck?\", 'Italian police have released an e-fit image of millionaire people trafficker Ermias Ghermay, who is thought to have made £72m with his accomplice Mered Medhanie from smuggling migrants in the last two years.', 'After 11 holidays in under six months, you might have thought Princess Beatrice would be ready to put the brakes on her globetrotting.', \"The Obama administration says it's perfectly legal for a former Internal Revenue Service official to refuse to answer questions about the agency's treatment of conservative groups.\", '\"We are in unchartered territory here.\"', 'David Cameron has been secretly using hair dye to turn back the years Nigel Farage suggested today.', 'Blind children in Birmingham, Alabama, have celebrated Easter early by hunting for plastic eggs that let of a beeping sound.', 'A woman has been charged with the murder of a lawyer who was found stabbed to death in his hotel room.', 'The families of victims of Yorkshire Ripper Peter Sutcliffe are furious at plans to move him from Broadmoor to a low-security Priory unit.', \"All nurses working in areas under their control must speak English - something the NHS still hasn't introduced. Militants fighting for the Islamic State terror group in Syria have announced that all nurses working in areas under their control must speak English - something the NHS still hasn't introduced.\", 'Jack Nicklaus recorded his first ever hole-in-one at the Masters on Wednesday, as Camilo Villegas fired two in the space of five holes but still could not win the traditional par-three contest.', 'A five-year-old Palestinian boy pelted the Israeli police with stones as violence erupted during a rally in the northern West Bank.', \"Gary Caldwell admitted his first taste of management was 'crazy' following Wigan's battling 2-2 draw against Fulham.\", 'An ultra luxury penthouse standing 319 metres off the ground in the tallest apartment block in the southern hemisphere has been bought off the plan by a Chinese businessman for a record price.', 'If you’ve ever wondered what it would be like to be a member of the Royal Family, now is your chance.', \"This is the stomach-churning moment a pit crew worker is tossed into the air like a rag doll as he's hit by an out-of-control racing car.\", \"It's been an eventful few days for Poldark fans.\", 'Ed Miliband has overtaken David Cameron as the most popular political leader for the first time.', \"A new hashtag has popped up on social media site Instagram exposing some of these 'awful' things parents do to their children- such as giving them a bath (how dare they), putting them in their high chair (so mean), and even giving them cookies (what a truly evil thing to do). A hilarious new hashtag has popped up on social media site Instagram exposing some of these 'awful' things parents do to their children- such as giving them a bath (how dare they), putting them in their high chair (so mean), and even giving them cookies (what a truly evil thing\", \"Mirko 'Cro Cop' Filipovic delivered on his promise to exact revenge as he stopped Gabriel Gonzaga in the third round of their long-awaited heavyweight rematch in Poland.\", 'David Beckham and Odell Beckham Jnr were pictured in America with James Corden.', 'Palermo president Maurizio Zamparini has told Paris Saint-Germain they will have to spend big to sign Argentina striker Paulo Dybala.', 'Fire crews remain at the scene of a huge underground fire in central London.', 'River Plate and Boca Juniors both scored late goals to secure their place in the last 16 of the Copa Libertadores.', 'Gianni Paladini appears to be keen on taking over the reins at League One side Bradford.', 'Middlesbrough bounced back from defeat to Watford with a convincing 2-0 win over struggling Rotherham United.', \"Jeremy Clarkson and his Top Gear colleagues were just about to renew their lucrative contacts for three more years but they were scrapped when the star punched the show's producer.\", 'Middlesex fast bowler Steven Finn says he is back to his best and ready to push for an England place.', 'Tom Lineham scored a hat-trick as Hull FC beat Widnes 22-8 to make it back-to-back wins for the first time since last June.', 'For years medical experts have warned about the dangers of too much salt, but now new research is questioning conventional wisdom and warning instead of the dangers of too little salt.', 'Three men have been charged with plotting to kill a Ku Klux Klan member.', \"Napoli manager Rafael Benitez has received fresh criticism of his waistline ahead of Napoli's crucial Serie A fixture with Sampdoria this weekend, as the quest for a UEFA Champions League place reaches a crescendo in Italy.\", \"Lord Prescott has published extracts from two letters he received from the Prince of Wales - including one expressing his sadness at the death of the Labour politician's mother.\", 'Zimbabwe have reportedly agreed to travel for a short one-day international series next month, likely to take place in Lahore and Karachi. Zimbabwe have reportedly agreed to travel for a short one-day international series next month, likely to take place in Lahore and Karachi.', 'Fashion fans who follow many of the top bloggers on Instagram experienced an extreme case of déj vu over the weekend after the same dress was modelled by no less than 50 fashionistas.', 'Danny Willett was left frustrated with a rules official for getting in his line-of-sight during his round at the Masters.', 'Dating app Tinder has added the ability to let people add their latest Instagram snaps to their profile.', 'Manchester United target Nathaniel Clyne admits he wants to play Champions League football as the Southampton defender continues to be linked with a move away from the south coast.', 'A personal trainer who claims to have helped Gwen Stefani get into shape hit a woman so hard that she lost a tooth and was left lying unconscious in a pool of blood, a court has hard.', 'Climber: Lucky: Selena Dicker, 38, outran the avalanche on Mount Everest in the wake of the perilous quake. Climber: Lucky: Selena Dicker, 38, outran the avalanche on Mount Everest in the wake of the perilous quake.', 'A social media staffer to Donald Trump retweeted an off-color jab at Hillary Clinton on Thursday before the boss deleted it.', 'It’s a shame to see another talented young player being photographed taking ‘hippy crack.’', 'At least six Turkish soldiers have been killed in an attack by Kurdish separatist rebels, officials say.', 'An Israeli geologist claims he has ‘confirmed’ the existence and authenticity of a tomb belonging to Jesus and his son in Jerusalem.', 'The original Barbie doll has been reproduced and goes back on sale this Saturday in Australia.', 'Nicola Sturgeon will today launch an extraordinary bid to ‘lead the UK’ as she unveils a string of policies apparently tailor-made for a power-sharing deal with Labour.', \"Employers are 'precluded' from hiring obese workers because of their weight, research suggests.\", \"Lazio's Miroslav Klose celebrates after scoring a goal against Empoli.\", \"A high-level briefing exclusively obtained by Daily Mail Australia reveals an 'unprecedented' number of Australians could face the death penalty in China for drug smuggling.\", \"Scotland's Euro 2016 qualifier with Georgia in September could be played behind closed doors.\", 'Arsenal may pull out of the running to sign Raheem Sterling following recent events.', \"Aaron Ramsey's early goal was enough for Arsenal to beat Burnley and move level on points with Manchester City at the top of the Premier League.\", 'Manchester United striker Robin van Persie has reportedly been offered £5million to leave Old Trafford in the summer.', \"She's a best-selling singer, actress, beauty buff and one of the world's most stylish stars.\", \"You killed the car: In one of the film world's best-known scenes, the beloved Ferrari crashes into the ravine below after Cameron accidentally knocks it off the jack.\", 'The dark net is a hidden part of the internet that does not show up in searches or on social media.', 'Britain’s five highest-earning NHS dentists are paid average salaries of £690,000 a year, figures obtained by the Daily Mail show.', \"Voters are still 'in the dark' about the scale and depth of spending cuts being planned by all the main parties with just two weeks until polling day, economic experts warned.\", \"Are Aldi's trainers better than Adidas's?\", 'An apprentice electrician fell off a ladder and died in front of his father after he was electrocuted while testing lights in a factory, an inquest has heard.', 'The England C team is facing the axe after 36 years as part of Greg Dyke’s spending review at the Football Association.', 'British jihadis have posted pictures of junk food and drinks such as Burger King, Pringles and mojitos which they have had carried across the Turkish border into Syria.', 'The pound has slipped to a five-year low against the dollar amid growing uncertainty about the outcome of the general election.', 'A mother-of-two claims her face was left covered in angry red welts after drinking a bottle of Tesco wine which reeked of bleach.', 'The number of firearm licence holders in New South Wales has increased by more than 20 per cent in the last five years.', 'Premier League side West Ham are closing in on the signature of Jamaican starlet DeShane Beckford.', 'The body of Kyle Knox has been found near the foot of Ben Nevis three weeks after he disappeared.', 'An 11-year-old boy with autism has been reported missing in Australia.', \"dash-cam footage has revealed the moment a Florida police officer shouted: 'Get on the f****** ground or you're dead,' moments before he shot a mentally ill man as he was running away.\", 'Mobile phones and tablet computers are becoming dangerous distractions for parents who are supposed to be supervising their children, researchers claim.', 'Nine council workers have been sacked for inappropriately accessing confidential social work files on tragic toddler Mikaeel Kular.', 'An Army recruitment sergeant raped a teenage cadet after telling her he could help her get a visa from the Home Office, a court heard today.', 'Russian president Vladimir Putin said Russia has key interests in common with the United States and needs to work with it on a common agenda.', \"Cristiano Ronaldo looked in formidable form as he showed off his array of skills ahead of Real Madrid's Champions League quarter-final against city rivals Atletico.\", \"A teacher has been banned from the classroom after he let pupils change their exam answers invalidating his whole school's SATs results.\", \"Paris St-Germain striker Zlatan Ibrahimovic has been suspended for the second leg of his side's Champions League quarter-final against Barcelona.\", 'A TV presenter and former model is convinced her teeth - or rather, the dental work done on them - triggered a host of health problems that plagued her for nearly seven years. Yet the 29-year-old broadcaster is convinced her teeth - or rather, the dental work done on them - triggered a host of health problems that plagued her for nearly seven years.', 'A paramedic who pretended he was gay to get close to women before sexually assaulting them has been struck off the medical register.', \"Paris St-Germain face Nice on Saturday, hoping to take Ligue 1's top spot from Lyon but do so with a host of key stars missing, including captain Thiago Silva who is recuperating at home from a thigh injury.\", 'The Pentagon says it has made great progress in its effort to develop a self-steering bullet.']\n"
          ]
        }
      ]
    },
    {
      "cell_type": "code",
      "source": [
        "#copying predictions.\n",
        "Predict_pega = ['Is the shrinking space on planes putting our health and safety in danger?', \"A drunk teenage boy had to be rescued by security after jumping into a lions' enclosure at a zoo in western India.\", \"Dougie Freedman has stabilised Nottingham Forest since he replaced cult hero Stuart Pearce and the club's owners are pleased with the job he has done at the City Ground.\", 'Liverpool are among a number of top European clubs interested in Fiorentina goalkeeper Neto.', 'Bruce Jenner will break his silence in a two-hour interview with Diane Sawyer later this month.', 'Firefighters had to use slide boards and strops to rescue a giant pig from a swimming pool.', 'The amount of time people spend listening to BBC radio has dropped to its lowest level ever, the corporation’s boss has admitted.', 'The cast of \"Full House\" is reuniting for a new series on Netflix.', \"At 11:20pm, Ken Doherty potted a final black and extinguished, for now, the dream of Reanne Evans to become the first women player to play the hallowed baize of Sheffield's Crucible Theatre in the world snooker championship.\", 'A gang of six men have been jailed for a total of 31 years after being convicted of a string of sexual offences against teenage girls.', 'The captain of a boat that capsized off the coast of Libya, killing more than 900 migrants, has been charged with multiple manslaughter.', \"The US ambassador to South Korea has revealed he is now wearing a dynamic exoskeletal brace on his hand while he recovers from last month's knife attack.\", \"England captain Alastair Cook completed a century on the second morning of England's opening tour match in the West Indies.\", \"The death of an American aid worker held hostage by al Qaeda in Pakistan has raised questions about the United States' efforts to secure his release.\", \"A thief nicknamed the 'Black Widow of Facebook' who drugged and robbed men after she lured them into bed has been arrested.\", 'As Australian Fashion Week comes to a close, a new damning report has named and shamed some of the worst clothing brands sold in Australia and their companies, for the ongoing exploitation of their overseas workers.', \"Jack Wilshere, Mikel Arteta and Abou Diaby have all been handed starts for the club's Under 21s game on Tuesday night as they continue their respective recoveries from injury.\", 'A shopkeeper died when he fell from a van while chasing a gang of thieves.', 'Photos courtesy Tim Durkan and KOMO-TV. The reason people are seeing an intense red sunset is a result of smoke particles filtering out the shorter wavelength colors from the sunlight like greens, blues, yellows and purples, KOMO-TV said.', \"The complete skeleton of an 'alien' 17th-century camel has been discovered in Austria.\", \"What do you do if you're Ben Affleck?\", 'Italian police have released an e-fit image of millionaire people trafficker Ermias Ghermay, who is thought to have made £72m with his accomplice Mered Medhanie from smuggling migrants in the last two years.', 'After 11 holidays in under six months, you might have thought Princess Beatrice would be ready to put the brakes on her globetrotting.', \"The Obama administration says it's perfectly legal for a former Internal Revenue Service official to refuse to answer questions about the agency's treatment of conservative groups.\", '\"We are in unchartered territory here.\"', 'David Cameron has been secretly using hair dye to turn back the years Nigel Farage suggested today.', 'Blind children in Birmingham, Alabama, have celebrated Easter early by hunting for plastic eggs that let of a beeping sound.', 'A woman has been charged with the murder of a lawyer who was found stabbed to death in his hotel room.', 'The families of victims of Yorkshire Ripper Peter Sutcliffe are furious at plans to move him from Broadmoor to a low-security Priory unit.', \"All nurses working in areas under their control must speak English - something the NHS still hasn't introduced. Militants fighting for the Islamic State terror group in Syria have announced that all nurses working in areas under their control must speak English - something the NHS still hasn't introduced.\", 'Jack Nicklaus recorded his first ever hole-in-one at the Masters on Wednesday, as Camilo Villegas fired two in the space of five holes but still could not win the traditional par-three contest.', 'A five-year-old Palestinian boy pelted the Israeli police with stones as violence erupted during a rally in the northern West Bank.', \"Gary Caldwell admitted his first taste of management was 'crazy' following Wigan's battling 2-2 draw against Fulham.\", 'An ultra luxury penthouse standing 319 metres off the ground in the tallest apartment block in the southern hemisphere has been bought off the plan by a Chinese businessman for a record price.', 'If you’ve ever wondered what it would be like to be a member of the Royal Family, now is your chance.', \"This is the stomach-churning moment a pit crew worker is tossed into the air like a rag doll as he's hit by an out-of-control racing car.\", \"It's been an eventful few days for Poldark fans.\", 'Ed Miliband has overtaken David Cameron as the most popular political leader for the first time.', \"A new hashtag has popped up on social media site Instagram exposing some of these 'awful' things parents do to their children- such as giving them a bath (how dare they), putting them in their high chair (so mean), and even giving them cookies (what a truly evil thing to do). A hilarious new hashtag has popped up on social media site Instagram exposing some of these 'awful' things parents do to their children- such as giving them a bath (how dare they), putting them in their high chair (so mean), and even giving them cookies (what a truly evil thing\", \"Mirko 'Cro Cop' Filipovic delivered on his promise to exact revenge as he stopped Gabriel Gonzaga in the third round of their long-awaited heavyweight rematch in Poland.\", 'David Beckham and Odell Beckham Jnr were pictured in America with James Corden.', 'Palermo president Maurizio Zamparini has told Paris Saint-Germain they will have to spend big to sign Argentina striker Paulo Dybala.', 'Fire crews remain at the scene of a huge underground fire in central London.', 'River Plate and Boca Juniors both scored late goals to secure their place in the last 16 of the Copa Libertadores.', 'Gianni Paladini appears to be keen on taking over the reins at League One side Bradford.', 'Middlesbrough bounced back from defeat to Watford with a convincing 2-0 win over struggling Rotherham United.', \"Jeremy Clarkson and his Top Gear colleagues were just about to renew their lucrative contacts for three more years but they were scrapped when the star punched the show's producer.\", 'Middlesex fast bowler Steven Finn says he is back to his best and ready to push for an England place.', 'Tom Lineham scored a hat-trick as Hull FC beat Widnes 22-8 to make it back-to-back wins for the first time since last June.', 'For years medical experts have warned about the dangers of too much salt, but now new research is questioning conventional wisdom and warning instead of the dangers of too little salt.', 'Three men have been charged with plotting to kill a Ku Klux Klan member.', \"Napoli manager Rafael Benitez has received fresh criticism of his waistline ahead of Napoli's crucial Serie A fixture with Sampdoria this weekend, as the quest for a UEFA Champions League place reaches a crescendo in Italy.\", \"Lord Prescott has published extracts from two letters he received from the Prince of Wales - including one expressing his sadness at the death of the Labour politician's mother.\", 'Zimbabwe have reportedly agreed to travel for a short one-day international series next month, likely to take place in Lahore and Karachi. Zimbabwe have reportedly agreed to travel for a short one-day international series next month, likely to take place in Lahore and Karachi.', 'Fashion fans who follow many of the top bloggers on Instagram experienced an extreme case of déj vu over the weekend after the same dress was modelled by no less than 50 fashionistas.', 'Danny Willett was left frustrated with a rules official for getting in his line-of-sight during his round at the Masters.', 'Dating app Tinder has added the ability to let people add their latest Instagram snaps to their profile.', 'Manchester United target Nathaniel Clyne admits he wants to play Champions League football as the Southampton defender continues to be linked with a move away from the south coast.', 'A personal trainer who claims to have helped Gwen Stefani get into shape hit a woman so hard that she lost a tooth and was left lying unconscious in a pool of blood, a court has hard.', 'Climber: Lucky: Selena Dicker, 38, outran the avalanche on Mount Everest in the wake of the perilous quake. Climber: Lucky: Selena Dicker, 38, outran the avalanche on Mount Everest in the wake of the perilous quake.', 'A social media staffer to Donald Trump retweeted an off-color jab at Hillary Clinton on Thursday before the boss deleted it.', 'It’s a shame to see another talented young player being photographed taking ‘hippy crack.’', 'At least six Turkish soldiers have been killed in an attack by Kurdish separatist rebels, officials say.', 'An Israeli geologist claims he has ‘confirmed’ the existence and authenticity of a tomb belonging to Jesus and his son in Jerusalem.', 'The original Barbie doll has been reproduced and goes back on sale this Saturday in Australia.', 'Nicola Sturgeon will today launch an extraordinary bid to ‘lead the UK’ as she unveils a string of policies apparently tailor-made for a power-sharing deal with Labour.', \"Employers are 'precluded' from hiring obese workers because of their weight, research suggests.\", \"Lazio's Miroslav Klose celebrates after scoring a goal against Empoli.\", \"A high-level briefing exclusively obtained by Daily Mail Australia reveals an 'unprecedented' number of Australians could face the death penalty in China for drug smuggling.\", \"Scotland's Euro 2016 qualifier with Georgia in September could be played behind closed doors.\", 'Arsenal may pull out of the running to sign Raheem Sterling following recent events.', \"Aaron Ramsey's early goal was enough for Arsenal to beat Burnley and move level on points with Manchester City at the top of the Premier League.\", 'Manchester United striker Robin van Persie has reportedly been offered £5million to leave Old Trafford in the summer.', \"She's a best-selling singer, actress, beauty buff and one of the world's most stylish stars.\", \"You killed the car: In one of the film world's best-known scenes, the beloved Ferrari crashes into the ravine below after Cameron accidentally knocks it off the jack.\", 'The dark net is a hidden part of the internet that does not show up in searches or on social media.', 'Britain’s five highest-earning NHS dentists are paid average salaries of £690,000 a year, figures obtained by the Daily Mail show.', \"Voters are still 'in the dark' about the scale and depth of spending cuts being planned by all the main parties with just two weeks until polling day, economic experts warned.\", \"Are Aldi's trainers better than Adidas's?\", 'An apprentice electrician fell off a ladder and died in front of his father after he was electrocuted while testing lights in a factory, an inquest has heard.', 'The England C team is facing the axe after 36 years as part of Greg Dyke’s spending review at the Football Association.', 'British jihadis have posted pictures of junk food and drinks such as Burger King, Pringles and mojitos which they have had carried across the Turkish border into Syria.', 'The pound has slipped to a five-year low against the dollar amid growing uncertainty about the outcome of the general election.', 'A mother-of-two claims her face was left covered in angry red welts after drinking a bottle of Tesco wine which reeked of bleach.', 'The number of firearm licence holders in New South Wales has increased by more than 20 per cent in the last five years.', 'Premier League side West Ham are closing in on the signature of Jamaican starlet DeShane Beckford.', 'The body of Kyle Knox has been found near the foot of Ben Nevis three weeks after he disappeared.', 'An 11-year-old boy with autism has been reported missing in Australia.', \"dash-cam footage has revealed the moment a Florida police officer shouted: 'Get on the f****** ground or you're dead,' moments before he shot a mentally ill man as he was running away.\", 'Mobile phones and tablet computers are becoming dangerous distractions for parents who are supposed to be supervising their children, researchers claim.', 'Nine council workers have been sacked for inappropriately accessing confidential social work files on tragic toddler Mikaeel Kular.', 'An Army recruitment sergeant raped a teenage cadet after telling her he could help her get a visa from the Home Office, a court heard today.', 'Russian president Vladimir Putin said Russia has key interests in common with the United States and needs to work with it on a common agenda.', \"Cristiano Ronaldo looked in formidable form as he showed off his array of skills ahead of Real Madrid's Champions League quarter-final against city rivals Atletico.\", \"A teacher has been banned from the classroom after he let pupils change their exam answers invalidating his whole school's SATs results.\", \"Paris St-Germain striker Zlatan Ibrahimovic has been suspended for the second leg of his side's Champions League quarter-final against Barcelona.\", 'A TV presenter and former model is convinced her teeth - or rather, the dental work done on them - triggered a host of health problems that plagued her for nearly seven years. Yet the 29-year-old broadcaster is convinced her teeth - or rather, the dental work done on them - triggered a host of health problems that plagued her for nearly seven years.', 'A paramedic who pretended he was gay to get close to women before sexually assaulting them has been struck off the medical register.', \"Paris St-Germain face Nice on Saturday, hoping to take Ligue 1's top spot from Lyon but do so with a host of key stars missing, including captain Thiago Silva who is recuperating at home from a thigh injury.\", 'The Pentagon says it has made great progress in its effort to develop a self-steering bullet.']"
      ],
      "metadata": {
        "id": "zAvunHJu5T1I"
      },
      "execution_count": 27,
      "outputs": []
    },
    {
      "cell_type": "markdown",
      "source": [
        "Using Bart Transformer model "
      ],
      "metadata": {
        "id": "bVg0eFZo7BI8"
      }
    },
    {
      "cell_type": "code",
      "source": [
        "tokenizer = AutoTokenizer.from_pretrained(\"facebook/bart-large-cnn\")\n",
        "model = AutoModelForSeq2SeqLM.from_pretrained(\"facebook/bart-large-cnn\")"
      ],
      "metadata": {
        "id": "H4vZRbGN69BH",
        "colab": {
          "base_uri": "https://localhost:8080/",
          "height": 177,
          "referenced_widgets": [
            "714ba3aeed4a4b7ba25798b0cdf44dd1",
            "273976e003b94aeeabd1bace8e613c20",
            "96f1eb38d62247238293caaaf4c2f8cc",
            "7d9901f67380452686981dd93e42abc7",
            "4fbfff8c62d943beb7f74f151e49864d",
            "24262fb7884b4515b6beeddb56962dc4",
            "bbd1c21887dc461e9aa9bf086da2c3e3",
            "fa88ab9b60574dfda8fa4768e671f6e5",
            "f7025af274be4328bda4002deb3f119d",
            "dc82b5c3c2894a4686d54b82d0997a85",
            "5e691677f15948929cc22812a186a78f",
            "3be288bc35954811a657be9096513e34",
            "7d3c81222b5c42f691ebf2df850b3133",
            "51cc04916ef944d98ba3a18826c9de34",
            "2468a3b6ea4f4d9886b02f161c866c1e",
            "be2490e38ec34bd5bb14a130e971c319",
            "64bc56bc8d3740b7a7133cc13509e627",
            "382c6364cbd441f3bb5a53c129dfa9c3",
            "6da9d0af05ea471f90a73c7e64b89913",
            "69463fabdd2e4303b85b0725bf5591a2",
            "2612ad03354043f58d35b3790915864f",
            "8381db35e4a646f3981b2c9c27ab1b4d",
            "a700e2b9ed824eee84de1811b15fdf2f",
            "e7ff92bc54ae40ffb6f03225f42780c2",
            "b08bb21348c34fdd85bbb602ffe1c269",
            "b89ed402ba0243e8a0b342bf3fd1dc97",
            "9b4960c5cccb4add957525f51dabfec4",
            "3e49fbdc40374c27836785eca3ce078d",
            "5b608acb202c480289ae7fcaf2fa5277",
            "3b7456d75f1040ec95fb87e87d4a4b0a",
            "4c62d01e547b4e41acd825ee48f46016",
            "0f1bd90f2b9a403e9baa1c209e182966",
            "a8008764205b4ed4a57614bb83b55f88",
            "f618de5aaec948368831c9074b322efb",
            "6ed04cc22bb7414b8d4fa8a7038ffca6",
            "069e08144123450c8d2a5755d4a17a1a",
            "2adef3cf10364abb97e7aec55b2e3b1e",
            "d6e61ff7a64c4a0ebbbeb18dcee68101",
            "f030790ea89646b291447253f3cb76c8",
            "d8e0d9260b6b4811b12b63dd52304113",
            "3b78225662b0448ba5dcc4a238125d90",
            "0e24a207d60747dbac3a49eb87511915",
            "66e144839b9a4f70b9383bab55b8c4aa",
            "19cab835169e4aabb328521bb1398ec7",
            "c06aa6431fc5420baa0a8738f8a60855",
            "4d8898b2de7e4f88b7f9e928b678548f",
            "cab455a0940f404eb0ee02e0b420d811",
            "15e1abd378944c7e84536f810ce75fe0",
            "e18e33cba43f44f4950c05a87c4aeb40",
            "cc57f673d5f04bc1abe278c95ba57651",
            "8522b47fce68409a9287c25039a82923",
            "03f4f2fe49eb44099b9ad57066428705",
            "d2eccb98fc764697b527bd878547b724",
            "20c07c7c6a3b48f3b4095905d37b97f2",
            "319b09384d6e4ea7a2c54ea29c9b6ddb"
          ]
        },
        "outputId": "bb90c9c6-56ef-45ce-e8f1-ee859c454aeb"
      },
      "execution_count": 32,
      "outputs": [
        {
          "output_type": "display_data",
          "data": {
            "text/plain": [
              "Downloading:   0%|          | 0.00/1.58k [00:00<?, ?B/s]"
            ],
            "application/vnd.jupyter.widget-view+json": {
              "version_major": 2,
              "version_minor": 0,
              "model_id": "714ba3aeed4a4b7ba25798b0cdf44dd1"
            }
          },
          "metadata": {}
        },
        {
          "output_type": "display_data",
          "data": {
            "text/plain": [
              "Downloading:   0%|          | 0.00/899k [00:00<?, ?B/s]"
            ],
            "application/vnd.jupyter.widget-view+json": {
              "version_major": 2,
              "version_minor": 0,
              "model_id": "3be288bc35954811a657be9096513e34"
            }
          },
          "metadata": {}
        },
        {
          "output_type": "display_data",
          "data": {
            "text/plain": [
              "Downloading:   0%|          | 0.00/456k [00:00<?, ?B/s]"
            ],
            "application/vnd.jupyter.widget-view+json": {
              "version_major": 2,
              "version_minor": 0,
              "model_id": "a700e2b9ed824eee84de1811b15fdf2f"
            }
          },
          "metadata": {}
        },
        {
          "output_type": "display_data",
          "data": {
            "text/plain": [
              "Downloading:   0%|          | 0.00/1.36M [00:00<?, ?B/s]"
            ],
            "application/vnd.jupyter.widget-view+json": {
              "version_major": 2,
              "version_minor": 0,
              "model_id": "f618de5aaec948368831c9074b322efb"
            }
          },
          "metadata": {}
        },
        {
          "output_type": "display_data",
          "data": {
            "text/plain": [
              "Downloading:   0%|          | 0.00/1.63G [00:00<?, ?B/s]"
            ],
            "application/vnd.jupyter.widget-view+json": {
              "version_major": 2,
              "version_minor": 0,
              "model_id": "c06aa6431fc5420baa0a8738f8a60855"
            }
          },
          "metadata": {}
        }
      ]
    },
    {
      "cell_type": "code",
      "source": [
        "predicted_bart = []\n",
        "for i in range(0,100):\n",
        "    tokens_input = tokenizer.encode(\"summarize: \"+ document[i], return_tensors='pt', max_length=512, truncation=True)\n",
        "    ids = model.generate(tokens_input, min_length=10, max_length=120)\n",
        "    summary = tokenizer.decode(ids[0], skip_special_tokens=True)\n",
        "    predicted_bart.append(summary) "
      ],
      "metadata": {
        "id": "Yn7bwnWB69Dv"
      },
      "execution_count": 34,
      "outputs": []
    },
    {
      "cell_type": "code",
      "source": [
        "print(predicted_bart)"
      ],
      "metadata": {
        "colab": {
          "base_uri": "https://localhost:8080/"
        },
        "id": "D7IZT7vXRPPl",
        "outputId": "5b93da96-3d06-47b1-f757-a06d0ad4d925"
      },
      "execution_count": 36,
      "outputs": [
        {
          "output_type": "stream",
          "name": "stdout",
          "text": [
            "[\"U.S consumer advisory group set up by Department of Transportation said that while the government is happy to set standards for animals flying on planes, it doesn't stipulate a minimum amount of space for humans. Tests conducted by the FAA use planes with a 31 inch pitch, a standard which on some airlines has decreased.\", \"Rahul Kumar, 17, climbed into the lions' enclosure at a zoo in Ahmedabad. He ran towards the animals shouting: 'Today I kill a lion or a lion kills me!' Fortunately, he fell into a moat and was rescued by zoo security staff.\", \"Dougie Freedman is on the verge of agreeing a new two-year deal at Nottingham Forest. Freedman has stabilised Forest since he replaced cult hero Stuart Pearce and the club's owners are pleased with his work.\", 'Fiorentina goalkeeper Neto is wanted by a number of top European clubs, according to his agent Stefano Castagna. Liverpool were linked with a move for the 25-year-old earlier in the season when Simon Mignolet was dropped from the side. Castagna claims PSG and clubs in Spain are also interested in the Brazilian.', \"The former Olympian and reality TV star, 65, will speak in a 'far-ranging' interview with Sawyer for a special edition of '20/20' on Friday April 24. The interview comes amid growing speculation about the father-of-six's transition to a woman, and follows closely behind his involvement in a deadly car crash in California in February.\", 'The prize porker, known as Pigwig, had fallen into the pool in Ringwood, Hampshire. His owners had been taking him for a walk around the garden when the animal plunged into the water and was unable to get out. Two fire crews and a specialist animal rescue team had to use slide boards and strops to haul the huge black pig from the pool.', 'The average listener spent just ten hours a week tuning in to BBC radio. This was 14 per cent down on a decade earlier, when listeners clocked up 11.6 hours. Lord Tony Hall, BBC director general, highlighted decline to BBC Trust.', 'Netflix has ordered up a reunion special, followed by a spinoff series called \"Fuller House\" The show will feature Candace Cameron Bure as the recently widowed mother of three boys. Jodie Sweetin and Andrea Barber will both return for the new series.', \"Reanne Evans beat Ken Doherty 10-8 at Ponds Forge in Sheffield. The 29-year-old was hoping to become the first female player to play in the world snooker championship. Snooker's governing body had been criticised in some quarters for allowing Evans a wild card to compete.\", 'Six men jailed for a total of 31 years for string of sexual offences against girls. The offences ranged from inciting sexual activity with a child, to rape. The girls, aged between 13 and 16, were targeted by the gang at under-18s parties organised by Ahmed Hassan-Sule, 21.', 'Mohammed Ali Malek, 27, was arrested when he stepped onto Sicilian soil. He was forced to watch the bodies of 24 victims of the tragedy being carried off the ship for burial on the island of Malta. Prosecutors claim he contributed to the disaster by mistakenly ramming the fishing boat into a merchant ship that had come to its rescue.', 'Mark Lippert, 42, suffered deep gashes to his cheek and hand when he was assaulted by knife-wielding nationalist Kim Ki-Jong at a breakfast function in central Seoul last month. The envoy required 80 stitches to the wound on his face and two-and-a-half hours of surgery. He is now wearing a dynamic exoskeletal brace on his hand while he recovers.', \"England captain Alastair Cook completed a much-needed century on the second morning of England's opening tour match in the West Indies. Cook resumed on 95 and reached three figures with minimal fuss before retiring out.\", \"Warren Weinstein, who appears to have been the only American citizen held hostage by al Qaeda, was accidentally killed in a U.S. drone strike in January. But it didn't have to be that way. A senior U.s. official familiar with the handling of the issue told CNN that the government made no serious effort to negotiate for Weinstein's release.\", 'Sofia Davila, 21, posted raunchy pictures or herself online. She then flirted with unsuspecting men she had contacted on the social network. After meeting her victims, the thief would spike their drinks and wait for them to fall unconscious. She was caught after trying to trick police that she was an innocent bystander.', 'The 2015 Australian Fashion Report assessed the labour rights management systems of 59 companies and 219 brands operating in Australia. Lowes, Industrie, Best & Less and the Just Group - which includes Just Jeans, Portmans and Dotti - were identified as some of the worst performing companies. Amongst the best performers were Etiko, Audrey Blue, Cotton On, H&M and Zara. None of the 59 companies could prove the workers at their raw material suppliers were paid a living wage.', 'Jack Wilshere, Mikel Arteta and Abou Diaby all start for Arsenal Under 21s. The Gunners take on Stoke City in a U21 Premier League clash on Tuesday. Teenage winger Serge Gnabry is also in the starting line-up, alongside a host of promising youngsters including Dan Crowley.', 'Prasanna ‘Nick’ Arulchelvam ran and jumped through an open side door of their van. But he was pushed out and hit the ground as the vehicle sped away. A customer in the Costco car park in Watford where the incident happened reported hearing a ‘nasty crunch’ as the 34-year-old’s head hit the floor.', 'The stunning sunsets were the result of raging wildfires in parts of Siberia. Winds carried the smoke from Siberia across the Pacific Ocean and brought it to the Pacific Northwest.', \"Discovery in an Austrian cellar shocked scientists. The researchers described it as a'sunken ship in the desert' Genetic analysis of the beast show that it was a Bactrian-dromedary hybrid – a breed popular in the Ottoman army at the time.\", 'Ben Affleck\\'s great-great-great grandfather was a slave owner in the mid-1800\\'s. Affleck asked producers of a PBS show, \"Finding Your Roots,\" to remove any reference to his ancestor. PBS has launched an internal review to determine if the show violated its own editorial standards.', \"Mered Medhanie, 34, was heard laughing on a police wiretap about overloading migrant ships, a problem that causes them to capsize. He boasted: 'They say I put too many aboard, but they're the ones who want to leave in a hurry' Second trafficker, Ermias Ghermay, also showed callous disregard for the plight of his 'customers' He was heard declaring last summer:'They organised another trip a few days ago. I don't know what happened – they probably died'\", 'Princess Beatrice has been seen at the Bahrain Grand Prix, her fourth holiday in a month. The 26-year-old was spotted in the Gulf state with her long-term boyfriend Dave Clark, according to an onlooker who saw her among dignitaries on the starting grid before the race.', \"U.S. Attorney Ronald Machen told House Speaker John Boehner in a seven-page letter that Lois Lerner could wrap herself in the Constitution's Fifth Amendment. Lerner led the IRS department tasked with approving nonprofit groups' applications for tax-exempt status. Beginning in 2010, the department gave conservative groups with words like 'patriots' or 'tea party' in their names extra scrutiny, slow-walking their applications and keping many in limbo for years.\", \"Brett McGurk, the Obama administration's point man in the fight against ISIS, made the comments in an exclusive interview with CNN. He did not rule out expanding U.S. military action beyond Iraq and Syria to combat the increasing regional threat.\", 'Ukip leader said that he was ‘jealous’ of how the Tory leader has reversed the greying process while in Downing Street. Mr Farage said he had shaken Mr Cameron’s hand and ‘complimented him on his appearance’', 'David Hyche, now a special agent at the Bureau of Alcohol, Tobacco and Firearms, came up with the idea when his daughter turned blind nine years ago. A transmitter is placed inside plastic eggs that let off a high-pitched beeping sound.', 'Jamyra Gallmon, 21, has been charged with first-degree murder while armed for allegedly killing David Messerschmitt, 30, on February 9 in Washington, D.C. The woman admitted to police that she set up the lawyer using a masculine-sounding email address and went to the upscale Donovan hotel with the intention of robbing him. The victim was found with multiple stab wounds to the back, groin and abdomen along with one wound which pierced his heart and another which hit his spinal cord.', 'Peter Sutcliffe has spent more than three decades in Broadmoor for the savage killings of 13 women. Despite being one of the country’s most notorious serial killers, Sutcliffe may be moved to a cushy Priory unit set in Berkshire woodland. Families of his victims are furious about the move.', 'ISIS has announced plans to open a school of nursing in Raqqa, Syria. Militants also disclosed the tough entry requirements for prospective medical workers. Among them are rules that applicants are no more than 25 years of age. They must also be willing to work anywhere inside the territory controlled by the extremists.', \"Jack Nicklaus recorded his first ever hole-in-one at the Masters on Wednesday. Camilo Villegas fired two in the space of five holes but still could not win the traditional par-three contest. Kevin Streelman became the latest player to be saddled with the 'curse' of the par- three champion, with no player ever becoming par-Three and Masters champion in the same year.\", 'Five-year-old Palestinian boy pelted Israeli police with stones during protest. He was dressed in full combat gear and launched a series of missiles at officers. Violence erupted during a rally to mark Palestinian Prisoners Day. Israeli forces used tear gas and rubber bullets to disperse the crowd.', 'Wigan drew 2-2 with Fulham at Craven Cottage on Friday night. Gary Caldwell only replaced Malky Mackay on Wednesday. The 32-year-old is the youngest boss in the Championship. Wigan are seven points adrift of safety.', 'The 750 square metre apartment is spread across the entire 100th floor of super skyscraper Australia 108. It is the most expensive single apartment sold in the country. The new owner plans to live in the luxury pad when it is completed. The apartment block has three infinity pools set against floor-to-ceiling glass to give swimmers a view of either the glittering city skyline or shimmering bay.', \"Jet Set Candy's Marry British Royalty Spinner Charm comes in 14K gold vermeil or sterling silver for $198 and $148, respectively.\", \"Todd Phillips, 40, was struck at full speed as he flagged down one of his drivers during Sunday's inaugural Indy Grand Prix of Louisiana. As the Dale Coyne Racing team chief mechanic is hit on the leg by the back end of the vehicle he flips forwards and performs a somersault. Amazingly Phillips of Franklin, Wisconsin, only sustained minor injuries to his leg which required six stitches. It was later reported that he was mowed down by the car of Francesco Dracone, who had come in on Lap 25 for tires and fuel.\", \"Poldark star, 31, has admitted to using baby oil to show off his physique. Has he been'manscaping' his chest in favour of a less hirsute look? Fans have taken to Twitter to comment.\", 'Labour leader has jumped ahead of the Prime Minister in personal approval ratings. Labour Party has also taken a commanding four point lead over the Tories.', \"#a**holeparent has almost 4000 posts from parents all over world, admitting through their uploaded pictures to cleaning, feeding, and entertaining their children to their immense dissatisfaction. Most of the photos show children crying, followed by an explanation of exactly what their parent has done to upset them so. 'I wouldn't let her have a knife,' explained one parent alongside a picture of their daughter sobbing in a highchair.\", \"Mirko 'Cro Cop' Filipovic stopped Gabriel Gonzaga in the third round of their long-awaited heavyweight rematch in Krakow. Eight years after their first encounter in which Gonzaga delivered a stunning knockout, Filipovic endured a tough opening two sessions before making his move. Jimi Manuwa made a successful return to the Octagon after a year on the sidelines by outpointing Jan Blachowicz. Stevie Ray enjoyed a winning debut with a second-round stoppage of Marcin Bandel. Joanne Calderwood was submitted by Maryna Moroz in the\", \"David Beckham and Odell Beckham Jnr pictured with James Corden. Comedian posted picture on Twitter with caption: 'Double Beckhams!' Both Beckhams were pictured in America with the 36-year-old. Corden is currently filming Late Late Show in the States.\", 'Palermo president Maurizio Zamparini has slapped a €50million (£36m) price tag on Paulo Dybala. Manchester United, Chelsea, Arsenal, Inter Milan, Juventus and Paris Saint-Germain are all interested in signing the Argentina international. Inter Milan manager Roberto Mancini was spotted at the Stadio Ennio Tardini on Sunday, when Palermo lost to Parma.', 'More than 2,000 office workers had to be evacuated yesterday due to the fire in Holborn. It apparently started in a tunnel carrying electrical cables, causing flames to erupt from the pavement and filling the area with smoke. Although the blaze has now been brought under control it has not been put out entirely, and firefighters still do not know the cause of the fire.', 'Boca Juniors beat Palestino 2-0 in the Copa Libertadores last 16. Leandro Marin and Jonatan Calleri scored the goals in injury time. Boca will now face rivals River Plate in the last 16 of the competition.', \"Gianni Paladini has registered as a director of a new Bradford City holding company in what appears to be the first move towards taking control at Valley Parade. The Italian has been searching for a way back into football since he left Loftus Road in 2011 and has attempted to buy Birmingham City from Carson Yeung. Bradford's most memorable moment of the season came during their shock FA Cup win over Chelsea.\", \"Middlesbrough beat Rotherham United 2-0 in the Championship on Saturday. Lee Tomlin and Patrick Bamford scored the goals for Aitor Karanka's side. Boro bounced back from their defeat to Watford on Easter Monday.\", \"James May, Richard Hammond and Jeremy Clarkson were set to sign new deal. But Clarkson's infamous 'fracas' with producer Oisin Tymon led to the offer being taken away. May revealed he had prematurely celebrated the three-year deal by ordering a rare £200,000 Ferrari before Clarkson's sacking.\", \"Steven Finn was overlooked for the West Indies tour. Finn says he's been watching footage of when he was on the top of his form and is returning to that style. The 26-year-old Finn has played only one Championship game for Middlesex.\", 'Hull FC beat Widnes 22-8 to make it back-to-back wins for the first time since last June. Tom Lineham scored two interception tries in an eye-catching hat-trick. Jamie Shaul went over late on to make sure of the two competition points for Hull.', 'Federal government regulations and the American Heart Association have for decades warned that excess salt contributes to the deaths of tens of thousands of Americans each year. As the federal government prepares its influential Dietary Guidelines for 2015, some scientists are now saying that the average American salt consumption rate carries no risk. The guidelines currently dictate the people should limit their intake to 2,300 milligrams.', 'Two corrections officers and one former officer trainee have been charged in a plot to kill a former inmate. An FBI informant met the men after infiltrating a branch of the KKK. The FBI staged a fake homicide scene with the former inmate and took pictures to show them that he had been killed.', \"Rafael Benitez has been linked with the managerial job at Sampdoria after it emerged that Sinisa Mihajlovic is being lined up to replace him at Napoli. The Spaniard has received fresh criticism of his waistline ahead of Napoli's crucial Serie A fixture with Samp doria this weekend. But Sampdia president Massimo Ferrero has taken inspiration from a favourite chant of the Goodison Park and Old Trafford terraces, appearing to quash rumours that a job swap is imminent.\", \"Former deputy prime minister said he has 'a lot to offer this country' Lord Prescott's intervention comes after the Supreme Court backed a previous ruling paving the way for the publication of Prince Charles's 'black spider' memos.\", \"Zimbabwe have reportedly agreed to travel for a short one-day international series next month. No tourists have played in Pakistan because of security fears since the terrorist attack on Sri Lanka's team bus in Lahore in March 2009. Six policemen and two civilians died, and several of the tourists were injured.\", 'Fashion fans who follow many of the top bloggers on Instagram experienced an extreme case of déjà vu over the weekend after the same dress was modeled by no less than 50 fashionistas. The highly usual situation was no coincidence, but rather a clever marketing ploy dreamed up by retailer Lord & Taylor to promote its edgy new fashion-forward range. The company has admitted that it paid the bloggers to wear the paisley-print, handkerchief-hem summer dress.', 'Danny Willett was left frustrated with a rules official for getting in his line-of-sight during his round. The 27-year-old Englishman carded a one-under 71 during his first ever round at Augusta National.', \"Tinder will now display the last 34 pictures of a person's Instagram feed - and allow users to see more. Firm said it made the changes after noticing many users put their Instagram user name in their profile.\", 'Nathaniel Clyne has been linked with a move away from Southampton. The right back has been in impressive form for the Saints this season. Southampton boss Ronald Koeman has admitted it may be hard to keep Clyne.', 'Mike Heatlie, 42, attacked Fiona McCartney, 43, outside a nightclub in Edinburgh. She lost a tooth and was left lying unconscious in a pool of blood. He pleaded guilty at Edinburgh Sheriff Court in March to the attack. Ms McCartney is now facing a £7,000 dental bill and is too frightened to leave home.', 'Selina Dicker, 38, was at the same camp on April 18 last year when an avalanche killed 16 Sherpas who were climbing ahead of her group.', \"'If Hillary Clinton can't satisfy her husband,' a Texas-cowgirl college student tweeted, 'what makes her think she can satisfy America?' When someone retweeted the quip two hours later and included Trump's Twitter handle in the message, one of the billionaire's staffers retweeted it for him – to his audience of 2.8 million people. His office confirmed on Friday that it was a Trump employee, not a fat-fingered CEO, who was responsible. 'Mr. Trump was not responsible for this tweet,' a spokesperson told Daily Mail Online.\", 'Jack Grealish has become the third top flight starlet caught on camera inhaling nitrous oxide. He starred for Aston Villa in their FA Cup semi-final win over Liverpool on Sunday at Wembley. Arsene Wenger changed the attitude completely at Arsenal.', \"Kurdish separatists opened fire from a long distance, CNN Turk reports. About a fifth of Turkey's population is Kurdish.\", 'After running 150 chemical tests, an expert claims to have linked the James Ossuary – a 1st-century chalk box that was used for containing the bones of the dead – to the long disputed ‘Jesus Family tomb’ in the city’s East Talpiot neighbourhood. The research could have enormous ramifications as it suggests that Jesus was married, fathered a child and that a physical resurrection did not take place.', 'Myer City stores in Melbourne, Sydney, Perth, Brisbane, and Adelaide will offer the first 100 customers the doll for the original 1959 price of $3.00. For those who miss out on the promotion, the dolls will be on sale for $34.95 thereafter. The dolls are newly produced but modelled on the Original Barbie Doll that was first released at the New York Toy Fair in 1959.', 'SNP leader will unveil a manifesto including proposals for British foreign policy, welfare payments, energy bills and English university tuition fees. Several election pledges overlap with Labour policy, including slashing tuition fees in England from a maximum of £9,000 a year to £6,000. Others are calculated to drag a minority Labour government to the left.', \"Almost half of 1,000 British companies questioned said they are less inclined to recruit an applicant after interview if they are obese or overweight. Among the reasons given were that overweight workers 'are unable to play a full role in the business', 'they're lazy', and 'they wouldn't be able to do the job required'\", \"Lazio beat Empoli 4-0 at the Stadio Olimpico. Stefano Mauri, Miroslav Klose, Antonio Candreva and Felipe Anderson scored for the Biancocelesti. Roma are now 13 points behind Juventus after drawing 1-1 at Torino. Napoli beat Fiorentina 3-0 to retake fourth place. Palermo's long wait for a second away win came to an end with a 3-1 win at Udinese.\", \"A high-level ministerial briefing exclusively obtained by Daily Mail Australia reveals an 'unprecedented' number of Australians could face the death penalty in China for drug smuggling. Chinese authorities have said that eleven Australians were apprehended on suspected drug smuggling charges in Guangzhou alone in 2014. The exact number facing possible death sentences was redacted in the briefing, obtained under freedom of information laws. It comes as one of the few Australians known to be facing death row in China - Sydney man Peter Gardner - had his case pushed forward by six months.\", \"UEFA has opened disciplinary proceedings against the Georgian Football Federation (GFF) after fans twice invaded the field of play during Sunday's 2-0 defeat by Germany in Tbilisi. UEFA's Control, Ethics and Disciplinary Body will decide the case on May 21. The GFF has already vowed to tighten up security in the wake of those crowd disturbances.\", \"Arsenal may pull out of the running to sign Liverpool winger Raheem Sterling. The Gunners are keen on the Reds forward, who is stalling on a new £100,000-per-week contract at Anfield. Sterling's decision to hold his now infamous BBC interview without Liverpool's permission is said to have surprised those at north London. The 20-year-old has been caught smoking shisha and inhaling nitrous oxide.\", \"Arsenal beat Burnley 1-0 in their Premier League clash at Turf Moor. Aaron Ramsey scored the only goal of the game in the first half. Arsene Wenger's side moved up to second in the table.\", \"Shaqueel van Persie scored with a'scorpion kick' in his back garden. The seven-year-old has trained with both Manchester clubs and starred in a BT Sport advert. Manchester United will reportedly offer Van Persie £5million to quit the club.\", \"Rita, 24, has teamed up with adidas Originals for new range. Inspired by her love of travel and different cultures. Says there's 'a little something for everyone' in the collection.\", \"The 1961 Ferrari 250 GT SWB California Spider is widely regarded by many as the most beautiful convertible ever made. But it is best known for that infamous scene in the 1986 teen comedy starring Matthew Broderick. The car, in classic Ferrari red, was the pride and joy of the father of Ferris Bueller's best friend Cameron in the movie. That was until the friends take the model out for a spin which results in the convertible accidentally smashing through its glass showroom doors into the ravine below. This car, however, is in significantly better condition and has recently undergone a\", 'The Random Darknet Shopper was designed as an online shopping system that would spend up to $100 each week by randomly purchasing an item offered for sale on the deep web. The robot would then have its purchase mailed to a group of artists who then put the items in an exhibition in the town of St Gallen, in north east Switzerland. The items it bought included trainers, jeans, cigarettes, a set of masterkeys and a DVD case containing 10 ecstasy tablets.', \"The sum is almost five times the Prime Minister’s £142,500 pay packet. A further 11 dentists were paid between £400,000 and £500,000. More than 1,600 pocketed £100,000-£200,000 in 2012/13. Campaigners said the payments were'scandalous' and 'unacceptable'\", \"Institute for Fiscal Studies says voters are 'in the dark' about spending cuts. Tories accused of giving 'no detail' about their deficit reduction plan. Labour has left the door open to borrowing an extra £26billion-a-year.\", \"Femail writer and marathon runner Lucy Waterlow tested out £130 adidas Ultra Boost trainers against Aldi's budget £19.99 pair ahead of the London Marathon next week. The adidas Boost technology is a type of cushioning that they say will deliver 'your greatest run ever'\", \"Nathan Brown, 19, was working at Eurofabs UK Ltd in Rochdale, Greater Manchester. He was told to climb up a ladder onto the walkway of a crane and test the lights in the building's roof. But he accidentally touched a 400-volt busbar, a metal strip which conducts electricity within a switchboard. The shock caused him to fall 12ft head first onto the roof of a toilet block below the crane.\", 'FA chairman Greg Dyke must find £30million to fund his masterplan to reform grassroots football. Dyke has identified the non-league national team as an area of potential saving. England C, which has operated under different names since it was formed in 1979, is managed by former Barnet boss Paul Fairclough.', \"Would-be fighters are bringing the items across the border as they travel to join those currently waging jihadi across Syria and Iraq. One fighter, using the Twitter handle Jannahtain, posted a photo of a Burger King Whopper burger. He was blasted by another user, who called him 'fake' for enjoying food from the 'evil American corporation'\", 'The pound fell to near 1.46 against the US dollar, its lowest level since June 2010. Experts have warned of the impact on the economy of a badly hung parliament. There are fears it could sent pound plummeting by another 10 per cent.', \"Justine Jones was left covered in huge sores and in agony after opening the bottle of Tesco Finest Garnacha wine to celebrate her daughter's birthday. Her mother Jan Jones had bought the bottle for granddaughter\\xa0Abi's 18th birthday and they had poured a glass to toast the occasion. Despite the bottle being sealed and showing no evidence of being tampered with, the family were shocked when they inspected it further.\", \"The number of firearm licence holders in New South Wales has increased by more than 20 per cent in the last five years. Currently, a total of 215,462 licences exist compared to the 177,675 owned in 2010. Tamworth, 403km north of Sydney, was revealed to have the most number of licences - 3259. Bathurst, 200km west of Sydney,. a close second at 3075. Detective Superintendent Mick Plotecki said US's popular national gun laws and pop culture was likely to be driving the increase.\", \"The 17-year-old forward from Montego Bay United was invited to train with West Ham's academy earlier this month and has impressed coaches. Beckford also has offers from clubs in Belgium.\", 'Kyle Knox, from London, was last seen alive at the foot of Ben Nevis on March 31. The 23-year-old was reported missing the following day when he failed to return to his hotel in Fort William.', 'Luke Shambrook was last seen on the national park at 9.30am on Good Friday. It is understood he wandered off and has not been seen since. Luke has limited speech and his family says he is probably confused, and he may not even be aware he is lost. The 11-year-old was reportedly seen walking near the Devils River on Sunday.', \"The family of Lavall Hall, released the shocking video which calls into question the Miami Gardens police department's account of the incident on February 15. The clip captured from the police car at the scene shows shell cases flying as a police officer shot the 25-year-old schizophrenic, who was black. The police department said the officers were forced to shoot because Hall 'attacked' them with 'deadly force' using the broom. But the video footage appears to show him trying to flee the officers before he was fatally shot.\", 'Children are more likely to engage in risky behaviour when those looking after them are distracted by texting or talking on the phone, the study showed. Researchers observed randomly selected parents with children who looked between 18 months and five years old at playgrounds in New York.', 'Mikaeel Kular was killed by his mother Rosdeep Adekoya last year. She beat him for being sick and left him to die in agony for three days. She then hid his body in a suitcase and dumped it in woods in Fife. She told police the boy had wandered off sparking a huge manhunt. Police Scotland probed the claims and an internal investigation was launched. Up to 25 staff were alleged to have accessed confidential social work files belonging to the youngster. At least nine workers were subject to disciplinary action and subsequently dismissed.', \"Edwin 'Jock' Mee allegedly told the 18-year-old, from Sierra Leone, that her visa application had been delayed. He is accused of carrying out sex attacks on 11 victims as young as 15.\", \"Putin appeared to soften his anti-American rhetoric after being highly critical. Relations between Moscow and Washington, and other Western powers, have soured over the conflict in Russia's neighbor Ukraine, sinking to an all-time low.\", 'Cristiano Ronaldo showed off his skills in Real Madrid training on Monday. The World Player of the Year pulled off a selection of back-heels and fancy flicks during the session. Real face city rivals Atletico Madrid in the Champions League quarter-final first leg on Tuesday. Carlo Ancelotti is likely to call on his forward trio of Ronaldo, Karim Benzema and Gareth Bale.', \"Ian Guffick asked pupils at Mitton Manor Primary School in Tewkesbury to make the changes to their SATs exam answers. The 31-year-old also altered a number of the pupil's exam answers himself before the papers were sent off. The Department for Education annulled the whole school's SAT's results after a probe.\", \"Barcelona face Paris Saint-Germain in the Champions League semi-final second leg on Tuesday night. Zlatan Ibrahimovic was suspended for the first leg after he was dismissed against Chelsea. The Swede famously said the World Cup is 'nothing to watch' without him. Ibrahimovic is past caring what other people think of him.\", 'Jameela Jamil spent £3,000 on having all her amalgam fillings removed and replaced with white fillings. The 29-year-old broadcaster is convinced her teeth triggered a host of health problems.', 'Christopher Bridger, 25, from Stevenage, Hertfordshire, attacked three women after separate drinking sessions. He was jailed for 12 years after being convicted of rape and four other abuse charges last year. HCPC Conduct and Competence Committee today removed him from the register after hearing his crimes.', \"Thiago Silva will miss Paris Saint-Germain's game at Nice on Saturday. The PSG captain is recuperating at home from a thigh injury. Zlatan Ibrahimovic, Marco Verratti and Thiago Motta are also out. David Luiz is still not fully fit and may be forced to return early from injury.\", 'The U.S. military says it has made great progress in its effort to develop a self-steering bullet. The \"smart bullets\" --.50-caliber projectiles equipped with optical sensors -- passed their most successful round of live-fire tests to date.']\n"
          ]
        }
      ]
    },
    {
      "cell_type": "code",
      "source": [
        "predicted_bar = [\"U.S consumer advisory group set up by Department of Transportation said that while the government is happy to set standards for animals flying on planes, it doesn't stipulate a minimum amount of space for humans. Tests conducted by the FAA use planes with a 31 inch pitch, a standard which on some airlines has decreased.\", \"Rahul Kumar, 17, climbed into the lions' enclosure at a zoo in Ahmedabad. He ran towards the animals shouting: 'Today I kill a lion or a lion kills me!' Fortunately, he fell into a moat and was rescued by zoo security staff.\", \"Dougie Freedman is on the verge of agreeing a new two-year deal at Nottingham Forest. Freedman has stabilised Forest since he replaced cult hero Stuart Pearce and the club's owners are pleased with his work.\", 'Fiorentina goalkeeper Neto is wanted by a number of top European clubs, according to his agent Stefano Castagna. Liverpool were linked with a move for the 25-year-old earlier in the season when Simon Mignolet was dropped from the side. Castagna claims PSG and clubs in Spain are also interested in the Brazilian.', \"The former Olympian and reality TV star, 65, will speak in a 'far-ranging' interview with Sawyer for a special edition of '20/20' on Friday April 24. The interview comes amid growing speculation about the father-of-six's transition to a woman, and follows closely behind his involvement in a deadly car crash in California in February.\", 'The prize porker, known as Pigwig, had fallen into the pool in Ringwood, Hampshire. His owners had been taking him for a walk around the garden when the animal plunged into the water and was unable to get out. Two fire crews and a specialist animal rescue team had to use slide boards and strops to haul the huge black pig from the pool.', 'The average listener spent just ten hours a week tuning in to BBC radio. This was 14 per cent down on a decade earlier, when listeners clocked up 11.6 hours. Lord Tony Hall, BBC director general, highlighted decline to BBC Trust.', 'Netflix has ordered up a reunion special, followed by a spinoff series called \"Fuller House\" The show will feature Candace Cameron Bure as the recently widowed mother of three boys. Jodie Sweetin and Andrea Barber will both return for the new series.', \"Reanne Evans beat Ken Doherty 10-8 at Ponds Forge in Sheffield. The 29-year-old was hoping to become the first female player to play in the world snooker championship. Snooker's governing body had been criticised in some quarters for allowing Evans a wild card to compete.\", 'Six men jailed for a total of 31 years for string of sexual offences against girls. The offences ranged from inciting sexual activity with a child, to rape. The girls, aged between 13 and 16, were targeted by the gang at under-18s parties organised by Ahmed Hassan-Sule, 21.', 'Mohammed Ali Malek, 27, was arrested when he stepped onto Sicilian soil. He was forced to watch the bodies of 24 victims of the tragedy being carried off the ship for burial on the island of Malta. Prosecutors claim he contributed to the disaster by mistakenly ramming the fishing boat into a merchant ship that had come to its rescue.', 'Mark Lippert, 42, suffered deep gashes to his cheek and hand when he was assaulted by knife-wielding nationalist Kim Ki-Jong at a breakfast function in central Seoul last month. The envoy required 80 stitches to the wound on his face and two-and-a-half hours of surgery. He is now wearing a dynamic exoskeletal brace on his hand while he recovers.', \"England captain Alastair Cook completed a much-needed century on the second morning of England's opening tour match in the West Indies. Cook resumed on 95 and reached three figures with minimal fuss before retiring out.\", \"Warren Weinstein, who appears to have been the only American citizen held hostage by al Qaeda, was accidentally killed in a U.S. drone strike in January. But it didn't have to be that way. A senior U.s. official familiar with the handling of the issue told CNN that the government made no serious effort to negotiate for Weinstein's release.\", 'Sofia Davila, 21, posted raunchy pictures or herself online. She then flirted with unsuspecting men she had contacted on the social network. After meeting her victims, the thief would spike their drinks and wait for them to fall unconscious. She was caught after trying to trick police that she was an innocent bystander.', 'The 2015 Australian Fashion Report assessed the labour rights management systems of 59 companies and 219 brands operating in Australia. Lowes, Industrie, Best & Less and the Just Group - which includes Just Jeans, Portmans and Dotti - were identified as some of the worst performing companies. Amongst the best performers were Etiko, Audrey Blue, Cotton On, H&M and Zara. None of the 59 companies could prove the workers at their raw material suppliers were paid a living wage.', 'Jack Wilshere, Mikel Arteta and Abou Diaby all start for Arsenal Under 21s. The Gunners take on Stoke City in a U21 Premier League clash on Tuesday. Teenage winger Serge Gnabry is also in the starting line-up, alongside a host of promising youngsters including Dan Crowley.', 'Prasanna ‘Nick’ Arulchelvam ran and jumped through an open side door of their van. But he was pushed out and hit the ground as the vehicle sped away. A customer in the Costco car park in Watford where the incident happened reported hearing a ‘nasty crunch’ as the 34-year-old’s head hit the floor.', 'The stunning sunsets were the result of raging wildfires in parts of Siberia. Winds carried the smoke from Siberia across the Pacific Ocean and brought it to the Pacific Northwest.', \"Discovery in an Austrian cellar shocked scientists. The researchers described it as a'sunken ship in the desert' Genetic analysis of the beast show that it was a Bactrian-dromedary hybrid – a breed popular in the Ottoman army at the time.\", 'Ben Affleck\\'s great-great-great grandfather was a slave owner in the mid-1800\\'s. Affleck asked producers of a PBS show, \"Finding Your Roots,\" to remove any reference to his ancestor. PBS has launched an internal review to determine if the show violated its own editorial standards.', \"Mered Medhanie, 34, was heard laughing on a police wiretap about overloading migrant ships, a problem that causes them to capsize. He boasted: 'They say I put too many aboard, but they're the ones who want to leave in a hurry' Second trafficker, Ermias Ghermay, also showed callous disregard for the plight of his 'customers' He was heard declaring last summer:'They organised another trip a few days ago. I don't know what happened – they probably died'\", 'Princess Beatrice has been seen at the Bahrain Grand Prix, her fourth holiday in a month. The 26-year-old was spotted in the Gulf state with her long-term boyfriend Dave Clark, according to an onlooker who saw her among dignitaries on the starting grid before the race.', \"U.S. Attorney Ronald Machen told House Speaker John Boehner in a seven-page letter that Lois Lerner could wrap herself in the Constitution's Fifth Amendment. Lerner led the IRS department tasked with approving nonprofit groups' applications for tax-exempt status. Beginning in 2010, the department gave conservative groups with words like 'patriots' or 'tea party' in their names extra scrutiny, slow-walking their applications and keping many in limbo for years.\", \"Brett McGurk, the Obama administration's point man in the fight against ISIS, made the comments in an exclusive interview with CNN. He did not rule out expanding U.S. military action beyond Iraq and Syria to combat the increasing regional threat.\", 'Ukip leader said that he was ‘jealous’ of how the Tory leader has reversed the greying process while in Downing Street. Mr Farage said he had shaken Mr Cameron’s hand and ‘complimented him on his appearance’', 'David Hyche, now a special agent at the Bureau of Alcohol, Tobacco and Firearms, came up with the idea when his daughter turned blind nine years ago. A transmitter is placed inside plastic eggs that let off a high-pitched beeping sound.', 'Jamyra Gallmon, 21, has been charged with first-degree murder while armed for allegedly killing David Messerschmitt, 30, on February 9 in Washington, D.C. The woman admitted to police that she set up the lawyer using a masculine-sounding email address and went to the upscale Donovan hotel with the intention of robbing him. The victim was found with multiple stab wounds to the back, groin and abdomen along with one wound which pierced his heart and another which hit his spinal cord.', 'Peter Sutcliffe has spent more than three decades in Broadmoor for the savage killings of 13 women. Despite being one of the country’s most notorious serial killers, Sutcliffe may be moved to a cushy Priory unit set in Berkshire woodland. Families of his victims are furious about the move.', 'ISIS has announced plans to open a school of nursing in Raqqa, Syria. Militants also disclosed the tough entry requirements for prospective medical workers. Among them are rules that applicants are no more than 25 years of age. They must also be willing to work anywhere inside the territory controlled by the extremists.', \"Jack Nicklaus recorded his first ever hole-in-one at the Masters on Wednesday. Camilo Villegas fired two in the space of five holes but still could not win the traditional par-three contest. Kevin Streelman became the latest player to be saddled with the 'curse' of the par- three champion, with no player ever becoming par-Three and Masters champion in the same year.\", 'Five-year-old Palestinian boy pelted Israeli police with stones during protest. He was dressed in full combat gear and launched a series of missiles at officers. Violence erupted during a rally to mark Palestinian Prisoners Day. Israeli forces used tear gas and rubber bullets to disperse the crowd.', 'Wigan drew 2-2 with Fulham at Craven Cottage on Friday night. Gary Caldwell only replaced Malky Mackay on Wednesday. The 32-year-old is the youngest boss in the Championship. Wigan are seven points adrift of safety.', 'The 750 square metre apartment is spread across the entire 100th floor of super skyscraper Australia 108. It is the most expensive single apartment sold in the country. The new owner plans to live in the luxury pad when it is completed. The apartment block has three infinity pools set against floor-to-ceiling glass to give swimmers a view of either the glittering city skyline or shimmering bay.', \"Jet Set Candy's Marry British Royalty Spinner Charm comes in 14K gold vermeil or sterling silver for $198 and $148, respectively.\", \"Todd Phillips, 40, was struck at full speed as he flagged down one of his drivers during Sunday's inaugural Indy Grand Prix of Louisiana. As the Dale Coyne Racing team chief mechanic is hit on the leg by the back end of the vehicle he flips forwards and performs a somersault. Amazingly Phillips of Franklin, Wisconsin, only sustained minor injuries to his leg which required six stitches. It was later reported that he was mowed down by the car of Francesco Dracone, who had come in on Lap 25 for tires and fuel.\", \"Poldark star, 31, has admitted to using baby oil to show off his physique. Has he been'manscaping' his chest in favour of a less hirsute look? Fans have taken to Twitter to comment.\", 'Labour leader has jumped ahead of the Prime Minister in personal approval ratings. Labour Party has also taken a commanding four point lead over the Tories.', \"#a**holeparent has almost 4000 posts from parents all over world, admitting through their uploaded pictures to cleaning, feeding, and entertaining their children to their immense dissatisfaction. Most of the photos show children crying, followed by an explanation of exactly what their parent has done to upset them so. 'I wouldn't let her have a knife,' explained one parent alongside a picture of their daughter sobbing in a highchair.\", \"Mirko 'Cro Cop' Filipovic stopped Gabriel Gonzaga in the third round of their long-awaited heavyweight rematch in Krakow. Eight years after their first encounter in which Gonzaga delivered a stunning knockout, Filipovic endured a tough opening two sessions before making his move. Jimi Manuwa made a successful return to the Octagon after a year on the sidelines by outpointing Jan Blachowicz. Stevie Ray enjoyed a winning debut with a second-round stoppage of Marcin Bandel. Joanne Calderwood was submitted by Maryna Moroz in the\", \"David Beckham and Odell Beckham Jnr pictured with James Corden. Comedian posted picture on Twitter with caption: 'Double Beckhams!' Both Beckhams were pictured in America with the 36-year-old. Corden is currently filming Late Late Show in the States.\", 'Palermo president Maurizio Zamparini has slapped a €50million (£36m) price tag on Paulo Dybala. Manchester United, Chelsea, Arsenal, Inter Milan, Juventus and Paris Saint-Germain are all interested in signing the Argentina international. Inter Milan manager Roberto Mancini was spotted at the Stadio Ennio Tardini on Sunday, when Palermo lost to Parma.', 'More than 2,000 office workers had to be evacuated yesterday due to the fire in Holborn. It apparently started in a tunnel carrying electrical cables, causing flames to erupt from the pavement and filling the area with smoke. Although the blaze has now been brought under control it has not been put out entirely, and firefighters still do not know the cause of the fire.', 'Boca Juniors beat Palestino 2-0 in the Copa Libertadores last 16. Leandro Marin and Jonatan Calleri scored the goals in injury time. Boca will now face rivals River Plate in the last 16 of the competition.', \"Gianni Paladini has registered as a director of a new Bradford City holding company in what appears to be the first move towards taking control at Valley Parade. The Italian has been searching for a way back into football since he left Loftus Road in 2011 and has attempted to buy Birmingham City from Carson Yeung. Bradford's most memorable moment of the season came during their shock FA Cup win over Chelsea.\", \"Middlesbrough beat Rotherham United 2-0 in the Championship on Saturday. Lee Tomlin and Patrick Bamford scored the goals for Aitor Karanka's side. Boro bounced back from their defeat to Watford on Easter Monday.\", \"James May, Richard Hammond and Jeremy Clarkson were set to sign new deal. But Clarkson's infamous 'fracas' with producer Oisin Tymon led to the offer being taken away. May revealed he had prematurely celebrated the three-year deal by ordering a rare £200,000 Ferrari before Clarkson's sacking.\", \"Steven Finn was overlooked for the West Indies tour. Finn says he's been watching footage of when he was on the top of his form and is returning to that style. The 26-year-old Finn has played only one Championship game for Middlesex.\", 'Hull FC beat Widnes 22-8 to make it back-to-back wins for the first time since last June. Tom Lineham scored two interception tries in an eye-catching hat-trick. Jamie Shaul went over late on to make sure of the two competition points for Hull.', 'Federal government regulations and the American Heart Association have for decades warned that excess salt contributes to the deaths of tens of thousands of Americans each year. As the federal government prepares its influential Dietary Guidelines for 2015, some scientists are now saying that the average American salt consumption rate carries no risk. The guidelines currently dictate the people should limit their intake to 2,300 milligrams.', 'Two corrections officers and one former officer trainee have been charged in a plot to kill a former inmate. An FBI informant met the men after infiltrating a branch of the KKK. The FBI staged a fake homicide scene with the former inmate and took pictures to show them that he had been killed.', \"Rafael Benitez has been linked with the managerial job at Sampdoria after it emerged that Sinisa Mihajlovic is being lined up to replace him at Napoli. The Spaniard has received fresh criticism of his waistline ahead of Napoli's crucial Serie A fixture with Samp doria this weekend. But Sampdia president Massimo Ferrero has taken inspiration from a favourite chant of the Goodison Park and Old Trafford terraces, appearing to quash rumours that a job swap is imminent.\", \"Former deputy prime minister said he has 'a lot to offer this country' Lord Prescott's intervention comes after the Supreme Court backed a previous ruling paving the way for the publication of Prince Charles's 'black spider' memos.\", \"Zimbabwe have reportedly agreed to travel for a short one-day international series next month. No tourists have played in Pakistan because of security fears since the terrorist attack on Sri Lanka's team bus in Lahore in March 2009. Six policemen and two civilians died, and several of the tourists were injured.\", 'Fashion fans who follow many of the top bloggers on Instagram experienced an extreme case of déjà vu over the weekend after the same dress was modeled by no less than 50 fashionistas. The highly usual situation was no coincidence, but rather a clever marketing ploy dreamed up by retailer Lord & Taylor to promote its edgy new fashion-forward range. The company has admitted that it paid the bloggers to wear the paisley-print, handkerchief-hem summer dress.', 'Danny Willett was left frustrated with a rules official for getting in his line-of-sight during his round. The 27-year-old Englishman carded a one-under 71 during his first ever round at Augusta National.', \"Tinder will now display the last 34 pictures of a person's Instagram feed - and allow users to see more. Firm said it made the changes after noticing many users put their Instagram user name in their profile.\", 'Nathaniel Clyne has been linked with a move away from Southampton. The right back has been in impressive form for the Saints this season. Southampton boss Ronald Koeman has admitted it may be hard to keep Clyne.', 'Mike Heatlie, 42, attacked Fiona McCartney, 43, outside a nightclub in Edinburgh. She lost a tooth and was left lying unconscious in a pool of blood. He pleaded guilty at Edinburgh Sheriff Court in March to the attack. Ms McCartney is now facing a £7,000 dental bill and is too frightened to leave home.', 'Selina Dicker, 38, was at the same camp on April 18 last year when an avalanche killed 16 Sherpas who were climbing ahead of her group.', \"'If Hillary Clinton can't satisfy her husband,' a Texas-cowgirl college student tweeted, 'what makes her think she can satisfy America?' When someone retweeted the quip two hours later and included Trump's Twitter handle in the message, one of the billionaire's staffers retweeted it for him – to his audience of 2.8 million people. His office confirmed on Friday that it was a Trump employee, not a fat-fingered CEO, who was responsible. 'Mr. Trump was not responsible for this tweet,' a spokesperson told Daily Mail Online.\", 'Jack Grealish has become the third top flight starlet caught on camera inhaling nitrous oxide. He starred for Aston Villa in their FA Cup semi-final win over Liverpool on Sunday at Wembley. Arsene Wenger changed the attitude completely at Arsenal.', \"Kurdish separatists opened fire from a long distance, CNN Turk reports. About a fifth of Turkey's population is Kurdish.\", 'After running 150 chemical tests, an expert claims to have linked the James Ossuary – a 1st-century chalk box that was used for containing the bones of the dead – to the long disputed ‘Jesus Family tomb’ in the city’s East Talpiot neighbourhood. The research could have enormous ramifications as it suggests that Jesus was married, fathered a child and that a physical resurrection did not take place.', 'Myer City stores in Melbourne, Sydney, Perth, Brisbane, and Adelaide will offer the first 100 customers the doll for the original 1959 price of $3.00. For those who miss out on the promotion, the dolls will be on sale for $34.95 thereafter. The dolls are newly produced but modelled on the Original Barbie Doll that was first released at the New York Toy Fair in 1959.', 'SNP leader will unveil a manifesto including proposals for British foreign policy, welfare payments, energy bills and English university tuition fees. Several election pledges overlap with Labour policy, including slashing tuition fees in England from a maximum of £9,000 a year to £6,000. Others are calculated to drag a minority Labour government to the left.', \"Almost half of 1,000 British companies questioned said they are less inclined to recruit an applicant after interview if they are obese or overweight. Among the reasons given were that overweight workers 'are unable to play a full role in the business', 'they're lazy', and 'they wouldn't be able to do the job required'\", \"Lazio beat Empoli 4-0 at the Stadio Olimpico. Stefano Mauri, Miroslav Klose, Antonio Candreva and Felipe Anderson scored for the Biancocelesti. Roma are now 13 points behind Juventus after drawing 1-1 at Torino. Napoli beat Fiorentina 3-0 to retake fourth place. Palermo's long wait for a second away win came to an end with a 3-1 win at Udinese.\", \"A high-level ministerial briefing exclusively obtained by Daily Mail Australia reveals an 'unprecedented' number of Australians could face the death penalty in China for drug smuggling. Chinese authorities have said that eleven Australians were apprehended on suspected drug smuggling charges in Guangzhou alone in 2014. The exact number facing possible death sentences was redacted in the briefing, obtained under freedom of information laws. It comes as one of the few Australians known to be facing death row in China - Sydney man Peter Gardner - had his case pushed forward by six months.\", \"UEFA has opened disciplinary proceedings against the Georgian Football Federation (GFF) after fans twice invaded the field of play during Sunday's 2-0 defeat by Germany in Tbilisi. UEFA's Control, Ethics and Disciplinary Body will decide the case on May 21. The GFF has already vowed to tighten up security in the wake of those crowd disturbances.\", \"Arsenal may pull out of the running to sign Liverpool winger Raheem Sterling. The Gunners are keen on the Reds forward, who is stalling on a new £100,000-per-week contract at Anfield. Sterling's decision to hold his now infamous BBC interview without Liverpool's permission is said to have surprised those at north London. The 20-year-old has been caught smoking shisha and inhaling nitrous oxide.\", \"Arsenal beat Burnley 1-0 in their Premier League clash at Turf Moor. Aaron Ramsey scored the only goal of the game in the first half. Arsene Wenger's side moved up to second in the table.\", \"Shaqueel van Persie scored with a'scorpion kick' in his back garden. The seven-year-old has trained with both Manchester clubs and starred in a BT Sport advert. Manchester United will reportedly offer Van Persie £5million to quit the club.\", \"Rita, 24, has teamed up with adidas Originals for new range. Inspired by her love of travel and different cultures. Says there's 'a little something for everyone' in the collection.\", \"The 1961 Ferrari 250 GT SWB California Spider is widely regarded by many as the most beautiful convertible ever made. But it is best known for that infamous scene in the 1986 teen comedy starring Matthew Broderick. The car, in classic Ferrari red, was the pride and joy of the father of Ferris Bueller's best friend Cameron in the movie. That was until the friends take the model out for a spin which results in the convertible accidentally smashing through its glass showroom doors into the ravine below. This car, however, is in significantly better condition and has recently undergone a\", 'The Random Darknet Shopper was designed as an online shopping system that would spend up to $100 each week by randomly purchasing an item offered for sale on the deep web. The robot would then have its purchase mailed to a group of artists who then put the items in an exhibition in the town of St Gallen, in north east Switzerland. The items it bought included trainers, jeans, cigarettes, a set of masterkeys and a DVD case containing 10 ecstasy tablets.', \"The sum is almost five times the Prime Minister’s £142,500 pay packet. A further 11 dentists were paid between £400,000 and £500,000. More than 1,600 pocketed £100,000-£200,000 in 2012/13. Campaigners said the payments were'scandalous' and 'unacceptable'\", \"Institute for Fiscal Studies says voters are 'in the dark' about spending cuts. Tories accused of giving 'no detail' about their deficit reduction plan. Labour has left the door open to borrowing an extra £26billion-a-year.\", \"Femail writer and marathon runner Lucy Waterlow tested out £130 adidas Ultra Boost trainers against Aldi's budget £19.99 pair ahead of the London Marathon next week. The adidas Boost technology is a type of cushioning that they say will deliver 'your greatest run ever'\", \"Nathan Brown, 19, was working at Eurofabs UK Ltd in Rochdale, Greater Manchester. He was told to climb up a ladder onto the walkway of a crane and test the lights in the building's roof. But he accidentally touched a 400-volt busbar, a metal strip which conducts electricity within a switchboard. The shock caused him to fall 12ft head first onto the roof of a toilet block below the crane.\", 'FA chairman Greg Dyke must find £30million to fund his masterplan to reform grassroots football. Dyke has identified the non-league national team as an area of potential saving. England C, which has operated under different names since it was formed in 1979, is managed by former Barnet boss Paul Fairclough.', \"Would-be fighters are bringing the items across the border as they travel to join those currently waging jihadi across Syria and Iraq. One fighter, using the Twitter handle Jannahtain, posted a photo of a Burger King Whopper burger. He was blasted by another user, who called him 'fake' for enjoying food from the 'evil American corporation'\", 'The pound fell to near 1.46 against the US dollar, its lowest level since June 2010. Experts have warned of the impact on the economy of a badly hung parliament. There are fears it could sent pound plummeting by another 10 per cent.', \"Justine Jones was left covered in huge sores and in agony after opening the bottle of Tesco Finest Garnacha wine to celebrate her daughter's birthday. Her mother Jan Jones had bought the bottle for granddaughter\\xa0Abi's 18th birthday and they had poured a glass to toast the occasion. Despite the bottle being sealed and showing no evidence of being tampered with, the family were shocked when they inspected it further.\", \"The number of firearm licence holders in New South Wales has increased by more than 20 per cent in the last five years. Currently, a total of 215,462 licences exist compared to the 177,675 owned in 2010. Tamworth, 403km north of Sydney, was revealed to have the most number of licences - 3259. Bathurst, 200km west of Sydney,. a close second at 3075. Detective Superintendent Mick Plotecki said US's popular national gun laws and pop culture was likely to be driving the increase.\", \"The 17-year-old forward from Montego Bay United was invited to train with West Ham's academy earlier this month and has impressed coaches. Beckford also has offers from clubs in Belgium.\", 'Kyle Knox, from London, was last seen alive at the foot of Ben Nevis on March 31. The 23-year-old was reported missing the following day when he failed to return to his hotel in Fort William.', 'Luke Shambrook was last seen on the national park at 9.30am on Good Friday. It is understood he wandered off and has not been seen since. Luke has limited speech and his family says he is probably confused, and he may not even be aware he is lost. The 11-year-old was reportedly seen walking near the Devils River on Sunday.', \"The family of Lavall Hall, released the shocking video which calls into question the Miami Gardens police department's account of the incident on February 15. The clip captured from the police car at the scene shows shell cases flying as a police officer shot the 25-year-old schizophrenic, who was black. The police department said the officers were forced to shoot because Hall 'attacked' them with 'deadly force' using the broom. But the video footage appears to show him trying to flee the officers before he was fatally shot.\", 'Children are more likely to engage in risky behaviour when those looking after them are distracted by texting or talking on the phone, the study showed. Researchers observed randomly selected parents with children who looked between 18 months and five years old at playgrounds in New York.', 'Mikaeel Kular was killed by his mother Rosdeep Adekoya last year. She beat him for being sick and left him to die in agony for three days. She then hid his body in a suitcase and dumped it in woods in Fife. She told police the boy had wandered off sparking a huge manhunt. Police Scotland probed the claims and an internal investigation was launched. Up to 25 staff were alleged to have accessed confidential social work files belonging to the youngster. At least nine workers were subject to disciplinary action and subsequently dismissed.', \"Edwin 'Jock' Mee allegedly told the 18-year-old, from Sierra Leone, that her visa application had been delayed. He is accused of carrying out sex attacks on 11 victims as young as 15.\", \"Putin appeared to soften his anti-American rhetoric after being highly critical. Relations between Moscow and Washington, and other Western powers, have soured over the conflict in Russia's neighbor Ukraine, sinking to an all-time low.\", 'Cristiano Ronaldo showed off his skills in Real Madrid training on Monday. The World Player of the Year pulled off a selection of back-heels and fancy flicks during the session. Real face city rivals Atletico Madrid in the Champions League quarter-final first leg on Tuesday. Carlo Ancelotti is likely to call on his forward trio of Ronaldo, Karim Benzema and Gareth Bale.', \"Ian Guffick asked pupils at Mitton Manor Primary School in Tewkesbury to make the changes to their SATs exam answers. The 31-year-old also altered a number of the pupil's exam answers himself before the papers were sent off. The Department for Education annulled the whole school's SAT's results after a probe.\", \"Barcelona face Paris Saint-Germain in the Champions League semi-final second leg on Tuesday night. Zlatan Ibrahimovic was suspended for the first leg after he was dismissed against Chelsea. The Swede famously said the World Cup is 'nothing to watch' without him. Ibrahimovic is past caring what other people think of him.\", 'Jameela Jamil spent £3,000 on having all her amalgam fillings removed and replaced with white fillings. The 29-year-old broadcaster is convinced her teeth triggered a host of health problems.', 'Christopher Bridger, 25, from Stevenage, Hertfordshire, attacked three women after separate drinking sessions. He was jailed for 12 years after being convicted of rape and four other abuse charges last year. HCPC Conduct and Competence Committee today removed him from the register after hearing his crimes.', \"Thiago Silva will miss Paris Saint-Germain's game at Nice on Saturday. The PSG captain is recuperating at home from a thigh injury. Zlatan Ibrahimovic, Marco Verratti and Thiago Motta are also out. David Luiz is still not fully fit and may be forced to return early from injury.\", 'The U.S. military says it has made great progress in its effort to develop a self-steering bullet. The \"smart bullets\" --.50-caliber projectiles equipped with optical sensors -- passed their most successful round of live-fire tests to date.']"
      ],
      "metadata": {
        "id": "ChUz31wRYYr7"
      },
      "execution_count": 37,
      "outputs": []
    },
    {
      "cell_type": "code",
      "source": [
        "from transformers import AutoTokenizer, AutoModelForSeq2SeqLM"
      ],
      "metadata": {
        "id": "0xRFawNKvCdA"
      },
      "execution_count": 34,
      "outputs": []
    },
    {
      "cell_type": "markdown",
      "source": [
        "Finally, I ran a model with pretrained T5 model with auto classes from hugging face."
      ],
      "metadata": {
        "id": "ufOffnyL8UkF"
      }
    },
    {
      "cell_type": "code",
      "source": [
        "# tokenizer = AutoTokenizer.from_pretrained(\"csebuetnlp/mT5_multilingual_XLSum\")\n",
        "# model = AutoModelForSeq2SeqLM.from_pretrained(\"csebuetnlp/mT5_multilingual_XLSum\")"
      ],
      "metadata": {
        "id": "INRONi8G69GC"
      },
      "execution_count": 40,
      "outputs": []
    },
    {
      "cell_type": "code",
      "source": [
        "# predicted_t5 = []\n",
        "# for i in range(0,100):\n",
        "#     tokens_input = tokenizer.encode(\"summarize: \"+ document[i], return_tensors='pt', max_length=512, truncation=True)\n",
        "#     ids = model.generate(tokens_input, min_length=10, max_length=120)\n",
        "#     summary = tokenizer.decode(ids[0], skip_special_tokens=True)\n",
        "#     predicted_bart.append(summary)"
      ],
      "metadata": {
        "id": "Auk_6wJj69Ji"
      },
      "execution_count": 41,
      "outputs": []
    },
    {
      "cell_type": "code",
      "source": [
        "# print(predicted_t5)"
      ],
      "metadata": {
        "id": "YrNZpuwfZOHQ"
      },
      "execution_count": 42,
      "outputs": []
    },
    {
      "cell_type": "markdown",
      "source": [
        "Bleu score evaluator"
      ],
      "metadata": {
        "id": "mJtu0fsxZE-_"
      }
    },
    {
      "cell_type": "code",
      "source": [
        "from nltk.translate.bleu_score import sentence_bleu\n",
        "reference = [\n",
        "    \"Censor Board demands removal of phrase Mann Ki Baat in film\".split() \n",
        "]\n",
        "candidate = \"Censor Board has demanded the removal of phrase Mann Ki Baat from a dialogue in film Sameer\".split()\n",
        "\n",
        "print('Individual 1-gram: %f' % sentence_bleu(reference, candidate, weights=(1, 0, 0, 0)))\n",
        "print('Individual 2-gram: %f' % sentence_bleu(reference, candidate, weights=(0, 1, 0, 0)))\n",
        "print('Individual 3-gram: %f' % sentence_bleu(reference, candidate, weights=(0, 0, 1, 0)))\n",
        "print('Individual 4-gram: %f' % sentence_bleu(reference, candidate, weights=(0, 0, 0, 1))) "
      ],
      "metadata": {
        "colab": {
          "base_uri": "https://localhost:8080/"
        },
        "id": "MU0yYeRUpoLM",
        "outputId": "b74d21ca-03d9-4849-87c6-57ebc585993e"
      },
      "execution_count": null,
      "outputs": [
        {
          "output_type": "stream",
          "name": "stdout",
          "text": [
            "Individual 1-gram: 0.588235\n",
            "Individual 2-gram: 0.437500\n",
            "Individual 3-gram: 0.266667\n",
            "Individual 4-gram: 0.214286\n"
          ]
        }
      ]
    },
    {
      "cell_type": "code",
      "source": [
        "summary[:100]"
      ],
      "metadata": {
        "colab": {
          "base_uri": "https://localhost:8080/"
        },
        "id": "Rpp4RIl9vTE2",
        "outputId": "5be5b614-1833-47fb-bab1-5ffe75e71047"
      },
      "execution_count": 43,
      "outputs": [
        {
          "output_type": "execute_result",
          "data": {
            "text/plain": [
              "0     Experts question if  packed out planes are put...\n",
              "1     Drunk teenage boy climbed into lion enclosure ...\n",
              "2     Nottingham Forest are close to extending Dougi...\n",
              "3     Fiorentina goalkeeper Neto has been linked wit...\n",
              "4     Tell-all interview with the reality TV star, 6...\n",
              "                            ...                        \n",
              "95    Zlatan Ibrahimovic will line up against former...\n",
              "96    Jameela Jamil, 29, is convinced dental work tr...\n",
              "97    Christopher Bridger, 25, attacked three women ...\n",
              "98    Paris Saint-Germain captain Thiago Silva suffe...\n",
              "99    .50-caliber bullets equipped with optical sens...\n",
              "Name: summary, Length: 100, dtype: object"
            ]
          },
          "metadata": {},
          "execution_count": 43
        }
      ]
    },
    {
      "cell_type": "code",
      "source": [
        "Predict_pega"
      ],
      "metadata": {
        "colab": {
          "base_uri": "https://localhost:8080/"
        },
        "id": "RtEZ_ndWvTOH",
        "outputId": "9f470f89-7eac-411e-be2c-340f8b0ba96c"
      },
      "execution_count": 39,
      "outputs": [
        {
          "output_type": "execute_result",
          "data": {
            "text/plain": [
              "['Is the shrinking space on planes putting our health and safety in danger?',\n",
              " \"A drunk teenage boy had to be rescued by security after jumping into a lions' enclosure at a zoo in western India.\",\n",
              " \"Dougie Freedman has stabilised Nottingham Forest since he replaced cult hero Stuart Pearce and the club's owners are pleased with the job he has done at the City Ground.\",\n",
              " 'Liverpool are among a number of top European clubs interested in Fiorentina goalkeeper Neto.',\n",
              " 'Bruce Jenner will break his silence in a two-hour interview with Diane Sawyer later this month.',\n",
              " 'Firefighters had to use slide boards and strops to rescue a giant pig from a swimming pool.',\n",
              " 'The amount of time people spend listening to BBC radio has dropped to its lowest level ever, the corporation’s boss has admitted.',\n",
              " 'The cast of \"Full House\" is reuniting for a new series on Netflix.',\n",
              " \"At 11:20pm, Ken Doherty potted a final black and extinguished, for now, the dream of Reanne Evans to become the first women player to play the hallowed baize of Sheffield's Crucible Theatre in the world snooker championship.\",\n",
              " 'A gang of six men have been jailed for a total of 31 years after being convicted of a string of sexual offences against teenage girls.',\n",
              " 'The captain of a boat that capsized off the coast of Libya, killing more than 900 migrants, has been charged with multiple manslaughter.',\n",
              " \"The US ambassador to South Korea has revealed he is now wearing a dynamic exoskeletal brace on his hand while he recovers from last month's knife attack.\",\n",
              " \"England captain Alastair Cook completed a century on the second morning of England's opening tour match in the West Indies.\",\n",
              " \"The death of an American aid worker held hostage by al Qaeda in Pakistan has raised questions about the United States' efforts to secure his release.\",\n",
              " \"A thief nicknamed the 'Black Widow of Facebook' who drugged and robbed men after she lured them into bed has been arrested.\",\n",
              " 'As Australian Fashion Week comes to a close, a new damning report has named and shamed some of the worst clothing brands sold in Australia and their companies, for the ongoing exploitation of their overseas workers.',\n",
              " \"Jack Wilshere, Mikel Arteta and Abou Diaby have all been handed starts for the club's Under 21s game on Tuesday night as they continue their respective recoveries from injury.\",\n",
              " 'A shopkeeper died when he fell from a van while chasing a gang of thieves.',\n",
              " 'Photos courtesy Tim Durkan and KOMO-TV. The reason people are seeing an intense red sunset is a result of smoke particles filtering out the shorter wavelength colors from the sunlight like greens, blues, yellows and purples, KOMO-TV said.',\n",
              " \"The complete skeleton of an 'alien' 17th-century camel has been discovered in Austria.\",\n",
              " \"What do you do if you're Ben Affleck?\",\n",
              " 'Italian police have released an e-fit image of millionaire people trafficker Ermias Ghermay, who is thought to have made £72m with his accomplice Mered Medhanie from smuggling migrants in the last two years.',\n",
              " 'After 11 holidays in under six months, you might have thought Princess Beatrice would be ready to put the brakes on her globetrotting.',\n",
              " \"The Obama administration says it's perfectly legal for a former Internal Revenue Service official to refuse to answer questions about the agency's treatment of conservative groups.\",\n",
              " '\"We are in unchartered territory here.\"',\n",
              " 'David Cameron has been secretly using hair dye to turn back the years Nigel Farage suggested today.',\n",
              " 'Blind children in Birmingham, Alabama, have celebrated Easter early by hunting for plastic eggs that let of a beeping sound.',\n",
              " 'A woman has been charged with the murder of a lawyer who was found stabbed to death in his hotel room.',\n",
              " 'The families of victims of Yorkshire Ripper Peter Sutcliffe are furious at plans to move him from Broadmoor to a low-security Priory unit.',\n",
              " \"All nurses working in areas under their control must speak English - something the NHS still hasn't introduced. Militants fighting for the Islamic State terror group in Syria have announced that all nurses working in areas under their control must speak English - something the NHS still hasn't introduced.\",\n",
              " 'Jack Nicklaus recorded his first ever hole-in-one at the Masters on Wednesday, as Camilo Villegas fired two in the space of five holes but still could not win the traditional par-three contest.',\n",
              " 'A five-year-old Palestinian boy pelted the Israeli police with stones as violence erupted during a rally in the northern West Bank.',\n",
              " \"Gary Caldwell admitted his first taste of management was 'crazy' following Wigan's battling 2-2 draw against Fulham.\",\n",
              " 'An ultra luxury penthouse standing 319 metres off the ground in the tallest apartment block in the southern hemisphere has been bought off the plan by a Chinese businessman for a record price.',\n",
              " 'If you’ve ever wondered what it would be like to be a member of the Royal Family, now is your chance.',\n",
              " \"This is the stomach-churning moment a pit crew worker is tossed into the air like a rag doll as he's hit by an out-of-control racing car.\",\n",
              " \"It's been an eventful few days for Poldark fans.\",\n",
              " 'Ed Miliband has overtaken David Cameron as the most popular political leader for the first time.',\n",
              " \"A new hashtag has popped up on social media site Instagram exposing some of these 'awful' things parents do to their children- such as giving them a bath (how dare they), putting them in their high chair (so mean), and even giving them cookies (what a truly evil thing to do). A hilarious new hashtag has popped up on social media site Instagram exposing some of these 'awful' things parents do to their children- such as giving them a bath (how dare they), putting them in their high chair (so mean), and even giving them cookies (what a truly evil thing\",\n",
              " \"Mirko 'Cro Cop' Filipovic delivered on his promise to exact revenge as he stopped Gabriel Gonzaga in the third round of their long-awaited heavyweight rematch in Poland.\",\n",
              " 'David Beckham and Odell Beckham Jnr were pictured in America with James Corden.',\n",
              " 'Palermo president Maurizio Zamparini has told Paris Saint-Germain they will have to spend big to sign Argentina striker Paulo Dybala.',\n",
              " 'Fire crews remain at the scene of a huge underground fire in central London.',\n",
              " 'River Plate and Boca Juniors both scored late goals to secure their place in the last 16 of the Copa Libertadores.',\n",
              " 'Gianni Paladini appears to be keen on taking over the reins at League One side Bradford.',\n",
              " 'Middlesbrough bounced back from defeat to Watford with a convincing 2-0 win over struggling Rotherham United.',\n",
              " \"Jeremy Clarkson and his Top Gear colleagues were just about to renew their lucrative contacts for three more years but they were scrapped when the star punched the show's producer.\",\n",
              " 'Middlesex fast bowler Steven Finn says he is back to his best and ready to push for an England place.',\n",
              " 'Tom Lineham scored a hat-trick as Hull FC beat Widnes 22-8 to make it back-to-back wins for the first time since last June.',\n",
              " 'For years medical experts have warned about the dangers of too much salt, but now new research is questioning conventional wisdom and warning instead of the dangers of too little salt.',\n",
              " 'Three men have been charged with plotting to kill a Ku Klux Klan member.',\n",
              " \"Napoli manager Rafael Benitez has received fresh criticism of his waistline ahead of Napoli's crucial Serie A fixture with Sampdoria this weekend, as the quest for a UEFA Champions League place reaches a crescendo in Italy.\",\n",
              " \"Lord Prescott has published extracts from two letters he received from the Prince of Wales - including one expressing his sadness at the death of the Labour politician's mother.\",\n",
              " 'Zimbabwe have reportedly agreed to travel for a short one-day international series next month, likely to take place in Lahore and Karachi. Zimbabwe have reportedly agreed to travel for a short one-day international series next month, likely to take place in Lahore and Karachi.',\n",
              " 'Fashion fans who follow many of the top bloggers on Instagram experienced an extreme case of déj vu over the weekend after the same dress was modelled by no less than 50 fashionistas.',\n",
              " 'Danny Willett was left frustrated with a rules official for getting in his line-of-sight during his round at the Masters.',\n",
              " 'Dating app Tinder has added the ability to let people add their latest Instagram snaps to their profile.',\n",
              " 'Manchester United target Nathaniel Clyne admits he wants to play Champions League football as the Southampton defender continues to be linked with a move away from the south coast.',\n",
              " 'A personal trainer who claims to have helped Gwen Stefani get into shape hit a woman so hard that she lost a tooth and was left lying unconscious in a pool of blood, a court has hard.',\n",
              " 'Climber: Lucky: Selena Dicker, 38, outran the avalanche on Mount Everest in the wake of the perilous quake. Climber: Lucky: Selena Dicker, 38, outran the avalanche on Mount Everest in the wake of the perilous quake.',\n",
              " 'A social media staffer to Donald Trump retweeted an off-color jab at Hillary Clinton on Thursday before the boss deleted it.',\n",
              " 'It’s a shame to see another talented young player being photographed taking ‘hippy crack.’',\n",
              " 'At least six Turkish soldiers have been killed in an attack by Kurdish separatist rebels, officials say.',\n",
              " 'An Israeli geologist claims he has ‘confirmed’ the existence and authenticity of a tomb belonging to Jesus and his son in Jerusalem.',\n",
              " 'The original Barbie doll has been reproduced and goes back on sale this Saturday in Australia.',\n",
              " 'Nicola Sturgeon will today launch an extraordinary bid to ‘lead the UK’ as she unveils a string of policies apparently tailor-made for a power-sharing deal with Labour.',\n",
              " \"Employers are 'precluded' from hiring obese workers because of their weight, research suggests.\",\n",
              " \"Lazio's Miroslav Klose celebrates after scoring a goal against Empoli.\",\n",
              " \"A high-level briefing exclusively obtained by Daily Mail Australia reveals an 'unprecedented' number of Australians could face the death penalty in China for drug smuggling.\",\n",
              " \"Scotland's Euro 2016 qualifier with Georgia in September could be played behind closed doors.\",\n",
              " 'Arsenal may pull out of the running to sign Raheem Sterling following recent events.',\n",
              " \"Aaron Ramsey's early goal was enough for Arsenal to beat Burnley and move level on points with Manchester City at the top of the Premier League.\",\n",
              " 'Manchester United striker Robin van Persie has reportedly been offered £5million to leave Old Trafford in the summer.',\n",
              " \"She's a best-selling singer, actress, beauty buff and one of the world's most stylish stars.\",\n",
              " \"You killed the car: In one of the film world's best-known scenes, the beloved Ferrari crashes into the ravine below after Cameron accidentally knocks it off the jack.\",\n",
              " 'The dark net is a hidden part of the internet that does not show up in searches or on social media.',\n",
              " 'Britain’s five highest-earning NHS dentists are paid average salaries of £690,000 a year, figures obtained by the Daily Mail show.',\n",
              " \"Voters are still 'in the dark' about the scale and depth of spending cuts being planned by all the main parties with just two weeks until polling day, economic experts warned.\",\n",
              " \"Are Aldi's trainers better than Adidas's?\",\n",
              " 'An apprentice electrician fell off a ladder and died in front of his father after he was electrocuted while testing lights in a factory, an inquest has heard.',\n",
              " 'The England C team is facing the axe after 36 years as part of Greg Dyke’s spending review at the Football Association.',\n",
              " 'British jihadis have posted pictures of junk food and drinks such as Burger King, Pringles and mojitos which they have had carried across the Turkish border into Syria.',\n",
              " 'The pound has slipped to a five-year low against the dollar amid growing uncertainty about the outcome of the general election.',\n",
              " 'A mother-of-two claims her face was left covered in angry red welts after drinking a bottle of Tesco wine which reeked of bleach.',\n",
              " 'The number of firearm licence holders in New South Wales has increased by more than 20 per cent in the last five years.',\n",
              " 'Premier League side West Ham are closing in on the signature of Jamaican starlet DeShane Beckford.',\n",
              " 'The body of Kyle Knox has been found near the foot of Ben Nevis three weeks after he disappeared.',\n",
              " 'An 11-year-old boy with autism has been reported missing in Australia.',\n",
              " \"dash-cam footage has revealed the moment a Florida police officer shouted: 'Get on the f****** ground or you're dead,' moments before he shot a mentally ill man as he was running away.\",\n",
              " 'Mobile phones and tablet computers are becoming dangerous distractions for parents who are supposed to be supervising their children, researchers claim.',\n",
              " 'Nine council workers have been sacked for inappropriately accessing confidential social work files on tragic toddler Mikaeel Kular.',\n",
              " 'An Army recruitment sergeant raped a teenage cadet after telling her he could help her get a visa from the Home Office, a court heard today.',\n",
              " 'Russian president Vladimir Putin said Russia has key interests in common with the United States and needs to work with it on a common agenda.',\n",
              " \"Cristiano Ronaldo looked in formidable form as he showed off his array of skills ahead of Real Madrid's Champions League quarter-final against city rivals Atletico.\",\n",
              " \"A teacher has been banned from the classroom after he let pupils change their exam answers invalidating his whole school's SATs results.\",\n",
              " \"Paris St-Germain striker Zlatan Ibrahimovic has been suspended for the second leg of his side's Champions League quarter-final against Barcelona.\",\n",
              " 'A TV presenter and former model is convinced her teeth - or rather, the dental work done on them - triggered a host of health problems that plagued her for nearly seven years. Yet the 29-year-old broadcaster is convinced her teeth - or rather, the dental work done on them - triggered a host of health problems that plagued her for nearly seven years.',\n",
              " 'A paramedic who pretended he was gay to get close to women before sexually assaulting them has been struck off the medical register.',\n",
              " \"Paris St-Germain face Nice on Saturday, hoping to take Ligue 1's top spot from Lyon but do so with a host of key stars missing, including captain Thiago Silva who is recuperating at home from a thigh injury.\",\n",
              " 'The Pentagon says it has made great progress in its effort to develop a self-steering bullet.']"
            ]
          },
          "metadata": {},
          "execution_count": 39
        }
      ]
    },
    {
      "cell_type": "code",
      "source": [
        "summary[1]"
      ],
      "metadata": {
        "colab": {
          "base_uri": "https://localhost:8080/",
          "height": 53
        },
        "id": "S8tq4bHTv3O-",
        "outputId": "f1c0a2a3-c276-4b73-c6a0-2f69e7f7fd70"
      },
      "execution_count": 48,
      "outputs": [
        {
          "output_type": "execute_result",
          "data": {
            "text/plain": [
              "\"Drunk teenage boy climbed into lion enclosure at zoo in west India .\\nRahul Kumar, 17, ran towards animals shouting 'Today I kill a lion!'\\nFortunately he fell into a moat before reaching lions and was rescued .\""
            ],
            "application/vnd.google.colaboratory.intrinsic+json": {
              "type": "string"
            }
          },
          "metadata": {},
          "execution_count": 48
        }
      ]
    },
    {
      "cell_type": "code",
      "source": [
        "from nltk.translate.bleu_score import sentence_bleu\n",
        "reference = [\n",
        "    \"Censor Board demands removal of phrase Mann Ki Baat in film\".split() \n",
        "]\n",
        "candidate = \"Censor Board has demanded the removal of phrase Mann Ki Baat from a dialogue in film Sameer\".split()\n",
        "\n",
        "print('Individual 1-gram: %f' % sentence_bleu(reference, candidate, weights=(1, 0, 0, 0)))\n",
        "print('Individual 2-gram: %f' % sentence_bleu(reference, candidate, weights=(0, 1, 0, 0)))\n",
        "print('Individual 3-gram: %f' % sentence_bleu(reference, candidate, weights=(0, 0, 1, 0)))\n",
        "print('Individual 4-gram: %f' % sentence_bleu(reference, candidate, weights=(0, 0, 0, 1))) "
      ],
      "metadata": {
        "id": "HRGxTfQ0wFtu"
      },
      "execution_count": null,
      "outputs": []
    },
    {
      "cell_type": "code",
      "source": [
        "from nltk.translate.bleu_score import sentence_bleu\n",
        "\n",
        "def blue_score(summary,Predict_pega):\n",
        " Score = []\n",
        " for i in range(10):\n",
        "    reference = summary[i]\n",
        "    candidate = Predict_pega[i]\n",
        "    o_gram = sentence_bleu(reference, candidate, weights=(0, 0, 1, 0))\n",
        "    Score.append(o_gram)\n",
        "    return Score\n",
        "  #  t_gram = sentence_bleu(reference, candidate, weights=(0, 1, 0, 0))\n",
        "  #  tt_gram = sentence_bleu(reference, candidate, weights=(0, 0, 1, 0))\n",
        "  #  f_gram = sentence_bleu(reference, candidate, weights=(0, 0, 0, 1))"
      ],
      "metadata": {
        "id": "yKOjB7bRwN5G"
      },
      "execution_count": 69,
      "outputs": []
    },
    {
      "cell_type": "code",
      "source": [
        "Score = blue_score(summary,Predict_pega)"
      ],
      "metadata": {
        "colab": {
          "base_uri": "https://localhost:8080/"
        },
        "id": "HWygjLXuw6sz",
        "outputId": "68c249c4-3432-49a9-ff01-244444a001cd"
      },
      "execution_count": 70,
      "outputs": [
        {
          "output_type": "stream",
          "name": "stderr",
          "text": [
            "/usr/local/lib/python3.8/dist-packages/nltk/translate/bleu_score.py:552: UserWarning: \n",
            "The hypothesis contains 0 counts of 2-gram overlaps.\n",
            "Therefore the BLEU score evaluates to 0, independently of\n",
            "how many N-gram overlaps of lower order it contains.\n",
            "Consider using lower n-gram order or use SmoothingFunction()\n",
            "  warnings.warn(_msg)\n",
            "/usr/local/lib/python3.8/dist-packages/nltk/translate/bleu_score.py:552: UserWarning: \n",
            "The hypothesis contains 0 counts of 3-gram overlaps.\n",
            "Therefore the BLEU score evaluates to 0, independently of\n",
            "how many N-gram overlaps of lower order it contains.\n",
            "Consider using lower n-gram order or use SmoothingFunction()\n",
            "  warnings.warn(_msg)\n",
            "/usr/local/lib/python3.8/dist-packages/nltk/translate/bleu_score.py:552: UserWarning: \n",
            "The hypothesis contains 0 counts of 4-gram overlaps.\n",
            "Therefore the BLEU score evaluates to 0, independently of\n",
            "how many N-gram overlaps of lower order it contains.\n",
            "Consider using lower n-gram order or use SmoothingFunction()\n",
            "  warnings.warn(_msg)\n"
          ]
        }
      ]
    },
    {
      "cell_type": "code",
      "source": [
        "Score"
      ],
      "metadata": {
        "colab": {
          "base_uri": "https://localhost:8080/"
        },
        "id": "reOEhNa1toJW",
        "outputId": "81d1458e-6998-42a0-ad55-f324d0b932f4"
      },
      "execution_count": 71,
      "outputs": [
        {
          "output_type": "execute_result",
          "data": {
            "text/plain": [
              "[2.2250738585072626e-308]"
            ]
          },
          "metadata": {},
          "execution_count": 71
        }
      ]
    },
    {
      "cell_type": "code",
      "source": [],
      "metadata": {
        "id": "v1r0rbPwuF2J"
      },
      "execution_count": null,
      "outputs": []
    }
  ]
}